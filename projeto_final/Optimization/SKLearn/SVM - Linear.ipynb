{
 "cells": [
  {
   "cell_type": "code",
   "execution_count": 1,
   "metadata": {},
   "outputs": [],
   "source": [
    "import pandas as pd\n",
    "import matplotlib.pyplot as plt\n",
    "import numpy as np\n",
    "import time\n",
    "from sklearn.metrics import classification_report, confusion_matrix, ConfusionMatrixDisplay\n",
    "from sklearn.model_selection import GridSearchCV\n",
    "from sklearn.model_selection import train_test_split\n",
    "from sklearn.svm import LinearSVC"
   ]
  },
  {
   "cell_type": "code",
   "execution_count": 2,
   "metadata": {},
   "outputs": [
    {
     "data": {
      "text/html": [
       "<div>\n",
       "<style scoped>\n",
       "    .dataframe tbody tr th:only-of-type {\n",
       "        vertical-align: middle;\n",
       "    }\n",
       "\n",
       "    .dataframe tbody tr th {\n",
       "        vertical-align: top;\n",
       "    }\n",
       "\n",
       "    .dataframe thead th {\n",
       "        text-align: right;\n",
       "    }\n",
       "</style>\n",
       "<table border=\"1\" class=\"dataframe\">\n",
       "  <thead>\n",
       "    <tr style=\"text-align: right;\">\n",
       "      <th></th>\n",
       "      <th>duration</th>\n",
       "      <th>orig_bytes</th>\n",
       "      <th>resp_bytes</th>\n",
       "      <th>missed_bytes</th>\n",
       "      <th>orig_pkts</th>\n",
       "      <th>orig_ip_bytes</th>\n",
       "      <th>resp_pkts</th>\n",
       "      <th>resp_ip_bytes</th>\n",
       "      <th>label</th>\n",
       "      <th>proto_icmp</th>\n",
       "      <th>...</th>\n",
       "      <th>conn_state_RSTOS0</th>\n",
       "      <th>conn_state_RSTR</th>\n",
       "      <th>conn_state_RSTRH</th>\n",
       "      <th>conn_state_S0</th>\n",
       "      <th>conn_state_S1</th>\n",
       "      <th>conn_state_S2</th>\n",
       "      <th>conn_state_S3</th>\n",
       "      <th>conn_state_SF</th>\n",
       "      <th>conn_state_SH</th>\n",
       "      <th>conn_state_SHR</th>\n",
       "    </tr>\n",
       "  </thead>\n",
       "  <tbody>\n",
       "    <tr>\n",
       "      <th>0</th>\n",
       "      <td>2.998796</td>\n",
       "      <td>0</td>\n",
       "      <td>0</td>\n",
       "      <td>0.0</td>\n",
       "      <td>3.0</td>\n",
       "      <td>180.0</td>\n",
       "      <td>0.0</td>\n",
       "      <td>0.0</td>\n",
       "      <td>PartOfAHorizontalPortScan</td>\n",
       "      <td>0</td>\n",
       "      <td>...</td>\n",
       "      <td>0</td>\n",
       "      <td>0</td>\n",
       "      <td>0</td>\n",
       "      <td>1</td>\n",
       "      <td>0</td>\n",
       "      <td>0</td>\n",
       "      <td>0</td>\n",
       "      <td>0</td>\n",
       "      <td>0</td>\n",
       "      <td>0</td>\n",
       "    </tr>\n",
       "    <tr>\n",
       "      <th>1</th>\n",
       "      <td>0.000000</td>\n",
       "      <td>0</td>\n",
       "      <td>0</td>\n",
       "      <td>0.0</td>\n",
       "      <td>1.0</td>\n",
       "      <td>60.0</td>\n",
       "      <td>0.0</td>\n",
       "      <td>0.0</td>\n",
       "      <td>PartOfAHorizontalPortScan</td>\n",
       "      <td>0</td>\n",
       "      <td>...</td>\n",
       "      <td>0</td>\n",
       "      <td>0</td>\n",
       "      <td>0</td>\n",
       "      <td>1</td>\n",
       "      <td>0</td>\n",
       "      <td>0</td>\n",
       "      <td>0</td>\n",
       "      <td>0</td>\n",
       "      <td>0</td>\n",
       "      <td>0</td>\n",
       "    </tr>\n",
       "    <tr>\n",
       "      <th>2</th>\n",
       "      <td>0.000000</td>\n",
       "      <td>0</td>\n",
       "      <td>0</td>\n",
       "      <td>0.0</td>\n",
       "      <td>1.0</td>\n",
       "      <td>60.0</td>\n",
       "      <td>0.0</td>\n",
       "      <td>0.0</td>\n",
       "      <td>PartOfAHorizontalPortScan</td>\n",
       "      <td>0</td>\n",
       "      <td>...</td>\n",
       "      <td>0</td>\n",
       "      <td>0</td>\n",
       "      <td>0</td>\n",
       "      <td>1</td>\n",
       "      <td>0</td>\n",
       "      <td>0</td>\n",
       "      <td>0</td>\n",
       "      <td>0</td>\n",
       "      <td>0</td>\n",
       "      <td>0</td>\n",
       "    </tr>\n",
       "    <tr>\n",
       "      <th>3</th>\n",
       "      <td>2.998804</td>\n",
       "      <td>0</td>\n",
       "      <td>0</td>\n",
       "      <td>0.0</td>\n",
       "      <td>3.0</td>\n",
       "      <td>180.0</td>\n",
       "      <td>0.0</td>\n",
       "      <td>0.0</td>\n",
       "      <td>Benign</td>\n",
       "      <td>0</td>\n",
       "      <td>...</td>\n",
       "      <td>0</td>\n",
       "      <td>0</td>\n",
       "      <td>0</td>\n",
       "      <td>1</td>\n",
       "      <td>0</td>\n",
       "      <td>0</td>\n",
       "      <td>0</td>\n",
       "      <td>0</td>\n",
       "      <td>0</td>\n",
       "      <td>0</td>\n",
       "    </tr>\n",
       "    <tr>\n",
       "      <th>4</th>\n",
       "      <td>0.000000</td>\n",
       "      <td>0</td>\n",
       "      <td>0</td>\n",
       "      <td>0.0</td>\n",
       "      <td>1.0</td>\n",
       "      <td>60.0</td>\n",
       "      <td>0.0</td>\n",
       "      <td>0.0</td>\n",
       "      <td>Benign</td>\n",
       "      <td>0</td>\n",
       "      <td>...</td>\n",
       "      <td>0</td>\n",
       "      <td>0</td>\n",
       "      <td>0</td>\n",
       "      <td>1</td>\n",
       "      <td>0</td>\n",
       "      <td>0</td>\n",
       "      <td>0</td>\n",
       "      <td>0</td>\n",
       "      <td>0</td>\n",
       "      <td>0</td>\n",
       "    </tr>\n",
       "    <tr>\n",
       "      <th>...</th>\n",
       "      <td>...</td>\n",
       "      <td>...</td>\n",
       "      <td>...</td>\n",
       "      <td>...</td>\n",
       "      <td>...</td>\n",
       "      <td>...</td>\n",
       "      <td>...</td>\n",
       "      <td>...</td>\n",
       "      <td>...</td>\n",
       "      <td>...</td>\n",
       "      <td>...</td>\n",
       "      <td>...</td>\n",
       "      <td>...</td>\n",
       "      <td>...</td>\n",
       "      <td>...</td>\n",
       "      <td>...</td>\n",
       "      <td>...</td>\n",
       "      <td>...</td>\n",
       "      <td>...</td>\n",
       "      <td>...</td>\n",
       "      <td>...</td>\n",
       "    </tr>\n",
       "    <tr>\n",
       "      <th>399995</th>\n",
       "      <td>0.000000</td>\n",
       "      <td>0</td>\n",
       "      <td>0</td>\n",
       "      <td>0.0</td>\n",
       "      <td>1.0</td>\n",
       "      <td>40.0</td>\n",
       "      <td>0.0</td>\n",
       "      <td>0.0</td>\n",
       "      <td>Okiru</td>\n",
       "      <td>0</td>\n",
       "      <td>...</td>\n",
       "      <td>0</td>\n",
       "      <td>0</td>\n",
       "      <td>0</td>\n",
       "      <td>1</td>\n",
       "      <td>0</td>\n",
       "      <td>0</td>\n",
       "      <td>0</td>\n",
       "      <td>0</td>\n",
       "      <td>0</td>\n",
       "      <td>0</td>\n",
       "    </tr>\n",
       "    <tr>\n",
       "      <th>399996</th>\n",
       "      <td>0.000000</td>\n",
       "      <td>0</td>\n",
       "      <td>0</td>\n",
       "      <td>0.0</td>\n",
       "      <td>1.0</td>\n",
       "      <td>40.0</td>\n",
       "      <td>0.0</td>\n",
       "      <td>0.0</td>\n",
       "      <td>Okiru</td>\n",
       "      <td>0</td>\n",
       "      <td>...</td>\n",
       "      <td>0</td>\n",
       "      <td>0</td>\n",
       "      <td>0</td>\n",
       "      <td>1</td>\n",
       "      <td>0</td>\n",
       "      <td>0</td>\n",
       "      <td>0</td>\n",
       "      <td>0</td>\n",
       "      <td>0</td>\n",
       "      <td>0</td>\n",
       "    </tr>\n",
       "    <tr>\n",
       "      <th>399997</th>\n",
       "      <td>0.000000</td>\n",
       "      <td>0</td>\n",
       "      <td>0</td>\n",
       "      <td>0.0</td>\n",
       "      <td>1.0</td>\n",
       "      <td>40.0</td>\n",
       "      <td>0.0</td>\n",
       "      <td>0.0</td>\n",
       "      <td>Okiru</td>\n",
       "      <td>0</td>\n",
       "      <td>...</td>\n",
       "      <td>0</td>\n",
       "      <td>0</td>\n",
       "      <td>0</td>\n",
       "      <td>1</td>\n",
       "      <td>0</td>\n",
       "      <td>0</td>\n",
       "      <td>0</td>\n",
       "      <td>0</td>\n",
       "      <td>0</td>\n",
       "      <td>0</td>\n",
       "    </tr>\n",
       "    <tr>\n",
       "      <th>399998</th>\n",
       "      <td>0.000000</td>\n",
       "      <td>0</td>\n",
       "      <td>0</td>\n",
       "      <td>0.0</td>\n",
       "      <td>1.0</td>\n",
       "      <td>40.0</td>\n",
       "      <td>0.0</td>\n",
       "      <td>0.0</td>\n",
       "      <td>Okiru</td>\n",
       "      <td>0</td>\n",
       "      <td>...</td>\n",
       "      <td>0</td>\n",
       "      <td>0</td>\n",
       "      <td>0</td>\n",
       "      <td>1</td>\n",
       "      <td>0</td>\n",
       "      <td>0</td>\n",
       "      <td>0</td>\n",
       "      <td>0</td>\n",
       "      <td>0</td>\n",
       "      <td>0</td>\n",
       "    </tr>\n",
       "    <tr>\n",
       "      <th>399999</th>\n",
       "      <td>0.000000</td>\n",
       "      <td>0</td>\n",
       "      <td>0</td>\n",
       "      <td>0.0</td>\n",
       "      <td>1.0</td>\n",
       "      <td>40.0</td>\n",
       "      <td>0.0</td>\n",
       "      <td>0.0</td>\n",
       "      <td>Okiru</td>\n",
       "      <td>0</td>\n",
       "      <td>...</td>\n",
       "      <td>0</td>\n",
       "      <td>0</td>\n",
       "      <td>0</td>\n",
       "      <td>1</td>\n",
       "      <td>0</td>\n",
       "      <td>0</td>\n",
       "      <td>0</td>\n",
       "      <td>0</td>\n",
       "      <td>0</td>\n",
       "      <td>0</td>\n",
       "    </tr>\n",
       "  </tbody>\n",
       "</table>\n",
       "<p>400000 rows × 25 columns</p>\n",
       "</div>"
      ],
      "text/plain": [
       "        duration  orig_bytes  resp_bytes  missed_bytes  orig_pkts  \\\n",
       "0       2.998796           0           0           0.0        3.0   \n",
       "1       0.000000           0           0           0.0        1.0   \n",
       "2       0.000000           0           0           0.0        1.0   \n",
       "3       2.998804           0           0           0.0        3.0   \n",
       "4       0.000000           0           0           0.0        1.0   \n",
       "...          ...         ...         ...           ...        ...   \n",
       "399995  0.000000           0           0           0.0        1.0   \n",
       "399996  0.000000           0           0           0.0        1.0   \n",
       "399997  0.000000           0           0           0.0        1.0   \n",
       "399998  0.000000           0           0           0.0        1.0   \n",
       "399999  0.000000           0           0           0.0        1.0   \n",
       "\n",
       "        orig_ip_bytes  resp_pkts  resp_ip_bytes                      label  \\\n",
       "0               180.0        0.0            0.0  PartOfAHorizontalPortScan   \n",
       "1                60.0        0.0            0.0  PartOfAHorizontalPortScan   \n",
       "2                60.0        0.0            0.0  PartOfAHorizontalPortScan   \n",
       "3               180.0        0.0            0.0                     Benign   \n",
       "4                60.0        0.0            0.0                     Benign   \n",
       "...               ...        ...            ...                        ...   \n",
       "399995           40.0        0.0            0.0                      Okiru   \n",
       "399996           40.0        0.0            0.0                      Okiru   \n",
       "399997           40.0        0.0            0.0                      Okiru   \n",
       "399998           40.0        0.0            0.0                      Okiru   \n",
       "399999           40.0        0.0            0.0                      Okiru   \n",
       "\n",
       "        proto_icmp  ...  conn_state_RSTOS0  conn_state_RSTR  conn_state_RSTRH  \\\n",
       "0                0  ...                  0                0                 0   \n",
       "1                0  ...                  0                0                 0   \n",
       "2                0  ...                  0                0                 0   \n",
       "3                0  ...                  0                0                 0   \n",
       "4                0  ...                  0                0                 0   \n",
       "...            ...  ...                ...              ...               ...   \n",
       "399995           0  ...                  0                0                 0   \n",
       "399996           0  ...                  0                0                 0   \n",
       "399997           0  ...                  0                0                 0   \n",
       "399998           0  ...                  0                0                 0   \n",
       "399999           0  ...                  0                0                 0   \n",
       "\n",
       "        conn_state_S0  conn_state_S1  conn_state_S2  conn_state_S3  \\\n",
       "0                   1              0              0              0   \n",
       "1                   1              0              0              0   \n",
       "2                   1              0              0              0   \n",
       "3                   1              0              0              0   \n",
       "4                   1              0              0              0   \n",
       "...               ...            ...            ...            ...   \n",
       "399995              1              0              0              0   \n",
       "399996              1              0              0              0   \n",
       "399997              1              0              0              0   \n",
       "399998              1              0              0              0   \n",
       "399999              1              0              0              0   \n",
       "\n",
       "        conn_state_SF  conn_state_SH  conn_state_SHR  \n",
       "0                   0              0               0  \n",
       "1                   0              0               0  \n",
       "2                   0              0               0  \n",
       "3                   0              0               0  \n",
       "4                   0              0               0  \n",
       "...               ...            ...             ...  \n",
       "399995              0              0               0  \n",
       "399996              0              0               0  \n",
       "399997              0              0               0  \n",
       "399998              0              0               0  \n",
       "399999              0              0               0  \n",
       "\n",
       "[400000 rows x 25 columns]"
      ]
     },
     "execution_count": 2,
     "metadata": {},
     "output_type": "execute_result"
    }
   ],
   "source": [
    "filepath = \"../Data Preprocessing/iot23_combined.csv\"\n",
    "df = pd.read_csv(filepath, nrows=400000)\n",
    "del df['Unnamed: 0']\n",
    "df"
   ]
  },
  {
   "cell_type": "code",
   "execution_count": 3,
   "metadata": {},
   "outputs": [
    {
     "data": {
      "text/plain": [
       "PartOfAHorizontalPortScan    265875\n",
       "Benign                        56943\n",
       "Okiru                         48352\n",
       "DDoS                          24959\n",
       "Attack                         3814\n",
       "C&C-Torii                        30\n",
       "C&C-HeartBeat                    20\n",
       "C&C                               7\n",
       "Name: label, dtype: int64"
      ]
     },
     "execution_count": 3,
     "metadata": {},
     "output_type": "execute_result"
    }
   ],
   "source": [
    "df['label'].value_counts()"
   ]
  },
  {
   "cell_type": "code",
   "execution_count": 4,
   "metadata": {},
   "outputs": [
    {
     "data": {
      "text/plain": [
       "Index(['duration', 'orig_bytes', 'resp_bytes', 'missed_bytes', 'orig_pkts',\n",
       "       'orig_ip_bytes', 'resp_pkts', 'resp_ip_bytes', 'label', 'proto_icmp',\n",
       "       'proto_tcp', 'proto_udp', 'conn_state_OTH', 'conn_state_REJ',\n",
       "       'conn_state_RSTO', 'conn_state_RSTOS0', 'conn_state_RSTR',\n",
       "       'conn_state_RSTRH', 'conn_state_S0', 'conn_state_S1', 'conn_state_S2',\n",
       "       'conn_state_S3', 'conn_state_SF', 'conn_state_SH', 'conn_state_SHR'],\n",
       "      dtype='object')"
      ]
     },
     "execution_count": 4,
     "metadata": {},
     "output_type": "execute_result"
    }
   ],
   "source": [
    "df.columns"
   ]
  },
  {
   "cell_type": "code",
   "execution_count": 5,
   "metadata": {},
   "outputs": [],
   "source": [
    "X = df[['duration', 'orig_bytes', 'resp_bytes', 'missed_bytes', 'orig_pkts', 'orig_ip_bytes', 'resp_pkts', 'resp_ip_bytes', 'proto_icmp', 'proto_tcp', 'proto_udp', 'conn_state_OTH', 'conn_state_REJ', 'conn_state_RSTO', 'conn_state_RSTOS0', 'conn_state_RSTR', 'conn_state_RSTRH', 'conn_state_S0', 'conn_state_S1', 'conn_state_S2', 'conn_state_S3', 'conn_state_SF', 'conn_state_SH', 'conn_state_SHR']]\n",
    "Y = df['label']"
   ]
  },
  {
   "cell_type": "code",
   "execution_count": 6,
   "metadata": {},
   "outputs": [],
   "source": [
    "X_train, X_test, Y_train, Y_test = train_test_split(X, Y, random_state=10, test_size=0.2)"
   ]
  },
  {
   "cell_type": "code",
   "execution_count": 7,
   "metadata": {},
   "outputs": [
    {
     "name": "stdout",
     "output_type": "stream",
     "text": [
      "{'fit_intercept': [False, True], 'C': array([1.e-09, 1.e-08, 1.e-07, 1.e-06, 1.e-05, 1.e-04, 1.e-03, 1.e-02,\n",
      "       1.e-01, 1.e+00])}\n"
     ]
    }
   ],
   "source": [
    "tuned_parameters  = {\n",
    "    \"fit_intercept\" : [False, True],\n",
    "    \"C\" : np.logspace(start=-9, stop=0, num=10, base=10)\n",
    "}\n",
    "\n",
    "print(tuned_parameters)"
   ]
  },
  {
   "cell_type": "code",
   "execution_count": 8,
   "metadata": {
    "scrolled": false
   },
   "outputs": [
    {
     "name": "stdout",
     "output_type": "stream",
     "text": [
      "Fitting 5 folds for each of 20 candidates, totalling 100 fits\n"
     ]
    },
    {
     "name": "stderr",
     "output_type": "stream",
     "text": [
      "C:\\Users\\marce\\Anaconda2\\envs\\doutorado\\lib\\site-packages\\sklearn\\svm\\_base.py:1206: ConvergenceWarning: Liblinear failed to converge, increase the number of iterations.\n",
      "  warnings.warn(\n"
     ]
    },
    {
     "data": {
      "text/plain": [
       "GridSearchCV(estimator=LinearSVC(verbose=False), n_jobs=8,\n",
       "             param_grid={'C': array([1.e-09, 1.e-08, 1.e-07, 1.e-06, 1.e-05, 1.e-04, 1.e-03, 1.e-02,\n",
       "       1.e-01, 1.e+00]),\n",
       "                         'fit_intercept': [False, True]},\n",
       "             scoring='accuracy', verbose=2)"
      ]
     },
     "execution_count": 8,
     "metadata": {},
     "output_type": "execute_result"
    }
   ],
   "source": [
    "clf = GridSearchCV(LinearSVC(verbose=False), tuned_parameters, scoring=\"accuracy\", n_jobs=8, verbose=2)\n",
    "clf.fit(X_train, Y_train)"
   ]
  },
  {
   "cell_type": "code",
   "execution_count": 9,
   "metadata": {},
   "outputs": [
    {
     "name": "stdout",
     "output_type": "stream",
     "text": [
      "Best score found on development set: 0.797490625\n",
      "\n",
      "Best parameters set found on development set: {'C': 0.001, 'fit_intercept': True}\n",
      "\n",
      "Refit time (in seconds): 269.7992286682129\n",
      "\n",
      "Grid scores on development set:\n",
      "0.670 (+/-0.000207) for {'C': 1e-09, 'fit_intercept': False}\n",
      "0.670 (+/-0.000207) for {'C': 1e-09, 'fit_intercept': True}\n",
      "0.671 (+/-0.000126) for {'C': 1e-08, 'fit_intercept': False}\n",
      "0.671 (+/-0.000123) for {'C': 1e-08, 'fit_intercept': True}\n",
      "0.677 (+/-0.000258) for {'C': 1e-07, 'fit_intercept': False}\n",
      "0.676 (+/-0.000680) for {'C': 1e-07, 'fit_intercept': True}\n",
      "0.688 (+/-0.002647) for {'C': 1e-06, 'fit_intercept': False}\n",
      "0.689 (+/-0.002679) for {'C': 1e-06, 'fit_intercept': True}\n",
      "0.786 (+/-0.003181) for {'C': 1e-05, 'fit_intercept': False}\n",
      "0.785 (+/-0.003559) for {'C': 1e-05, 'fit_intercept': True}\n",
      "0.794 (+/-0.002495) for {'C': 0.0001, 'fit_intercept': False}\n",
      "0.794 (+/-0.002406) for {'C': 0.0001, 'fit_intercept': True}\n",
      "0.797 (+/-0.001103) for {'C': 0.001, 'fit_intercept': False}\n",
      "0.797 (+/-0.001069) for {'C': 0.001, 'fit_intercept': True}\n",
      "0.797 (+/-0.001119) for {'C': 0.01, 'fit_intercept': False}\n",
      "0.796 (+/-0.004913) for {'C': 0.01, 'fit_intercept': True}\n",
      "0.776 (+/-0.048403) for {'C': 0.1, 'fit_intercept': False}\n",
      "0.767 (+/-0.067270) for {'C': 0.1, 'fit_intercept': True}\n",
      "0.720 (+/-0.161065) for {'C': 1.0, 'fit_intercept': False}\n",
      "0.629 (+/-0.233641) for {'C': 1.0, 'fit_intercept': True}\n"
     ]
    }
   ],
   "source": [
    "print(\"Best score found on development set:\", clf.best_score_)\n",
    "\n",
    "print(\"\\nBest parameters set found on development set:\", clf.best_params_)\n",
    "\n",
    "print(\"\\nRefit time (in seconds):\", clf.refit_time_)\n",
    "\n",
    "print(\"\\nGrid scores on development set:\")\n",
    "means = clf.cv_results_[\"mean_test_score\"]\n",
    "stds = clf.cv_results_[\"std_test_score\"]\n",
    "params = clf.cv_results_[\"params\"]\n",
    "for mean, std, param in zip(means, stds, params):\n",
    "    print(\"%0.3f (+/-%0.06f) for %r\" % (mean, std * 2, param))"
   ]
  },
  {
   "cell_type": "code",
   "execution_count": 10,
   "metadata": {},
   "outputs": [
    {
     "data": {
      "text/plain": [
       "Text(0.5, 1.0, 'GridSearchCV results')"
      ]
     },
     "execution_count": 10,
     "metadata": {},
     "output_type": "execute_result"
    },
    {
     "data": {
      "image/png": "[encoded data removed]",
      "text/plain": [
       "<Figure size 1152x1152 with 1 Axes>"
      ]
     },
     "metadata": {
      "needs_background": "light"
     },
     "output_type": "display_data"
    }
   ],
   "source": [
    "x = [str(x) for x in params]\n",
    "y = means\n",
    "err = stds * 2\n",
    "step = 1\n",
    "\n",
    "fig, ax = plt.subplots(figsize=(16,16))\n",
    "plt.style.use('seaborn-whitegrid')\n",
    "plt.errorbar(x[::step], y[::step], yerr=err[::step], fmt='o', color='black', ecolor='lightsalmon', elinewidth=3, capsize=0);\n",
    "plt.xlabel('Parameter(s)')\n",
    "plt.xticks(rotation=90, ha='right')\n",
    "plt.ylabel('Accuracy')\n",
    "min_y = np.floor(10*np.min(y[::step]))/10 - 0.05\n",
    "max_y = np.ceil(10*np.max(y[::step]))/10 + 0.05\n",
    "plt.ylim(min_y,max_y)\n",
    "plt.yticks(np.linspace(min_y, max_y, int(1+(max_y-min_y)*10*2)))\n",
    "plt.title('GridSearchCV results')"
   ]
  },
  {
   "cell_type": "code",
   "execution_count": 11,
   "metadata": {
    "scrolled": false
   },
   "outputs": [
    {
     "name": "stdout",
     "output_type": "stream",
     "text": [
      "Detailed classification report:\n",
      " - The model is trained on the full development set.\n",
      " - The scores are computed on the full evaluation set.\n"
     ]
    },
    {
     "name": "stderr",
     "output_type": "stream",
     "text": [
      "C:\\Users\\marce\\Anaconda2\\envs\\doutorado\\lib\\site-packages\\sklearn\\metrics\\_classification.py:1308: UndefinedMetricWarning: Precision and F-score are ill-defined and being set to 0.0 in labels with no predicted samples. Use `zero_division` parameter to control this behavior.\n",
      "  _warn_prf(average, modifier, msg_start, len(result))\n",
      "C:\\Users\\marce\\Anaconda2\\envs\\doutorado\\lib\\site-packages\\sklearn\\metrics\\_classification.py:1308: UndefinedMetricWarning: Precision and F-score are ill-defined and being set to 0.0 in labels with no predicted samples. Use `zero_division` parameter to control this behavior.\n",
      "  _warn_prf(average, modifier, msg_start, len(result))\n"
     ]
    },
    {
     "name": "stdout",
     "output_type": "stream",
     "text": [
      "                           precision    recall  f1-score   support\n",
      "\n",
      "                   Attack       0.95      0.96      0.96       743\n",
      "                   Benign       0.99      0.88      0.93     11473\n",
      "                      C&C       0.00      0.00      0.00         1\n",
      "            C&C-HeartBeat       0.00      0.00      0.00         3\n",
      "                C&C-Torii       0.00      0.00      0.00         6\n",
      "                     DDoS       0.00      0.00      0.00      4938\n",
      "                    Okiru       0.00      0.00      0.00      9749\n",
      "PartOfAHorizontalPortScan       0.77      1.00      0.87     53087\n",
      "\n",
      "                 accuracy                           0.80     80000\n",
      "                macro avg       0.34      0.35      0.34     80000\n",
      "             weighted avg       0.66      0.80      0.72     80000\n",
      "\n"
     ]
    },
    {
     "name": "stderr",
     "output_type": "stream",
     "text": [
      "C:\\Users\\marce\\Anaconda2\\envs\\doutorado\\lib\\site-packages\\sklearn\\metrics\\_classification.py:1308: UndefinedMetricWarning: Precision and F-score are ill-defined and being set to 0.0 in labels with no predicted samples. Use `zero_division` parameter to control this behavior.\n",
      "  _warn_prf(average, modifier, msg_start, len(result))\n"
     ]
    }
   ],
   "source": [
    "print(\"Detailed classification report:\")\n",
    "print(\" - The model is trained on the full development set.\")\n",
    "print(\" - The scores are computed on the full evaluation set.\")\n",
    "Y_true, Y_pred = Y_test, clf.predict(X_test)\n",
    "print(classification_report(Y_true, Y_pred))"
   ]
  },
  {
   "cell_type": "code",
   "execution_count": 12,
   "metadata": {},
   "outputs": [
    {
     "name": "stdout",
     "output_type": "stream",
     "text": [
      "['PartOfAHorizontalPortScan', 'Benign', 'Okiru', 'DDoS', 'C&C-HeartBeat', 'C&C-Torii', 'C&C', 'Attack']\n"
     ]
    }
   ],
   "source": [
    "labels = df['label'].unique().tolist()\n",
    "#labels.remove('C&C-Mirai')\n",
    "print(labels)"
   ]
  },
  {
   "cell_type": "code",
   "execution_count": 13,
   "metadata": {
    "scrolled": true
   },
   "outputs": [
    {
     "data": {
      "text/plain": [
       "<sklearn.metrics._plot.confusion_matrix.ConfusionMatrixDisplay at 0x1c362006340>"
      ]
     },
     "execution_count": 13,
     "metadata": {},
     "output_type": "execute_result"
    },
    {
     "data": {
      "image/png": "[encoded data removed]",
      "text/plain": [
       "<Figure size 720x720 with 2 Axes>"
      ]
     },
     "metadata": {},
     "output_type": "display_data"
    }
   ],
   "source": [
    "cm = confusion_matrix(Y_true, Y_pred, normalize='true')\n",
    "disp = ConfusionMatrixDisplay(cm, display_labels=labels)\n",
    "\n",
    "fig, ax = plt.subplots(figsize=(10,10))\n",
    "disp.plot(ax=ax,\n",
    "          cmap=plt.cm.Blues,\n",
    "          xticks_rotation=90,\n",
    "          values_format='.1f')"
   ]
  }
 ],
 "metadata": {
  "kernelspec": {
   "display_name": "Python 3 (ipykernel)",
   "language": "python",
   "name": "python3"
  },
  "language_info": {
   "codemirror_mode": {
    "name": "ipython",
    "version": 3
   },
   "file_extension": ".py",
   "mimetype": "text/x-python",
   "name": "python",
   "nbconvert_exporter": "python",
   "pygments_lexer": "ipython3",
   "version": "3.8.12"
  }
 },
 "nbformat": 4,
 "nbformat_minor": 4
}
