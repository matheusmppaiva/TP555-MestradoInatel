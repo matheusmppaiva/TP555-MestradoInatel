{
 "cells": [
  {
   "cell_type": "code",
   "execution_count": 1,
   "id": "Kd-Bm8brf0Fz",
   "metadata": {
    "id": "Kd-Bm8brf0Fz"
   },
   "outputs": [],
   "source": [
    "import numpy as np\n",
    "import pandas as pd\n",
    "import tensorflow as tf\n",
    "import autokeras as ak\n",
    "import json\n",
    "import os\n",
    "import time\n",
    "from datetime import datetime\n",
    "from matplotlib import pyplot\n",
    "from sklearn.metrics import classification_report"
   ]
  },
  {
   "cell_type": "code",
   "execution_count": 2,
   "id": "b324f706",
   "metadata": {},
   "outputs": [
    {
     "name": "stdout",
     "output_type": "stream",
     "text": [
      "Please install GPU version of TensorFlow.\n",
      "\n",
      "TensorFlow version:  2.8.0\n",
      "WARNING:tensorflow:From C:\\Users\\marce\\AppData\\Local\\Temp/ipykernel_21648/4157264796.py:9: is_gpu_available (from tensorflow.python.framework.test_util) is deprecated and will be removed in a future version.\n",
      "Instructions for updating:\n",
      "Use `tf.config.list_physical_devices('GPU')` instead.\n",
      "\n",
      "Is GPU available? False\n",
      "\n",
      "Num GPUs Available:  0\n",
      "\n",
      "Physical Devices:  []\n",
      "\n",
      "Local devices: [name: \"/device:CPU:0\"\n",
      "device_type: \"CPU\"\n",
      "memory_limit: 268435456\n",
      "locality {\n",
      "}\n",
      "incarnation: 17804881998463364778\n",
      "xla_global_id: -1\n",
      "]\n"
     ]
    }
   ],
   "source": [
    "import tensorflow as tf\n",
    "if tf.test.gpu_device_name():\n",
    "    print('Default GPU Device: {}'.format(tf.test.gpu_device_name()))\n",
    "else:\n",
    "    print(\"Please install GPU version of TensorFlow.\")\n",
    "\n",
    "import tensorflow as tf\n",
    "print(\"\\nTensorFlow version: \", tf.__version__)\n",
    "print(\"\\nIs GPU available?\", tf.test.is_gpu_available())\n",
    "print(\"\\nNum GPUs Available: \", len(tf.config.experimental.list_physical_devices('GPU')))\n",
    "print(\"\\nPhysical Devices: \", tf.config.list_physical_devices('GPU'))\n",
    "\n",
    "from tensorflow.python.client import device_lib\n",
    "print(\"\\nLocal devices:\", device_lib.list_local_devices())"
   ]
  },
  {
   "cell_type": "code",
   "execution_count": 3,
   "id": "2229336e",
   "metadata": {},
   "outputs": [],
   "source": [
    "SEED        = 10\n",
    "folder_name = 'filtered_by_label'\n",
    "limit_rows  = None\n",
    "n_cpus      = os.cpu_count()"
   ]
  },
  {
   "cell_type": "code",
   "execution_count": 4,
   "id": "dc175db4",
   "metadata": {
    "scrolled": true
   },
   "outputs": [
    {
     "name": "stdout",
     "output_type": "stream",
     "text": [
      "Execution started at 2022-03-11 03:04:08.\n"
     ]
    }
   ],
   "source": [
    "print(f\"Execution started at {datetime.now().strftime('%Y-%m-%d %H:%M:%S')}.\")"
   ]
  },
  {
   "cell_type": "code",
   "execution_count": 5,
   "id": "951e0af6",
   "metadata": {},
   "outputs": [],
   "source": [
    "def load_csv(subset,folder=folder_name):\n",
    "    if limit_rows is None:\n",
    "        full_filename = f'../../Data Preprocessing/{folder}/iot23_combined_{subset}.csv'\n",
    "    else:\n",
    "        full_filename = f'../../Data Preprocessing/{folder}/iot23_combined_{int(limit_rows/1000)}k_{subset}.csv'\n",
    "    \n",
    "    df = pd.read_table(filepath_or_buffer=full_filename, header=None, sep=',').infer_objects().to_numpy()\n",
    "    \n",
    "    return df.ravel() if df.shape[1] == 1 else df"
   ]
  },
  {
   "cell_type": "code",
   "execution_count": 6,
   "id": "steady-hotel",
   "metadata": {
    "id": "steady-hotel"
   },
   "outputs": [
    {
     "name": "stdout",
     "output_type": "stream",
     "text": [
      "X_train (7014497, 15) \n",
      "y_train (7014497,)\n",
      "X_test (1753625, 15) \n",
      "y_test (1753625,)\n"
     ]
    }
   ],
   "source": [
    "X_train, X_test, y_train, y_test = load_csv('X_train'), load_csv('X_test'), load_csv('y_train'), load_csv('y_test')\n",
    "\n",
    "print('X_train',X_train.shape,'\\ny_train',y_train.shape)\n",
    "print('X_test',X_test.shape,'\\ny_test',y_test.shape)"
   ]
  },
  {
   "cell_type": "code",
   "execution_count": 7,
   "id": "f17060b4",
   "metadata": {},
   "outputs": [],
   "source": [
    "clf = ak.StructuredDataClassifier(overwrite=True, max_trials=10, seed=SEED)"
   ]
  },
  {
   "cell_type": "code",
   "execution_count": 8,
   "id": "f0269ec5",
   "metadata": {
    "scrolled": true
   },
   "outputs": [
    {
     "name": "stdout",
     "output_type": "stream",
     "text": [
      "Trial 10 Complete [01h 38m 28s]\n",
      "val_accuracy: 0.9423704743385315\n",
      "\n",
      "Best val_accuracy So Far: 0.9971530437469482\n",
      "Total elapsed time: 05h 03m 33s\n",
      "INFO:tensorflow:Oracle triggered exit\n",
      "Epoch 1/100\n",
      "27401/27401 [==============================] - 29s 1ms/step - loss: 8.2994 - accuracy: 0.6961\n",
      "Epoch 2/100\n",
      "27401/27401 [==============================] - 29s 1ms/step - loss: 0.5156 - accuracy: 0.8239\n",
      "Epoch 3/100\n",
      "27401/27401 [==============================] - 29s 1ms/step - loss: 0.4029 - accuracy: 0.9101\n",
      "Epoch 4/100\n",
      "27401/27401 [==============================] - 29s 1ms/step - loss: 0.3382 - accuracy: 0.9238\n",
      "Epoch 5/100\n",
      "27401/27401 [==============================] - 29s 1ms/step - loss: 0.2956 - accuracy: 0.9310\n",
      "Epoch 6/100\n",
      "27401/27401 [==============================] - 29s 1ms/step - loss: 0.2650 - accuracy: 0.9370\n",
      "Epoch 7/100\n",
      "27401/27401 [==============================] - 29s 1ms/step - loss: 0.2389 - accuracy: 0.9423\n",
      "Epoch 8/100\n",
      "27401/27401 [==============================] - 29s 1ms/step - loss: 0.2102 - accuracy: 0.9478\n",
      "Epoch 9/100\n",
      "27401/27401 [==============================] - 29s 1ms/step - loss: 0.1845 - accuracy: 0.9516\n",
      "Epoch 10/100\n",
      "27401/27401 [==============================] - 29s 1ms/step - loss: 0.1637 - accuracy: 0.9548\n",
      "Epoch 11/100\n",
      "27401/27401 [==============================] - 29s 1ms/step - loss: 0.1466 - accuracy: 0.9578\n",
      "Epoch 12/100\n",
      "27401/27401 [==============================] - 29s 1ms/step - loss: 0.1312 - accuracy: 0.9609\n",
      "Epoch 13/100\n",
      "27401/27401 [==============================] - 29s 1ms/step - loss: 0.1157 - accuracy: 0.9650\n",
      "Epoch 14/100\n",
      "27401/27401 [==============================] - 29s 1ms/step - loss: 0.1045 - accuracy: 0.9676\n",
      "Epoch 15/100\n",
      "27401/27401 [==============================] - 29s 1ms/step - loss: 0.0953 - accuracy: 0.9699\n",
      "Epoch 16/100\n",
      "27401/27401 [==============================] - 29s 1ms/step - loss: 0.0881 - accuracy: 0.9717\n",
      "Epoch 17/100\n",
      "27401/27401 [==============================] - 29s 1ms/step - loss: 0.0811 - accuracy: 0.9737\n",
      "Epoch 18/100\n",
      "27401/27401 [==============================] - 29s 1ms/step - loss: 0.0761 - accuracy: 0.9755\n",
      "Epoch 19/100\n",
      "27401/27401 [==============================] - 29s 1ms/step - loss: 0.0713 - accuracy: 0.9777\n",
      "Epoch 20/100\n",
      "27401/27401 [==============================] - 29s 1ms/step - loss: 0.0671 - accuracy: 0.9807\n",
      "Epoch 21/100\n",
      "27401/27401 [==============================] - 29s 1ms/step - loss: 0.0628 - accuracy: 0.9838\n",
      "Epoch 22/100\n",
      "27401/27401 [==============================] - 29s 1ms/step - loss: 0.0590 - accuracy: 0.9860\n",
      "Epoch 23/100\n",
      "27401/27401 [==============================] - 29s 1ms/step - loss: 0.0562 - accuracy: 0.9870\n",
      "Epoch 24/100\n",
      "27401/27401 [==============================] - 29s 1ms/step - loss: 0.0540 - accuracy: 0.9879\n",
      "Epoch 25/100\n",
      "27401/27401 [==============================] - 29s 1ms/step - loss: 0.0522 - accuracy: 0.9883\n",
      "Epoch 26/100\n",
      "27401/27401 [==============================] - 29s 1ms/step - loss: 0.0494 - accuracy: 0.9893\n",
      "Epoch 27/100\n",
      "27401/27401 [==============================] - 29s 1ms/step - loss: 0.0469 - accuracy: 0.9898\n",
      "Epoch 28/100\n",
      "27401/27401 [==============================] - 29s 1ms/step - loss: 0.0458 - accuracy: 0.9902\n",
      "Epoch 29/100\n",
      "27401/27401 [==============================] - 29s 1ms/step - loss: 0.0437 - accuracy: 0.9905\n",
      "Epoch 30/100\n",
      "27401/27401 [==============================] - 29s 1ms/step - loss: 0.0421 - accuracy: 0.9910\n",
      "Epoch 31/100\n",
      "27401/27401 [==============================] - 29s 1ms/step - loss: 0.0410 - accuracy: 0.9914\n",
      "Epoch 32/100\n",
      "27401/27401 [==============================] - 29s 1ms/step - loss: 0.0397 - accuracy: 0.9917\n",
      "Epoch 33/100\n",
      "27401/27401 [==============================] - 29s 1ms/step - loss: 0.0390 - accuracy: 0.9918\n",
      "Epoch 34/100\n",
      "27401/27401 [==============================] - 29s 1ms/step - loss: 0.0387 - accuracy: 0.9921\n",
      "Epoch 35/100\n",
      "27401/27401 [==============================] - 29s 1ms/step - loss: 0.0384 - accuracy: 0.9920\n",
      "Epoch 36/100\n",
      "27401/27401 [==============================] - 29s 1ms/step - loss: 0.0373 - accuracy: 0.9921\n",
      "Epoch 37/100\n",
      "27401/27401 [==============================] - 29s 1ms/step - loss: 0.0358 - accuracy: 0.9924\n",
      "Epoch 38/100\n",
      "27401/27401 [==============================] - 29s 1ms/step - loss: 0.0362 - accuracy: 0.9926\n",
      "Epoch 39/100\n",
      "27401/27401 [==============================] - 29s 1ms/step - loss: 0.0346 - accuracy: 0.9929\n",
      "Epoch 40/100\n",
      "27401/27401 [==============================] - 29s 1ms/step - loss: 0.0345 - accuracy: 0.9930\n",
      "Epoch 41/100\n",
      "27401/27401 [==============================] - 29s 1ms/step - loss: 0.0338 - accuracy: 0.9931\n",
      "Epoch 42/100\n",
      "27401/27401 [==============================] - 29s 1ms/step - loss: 0.0324 - accuracy: 0.9933\n",
      "Epoch 43/100\n",
      "27401/27401 [==============================] - 29s 1ms/step - loss: 0.0337 - accuracy: 0.9931\n",
      "Epoch 44/100\n",
      "27401/27401 [==============================] - 29s 1ms/step - loss: 0.0339 - accuracy: 0.9930\n",
      "Epoch 45/100\n",
      "27401/27401 [==============================] - 29s 1ms/step - loss: 0.0324 - accuracy: 0.9935\n",
      "Epoch 46/100\n",
      "27401/27401 [==============================] - 34s 1ms/step - loss: 0.0336 - accuracy: 0.9932\n",
      "Epoch 47/100\n",
      "27401/27401 [==============================] - 30s 1ms/step - loss: 0.0318 - accuracy: 0.9935\n",
      "Epoch 48/100\n",
      "27401/27401 [==============================] - 30s 1ms/step - loss: 0.0312 - accuracy: 0.9937\n",
      "Epoch 49/100\n",
      "27401/27401 [==============================] - 30s 1ms/step - loss: 0.0319 - accuracy: 0.9936\n",
      "Epoch 50/100\n",
      "27401/27401 [==============================] - 30s 1ms/step - loss: 0.0312 - accuracy: 0.9937\n",
      "Epoch 51/100\n",
      "27401/27401 [==============================] - 30s 1ms/step - loss: 0.0312 - accuracy: 0.9937\n",
      "Epoch 52/100\n",
      "27401/27401 [==============================] - 30s 1ms/step - loss: 0.0304 - accuracy: 0.9938\n",
      "Epoch 53/100\n",
      "27401/27401 [==============================] - 30s 1ms/step - loss: 0.0312 - accuracy: 0.9938\n",
      "Epoch 54/100\n",
      "27401/27401 [==============================] - 30s 1ms/step - loss: 0.0330 - accuracy: 0.9931\n",
      "Epoch 55/100\n",
      "27401/27401 [==============================] - 30s 1ms/step - loss: 0.0317 - accuracy: 0.9936\n",
      "Epoch 56/100\n",
      "27401/27401 [==============================] - 30s 1ms/step - loss: 0.0295 - accuracy: 0.9938\n",
      "Epoch 57/100\n",
      "27401/27401 [==============================] - 34s 1ms/step - loss: 0.0303 - accuracy: 0.9938\n",
      "Epoch 58/100\n",
      "27401/27401 [==============================] - 30s 1ms/step - loss: 0.0282 - accuracy: 0.9941\n",
      "Epoch 59/100\n",
      "27401/27401 [==============================] - 30s 1ms/step - loss: 0.0300 - accuracy: 0.9939\n",
      "Epoch 60/100\n",
      "27401/27401 [==============================] - 30s 1ms/step - loss: 0.0305 - accuracy: 0.9939\n",
      "Epoch 61/100\n",
      "27401/27401 [==============================] - 30s 1ms/step - loss: 0.0290 - accuracy: 0.9942\n",
      "Epoch 62/100\n",
      "27401/27401 [==============================] - 30s 1ms/step - loss: 0.0300 - accuracy: 0.9940\n",
      "Epoch 63/100\n",
      "27401/27401 [==============================] - 30s 1ms/step - loss: 0.0300 - accuracy: 0.9941\n",
      "Epoch 64/100\n",
      "27401/27401 [==============================] - 30s 1ms/step - loss: 0.0284 - accuracy: 0.9942\n",
      "Epoch 65/100\n",
      "27401/27401 [==============================] - 30s 1ms/step - loss: 0.0285 - accuracy: 0.9941\n",
      "Epoch 66/100\n",
      "27401/27401 [==============================] - 30s 1ms/step - loss: 0.0311 - accuracy: 0.9936\n",
      "Epoch 67/100\n",
      "27401/27401 [==============================] - 30s 1ms/step - loss: 0.0313 - accuracy: 0.9935\n",
      "Epoch 68/100\n",
      "27401/27401 [==============================] - 30s 1ms/step - loss: 0.0316 - accuracy: 0.9936\n",
      "Epoch 69/100\n",
      "27401/27401 [==============================] - 30s 1ms/step - loss: 0.0311 - accuracy: 0.9938\n",
      "Epoch 70/100\n",
      "27401/27401 [==============================] - 30s 1ms/step - loss: 0.0307 - accuracy: 0.9938\n",
      "Epoch 71/100\n",
      "27401/27401 [==============================] - 30s 1ms/step - loss: 0.0311 - accuracy: 0.9937\n",
      "Epoch 72/100\n",
      "27401/27401 [==============================] - 30s 1ms/step - loss: 0.0303 - accuracy: 0.9937\n",
      "Epoch 73/100\n",
      "27401/27401 [==============================] - 30s 1ms/step - loss: 0.0293 - accuracy: 0.9941\n",
      "Epoch 74/100\n",
      "27401/27401 [==============================] - 30s 1ms/step - loss: 0.0301 - accuracy: 0.9938\n",
      "Epoch 75/100\n"
     ]
    },
    {
     "name": "stdout",
     "output_type": "stream",
     "text": [
      "27401/27401 [==============================] - 30s 1ms/step - loss: 0.0299 - accuracy: 0.9939\n",
      "Epoch 76/100\n",
      "27401/27401 [==============================] - 30s 1ms/step - loss: 0.0294 - accuracy: 0.9940\n",
      "Epoch 77/100\n",
      "27401/27401 [==============================] - 30s 1ms/step - loss: 0.0298 - accuracy: 0.9940\n",
      "Epoch 78/100\n",
      "27401/27401 [==============================] - 30s 1ms/step - loss: 0.0300 - accuracy: 0.9941\n",
      "Epoch 79/100\n",
      "27401/27401 [==============================] - 30s 1ms/step - loss: 0.0300 - accuracy: 0.9940\n",
      "Epoch 80/100\n",
      "27401/27401 [==============================] - 30s 1ms/step - loss: 0.0308 - accuracy: 0.9939\n",
      "Epoch 81/100\n",
      "27401/27401 [==============================] - 30s 1ms/step - loss: 0.0283 - accuracy: 0.9943\n",
      "Epoch 82/100\n",
      "27401/27401 [==============================] - 30s 1ms/step - loss: 0.0295 - accuracy: 0.9942\n",
      "Epoch 83/100\n",
      "27401/27401 [==============================] - 30s 1ms/step - loss: 0.0287 - accuracy: 0.9941\n",
      "Epoch 84/100\n",
      "27401/27401 [==============================] - 30s 1ms/step - loss: 0.0295 - accuracy: 0.9941\n",
      "Epoch 85/100\n",
      "27401/27401 [==============================] - 30s 1ms/step - loss: 0.0284 - accuracy: 0.9943\n",
      "Epoch 86/100\n",
      "27401/27401 [==============================] - 30s 1ms/step - loss: 0.0284 - accuracy: 0.9944\n",
      "Epoch 87/100\n",
      "27401/27401 [==============================] - 30s 1ms/step - loss: 0.0289 - accuracy: 0.9943\n",
      "Epoch 88/100\n",
      "27401/27401 [==============================] - 30s 1ms/step - loss: 0.0290 - accuracy: 0.9943\n",
      "Epoch 89/100\n",
      "27401/27401 [==============================] - 30s 1ms/step - loss: 0.0272 - accuracy: 0.9945\n",
      "Epoch 90/100\n",
      "27401/27401 [==============================] - 30s 1ms/step - loss: 0.0272 - accuracy: 0.9945\n",
      "Epoch 91/100\n",
      "27401/27401 [==============================] - 30s 1ms/step - loss: 0.0287 - accuracy: 0.9944\n",
      "Epoch 92/100\n",
      "27401/27401 [==============================] - 30s 1ms/step - loss: 0.0278 - accuracy: 0.9944\n",
      "Epoch 93/100\n",
      "27401/27401 [==============================] - 30s 1ms/step - loss: 0.0274 - accuracy: 0.9945\n",
      "Epoch 94/100\n",
      "27401/27401 [==============================] - 30s 1ms/step - loss: 0.0276 - accuracy: 0.9945\n",
      "Epoch 95/100\n",
      "27401/27401 [==============================] - 30s 1ms/step - loss: 0.0272 - accuracy: 0.9945\n",
      "Epoch 96/100\n",
      "27401/27401 [==============================] - 30s 1ms/step - loss: 0.0280 - accuracy: 0.9945\n",
      "Epoch 97/100\n",
      "27401/27401 [==============================] - 30s 1ms/step - loss: 0.0266 - accuracy: 0.9947\n",
      "Epoch 98/100\n",
      "27401/27401 [==============================] - 31s 1ms/step - loss: 0.0276 - accuracy: 0.9945\n",
      "Epoch 99/100\n",
      "27401/27401 [==============================] - 33s 1ms/step - loss: 0.0274 - accuracy: 0.9945\n",
      "Epoch 100/100\n",
      "27401/27401 [==============================] - 30s 1ms/step - loss: 0.0277 - accuracy: 0.9946\n",
      "INFO:tensorflow:Assets written to: .\\structured_data_classifier\\best_model\\assets\n",
      "Fitting finished at 2022-03-11 09:03:49.\n"
     ]
    }
   ],
   "source": [
    "early_stopping = tf.keras.callbacks.EarlyStopping(patience=10, min_delta=1e-4)\n",
    "\n",
    "print(f\"Fitting started at {datetime.now().strftime('%Y-%m-%d %H:%M:%S')}.\")\n",
    "\n",
    "clf.fit(X_train, y_train, batch_size=256, callbacks=[early_stopping], epochs=100, validation_split=0.25)\n",
    "\n",
    "print(f\"Fitting finished at {datetime.now().strftime('%Y-%m-%d %H:%M:%S')}.\")"
   ]
  },
  {
   "cell_type": "code",
   "execution_count": 19,
   "id": "2e633c54",
   "metadata": {},
   "outputs": [],
   "source": [
    "output_filename = 'model-autokeras-sdc-filtered_by_label'\n",
    "class_names = ['Benign','DDoS','Okiru','PartOfAHorizontalPortScan']"
   ]
  },
  {
   "cell_type": "code",
   "execution_count": 20,
   "id": "d1447725",
   "metadata": {
    "scrolled": true
   },
   "outputs": [
    {
     "name": "stdout",
     "output_type": "stream",
     "text": [
      "Evaluation started at 2022-03-11 10:23:20.\n",
      "\n",
      "**** AutoKeras evaluation ****\n",
      "6851/6851 [==============================] - 6s 825us/step - loss: 0.0158 - accuracy: 0.9967\n",
      "[0.01575186848640442, 0.9967387318611145]\n",
      "\n",
      "**** Scikit-learn evaluation ****\n",
      "6851/6851 [==============================] - 8s 1ms/step\n",
      "                           precision    recall  f1-score   support\n",
      "\n",
      "                   Benign     0.9975    0.9962    0.9969    852507\n",
      "                     DDoS     0.9998    0.9994    0.9996    433190\n",
      "                    Okiru     0.9113    0.9314    0.9212      2988\n",
      "PartOfAHorizontalPortScan     0.9931    0.9956    0.9944    464940\n",
      "\n",
      "                 accuracy                         0.9967   1753625\n",
      "                macro avg     0.9754    0.9807    0.9780   1753625\n",
      "             weighted avg     0.9967    0.9967    0.9967   1753625\n",
      "\n",
      "Evaluation finished at 2022-03-11 10:23:45.\n"
     ]
    }
   ],
   "source": [
    "print(f\"Evaluation started at {datetime.now().strftime('%Y-%m-%d %H:%M:%S')}.\")\n",
    "\n",
    "print(f'\\n**** AutoKeras evaluation ****')\n",
    "print(clf.evaluate(X_test, y_test, batch_size=256))\n",
    "\n",
    "print(f'\\n**** Scikit-learn evaluation ****')\n",
    "y_pred = [int(x) for x in clf.predict(X_test, batch_size=256)]\n",
    "print(classification_report(y_test, y_pred, digits=4, target_names=class_names, zero_division=0))\n",
    "with open(f'{output_filename}_report.json', 'w') as fp:\n",
    "    json.dump(classification_report(y_test, y_pred, output_dict=True, target_names=class_names, zero_division=0), fp)\n",
    "\n",
    "print(f\"Evaluation finished at {datetime.now().strftime('%Y-%m-%d %H:%M:%S')}.\")"
   ]
  },
  {
   "cell_type": "code",
   "execution_count": 21,
   "id": "ec81d47a",
   "metadata": {},
   "outputs": [],
   "source": [
    "best_model = clf.export_model()"
   ]
  },
  {
   "cell_type": "code",
   "execution_count": 22,
   "id": "ca4ad50a",
   "metadata": {},
   "outputs": [
    {
     "data": {
      "text/plain": [
       "['loss', 'accuracy']"
      ]
     },
     "execution_count": 22,
     "metadata": {},
     "output_type": "execute_result"
    }
   ],
   "source": [
    "best_model.metrics_names"
   ]
  },
  {
   "cell_type": "code",
   "execution_count": 23,
   "id": "a028994f",
   "metadata": {
    "scrolled": false
   },
   "outputs": [
    {
     "name": "stdout",
     "output_type": "stream",
     "text": [
      "Model: \"model\"\n",
      "_________________________________________________________________\n",
      " Layer (type)                Output Shape              Param #   \n",
      "=================================================================\n",
      " input_1 (InputLayer)        [(None, 15)]              0         \n",
      "                                                                 \n",
      " multi_category_encoding (Mu  (None, 15)               0         \n",
      " ltiCategoryEncoding)                                            \n",
      "                                                                 \n",
      " dense (Dense)               (None, 16)                256       \n",
      "                                                                 \n",
      " re_lu (ReLU)                (None, 16)                0         \n",
      "                                                                 \n",
      " dense_1 (Dense)             (None, 64)                1088      \n",
      "                                                                 \n",
      " re_lu_1 (ReLU)              (None, 64)                0         \n",
      "                                                                 \n",
      " dense_2 (Dense)             (None, 4)                 260       \n",
      "                                                                 \n",
      " classification_head_1 (Soft  (None, 4)                0         \n",
      " max)                                                            \n",
      "                                                                 \n",
      "=================================================================\n",
      "Total params: 1,604\n",
      "Trainable params: 1,604\n",
      "Non-trainable params: 0\n",
      "_________________________________________________________________\n"
     ]
    }
   ],
   "source": [
    "best_model.summary()"
   ]
  },
  {
   "cell_type": "code",
   "execution_count": 24,
   "id": "df319d23",
   "metadata": {},
   "outputs": [],
   "source": [
    "with open(f'{output_filename}_model.json', 'w') as fp:\n",
    "    json.dump(best_model.to_json(), fp)"
   ]
  },
  {
   "cell_type": "code",
   "execution_count": 25,
   "id": "e9f8a247",
   "metadata": {},
   "outputs": [
    {
     "data": {
      "image/png": "[encoded data removed]",
      "text/plain": [
       "<IPython.core.display.Image object>"
      ]
     },
     "execution_count": 25,
     "metadata": {},
     "output_type": "execute_result"
    }
   ],
   "source": [
    "tf.keras.utils.plot_model(best_model, to_file=f'{output_filename}.png')"
   ]
  },
  {
   "cell_type": "code",
   "execution_count": 26,
   "id": "9a94f034",
   "metadata": {},
   "outputs": [
    {
     "name": "stdout",
     "output_type": "stream",
     "text": [
      "INFO:tensorflow:Assets written to: model-autokeras-sdc-filtered_by_label\\assets\n"
     ]
    }
   ],
   "source": [
    "best_model.save(f'{output_filename}')"
   ]
  },
  {
   "cell_type": "code",
   "execution_count": 27,
   "id": "dd064505",
   "metadata": {},
   "outputs": [
    {
     "name": "stdout",
     "output_type": "stream",
     "text": [
      "Execution finished at 2022-03-11 10:23:49.\n"
     ]
    }
   ],
   "source": [
    "print(f\"Execution finished at {datetime.now().strftime('%Y-%m-%d %H:%M:%S')}.\")"
   ]
  }
 ],
 "metadata": {
  "accelerator": "GPU",
  "colab": {
   "name": "IoT23 - DNN Opt.ipynb",
   "provenance": []
  },
  "kernelspec": {
   "display_name": "Python 3 (ipykernel)",
   "language": "python",
   "name": "python3"
  },
  "language_info": {
   "codemirror_mode": {
    "name": "ipython",
    "version": 3
   },
   "file_extension": ".py",
   "mimetype": "text/x-python",
   "name": "python",
   "nbconvert_exporter": "python",
   "pygments_lexer": "ipython3",
   "version": "3.9.7"
  }
 },
 "nbformat": 4,
 "nbformat_minor": 5
}
