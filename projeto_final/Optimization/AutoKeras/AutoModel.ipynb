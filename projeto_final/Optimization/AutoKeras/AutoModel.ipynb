{
 "cells": [
  {
   "cell_type": "code",
   "execution_count": 1,
   "id": "Kd-Bm8brf0Fz",
   "metadata": {
    "id": "Kd-Bm8brf0Fz"
   },
   "outputs": [],
   "source": [
    "import numpy as np\n",
    "import pandas as pd\n",
    "import tensorflow as tf\n",
    "import autokeras as ak\n",
    "import json\n",
    "import os\n",
    "import time\n",
    "from datetime import datetime\n",
    "from matplotlib import pyplot\n",
    "from sklearn.metrics import classification_report"
   ]
  },
  {
   "cell_type": "code",
   "execution_count": 2,
   "id": "b324f706",
   "metadata": {},
   "outputs": [
    {
     "name": "stdout",
     "output_type": "stream",
     "text": [
      "Please install GPU version of TensorFlow.\n",
      "\n",
      "TensorFlow version:  2.8.0\n",
      "WARNING:tensorflow:From C:\\Users\\marce\\AppData\\Local\\Temp/ipykernel_17908/4157264796.py:9: is_gpu_available (from tensorflow.python.framework.test_util) is deprecated and will be removed in a future version.\n",
      "Instructions for updating:\n",
      "Use `tf.config.list_physical_devices('GPU')` instead.\n",
      "\n",
      "Is GPU available? False\n",
      "\n",
      "Num GPUs Available:  0\n",
      "\n",
      "Physical Devices:  []\n",
      "\n",
      "Local devices: [name: \"/device:CPU:0\"\n",
      "device_type: \"CPU\"\n",
      "memory_limit: 268435456\n",
      "locality {\n",
      "}\n",
      "incarnation: 802706703021577680\n",
      "xla_global_id: -1\n",
      "]\n"
     ]
    }
   ],
   "source": [
    "import tensorflow as tf\n",
    "if tf.test.gpu_device_name():\n",
    "    print('Default GPU Device: {}'.format(tf.test.gpu_device_name()))\n",
    "else:\n",
    "    print(\"Please install GPU version of TensorFlow.\")\n",
    "\n",
    "import tensorflow as tf\n",
    "print(\"\\nTensorFlow version: \", tf.__version__)\n",
    "print(\"\\nIs GPU available?\", tf.test.is_gpu_available())\n",
    "print(\"\\nNum GPUs Available: \", len(tf.config.experimental.list_physical_devices('GPU')))\n",
    "print(\"\\nPhysical Devices: \", tf.config.list_physical_devices('GPU'))\n",
    "\n",
    "from tensorflow.python.client import device_lib\n",
    "print(\"\\nLocal devices:\", device_lib.list_local_devices())"
   ]
  },
  {
   "cell_type": "code",
   "execution_count": 3,
   "id": "2229336e",
   "metadata": {},
   "outputs": [],
   "source": [
    "SEED        = 10\n",
    "folder_name = 'filtered_by_label'\n",
    "limit_rows  = None\n",
    "n_cpus      = os.cpu_count()"
   ]
  },
  {
   "cell_type": "code",
   "execution_count": 4,
   "id": "dc175db4",
   "metadata": {
    "scrolled": true
   },
   "outputs": [
    {
     "name": "stdout",
     "output_type": "stream",
     "text": [
      "Execution started at 2022-03-11 03:04:06.\n"
     ]
    }
   ],
   "source": [
    "print(f\"Execution started at {datetime.now().strftime('%Y-%m-%d %H:%M:%S')}.\")"
   ]
  },
  {
   "cell_type": "code",
   "execution_count": 5,
   "id": "951e0af6",
   "metadata": {},
   "outputs": [],
   "source": [
    "def load_csv(subset,folder=folder_name):\n",
    "    if limit_rows is None:\n",
    "        full_filename = f'../../Data Preprocessing/{folder}/iot23_combined_{subset}.csv'\n",
    "    else:\n",
    "        full_filename = f'../../Data Preprocessing/{folder}/iot23_combined_{int(limit_rows/1000)}k_{subset}.csv'\n",
    "    \n",
    "    df = pd.read_table(filepath_or_buffer=full_filename, header=None, sep=',').infer_objects().to_numpy()\n",
    "    \n",
    "    return df.ravel() if df.shape[1] == 1 else df"
   ]
  },
  {
   "cell_type": "code",
   "execution_count": 6,
   "id": "steady-hotel",
   "metadata": {
    "id": "steady-hotel"
   },
   "outputs": [
    {
     "name": "stdout",
     "output_type": "stream",
     "text": [
      "X_train (7014497, 15) \n",
      "y_train (7014497,)\n",
      "X_test (1753625, 15) \n",
      "y_test (1753625,)\n"
     ]
    }
   ],
   "source": [
    "X_train, X_test, y_train, y_test = load_csv('X_train'), load_csv('X_test'), load_csv('y_train'), load_csv('y_test')\n",
    "\n",
    "print('X_train',X_train.shape,'\\ny_train',y_train.shape)\n",
    "print('X_test',X_test.shape,'\\ny_test',y_test.shape)"
   ]
  },
  {
   "cell_type": "code",
   "execution_count": 7,
   "id": "f17060b4",
   "metadata": {},
   "outputs": [],
   "source": [
    "clf = ak.AutoModel(inputs=[ak.StructuredDataInput()],\n",
    "                   outputs=[ak.ClassificationHead()],\n",
    "                   overwrite=True,\n",
    "                   max_trials=10,\n",
    "                   seed=SEED\n",
    ")"
   ]
  },
  {
   "cell_type": "code",
   "execution_count": 8,
   "id": "f0269ec5",
   "metadata": {
    "scrolled": true
   },
   "outputs": [
    {
     "name": "stdout",
     "output_type": "stream",
     "text": [
      "Trial 10 Complete [00h 10m 01s]\n",
      "val_loss: 0.07441079616546631\n",
      "\n",
      "Best val_loss So Far: 0.016449101269245148\n",
      "Total elapsed time: 03h 23m 36s\n",
      "INFO:tensorflow:Oracle triggered exit\n",
      "Epoch 1/100\n",
      "27401/27401 [==============================] - 33s 1ms/step - loss: 0.0505 - accuracy: 0.9838\n",
      "Epoch 2/100\n",
      "27401/27401 [==============================] - 32s 1ms/step - loss: 0.0207 - accuracy: 0.9930\n",
      "Epoch 3/100\n",
      "27401/27401 [==============================] - 33s 1ms/step - loss: 0.0203 - accuracy: 0.9932\n",
      "Epoch 4/100\n",
      "27401/27401 [==============================] - 32s 1ms/step - loss: 0.0197 - accuracy: 0.9933\n",
      "Epoch 5/100\n",
      "27401/27401 [==============================] - 33s 1ms/step - loss: 0.0195 - accuracy: 0.9933\n",
      "Epoch 6/100\n",
      "27401/27401 [==============================] - 33s 1ms/step - loss: 0.0192 - accuracy: 0.9934\n",
      "Epoch 7/100\n",
      "27401/27401 [==============================] - 33s 1ms/step - loss: 0.0189 - accuracy: 0.9934\n",
      "Epoch 8/100\n",
      "27401/27401 [==============================] - 33s 1ms/step - loss: 0.0187 - accuracy: 0.9934\n",
      "Epoch 9/100\n",
      "27401/27401 [==============================] - 33s 1ms/step - loss: 0.0185 - accuracy: 0.9935\n",
      "Epoch 10/100\n",
      "27401/27401 [==============================] - 33s 1ms/step - loss: 0.0183 - accuracy: 0.9935\n",
      "Epoch 11/100\n",
      "27401/27401 [==============================] - 32s 1ms/step - loss: 0.0182 - accuracy: 0.9935\n",
      "Epoch 12/100\n",
      "27401/27401 [==============================] - 33s 1ms/step - loss: 0.0180 - accuracy: 0.9935\n",
      "Epoch 13/100\n",
      "27401/27401 [==============================] - 32s 1ms/step - loss: 0.0177 - accuracy: 0.9935\n",
      "Epoch 14/100\n",
      "27401/27401 [==============================] - 33s 1ms/step - loss: 0.0174 - accuracy: 0.9936\n",
      "Epoch 15/100\n",
      "27401/27401 [==============================] - 36s 1ms/step - loss: 0.0171 - accuracy: 0.9936\n",
      "Epoch 16/100\n",
      "27401/27401 [==============================] - 33s 1ms/step - loss: 0.0168 - accuracy: 0.9936\n",
      "Epoch 17/100\n",
      "27401/27401 [==============================] - 33s 1ms/step - loss: 0.0168 - accuracy: 0.9936\n",
      "Epoch 18/100\n",
      "27401/27401 [==============================] - 33s 1ms/step - loss: 0.0163 - accuracy: 0.9937\n",
      "Epoch 19/100\n",
      "27401/27401 [==============================] - 33s 1ms/step - loss: 0.0161 - accuracy: 0.9937\n",
      "Epoch 20/100\n",
      "27401/27401 [==============================] - 32s 1ms/step - loss: 0.0164 - accuracy: 0.9937\n",
      "Epoch 21/100\n",
      "27401/27401 [==============================] - 33s 1ms/step - loss: 0.0158 - accuracy: 0.9938\n",
      "Epoch 22/100\n",
      "27401/27401 [==============================] - 33s 1ms/step - loss: 0.0157 - accuracy: 0.9940\n",
      "Epoch 23/100\n",
      "27401/27401 [==============================] - 33s 1ms/step - loss: 0.0154 - accuracy: 0.9942\n",
      "Epoch 24/100\n",
      "27401/27401 [==============================] - 33s 1ms/step - loss: 0.0153 - accuracy: 0.9944\n",
      "Epoch 25/100\n",
      "27401/27401 [==============================] - 33s 1ms/step - loss: 0.0147 - accuracy: 0.9948\n",
      "Epoch 26/100\n",
      "27401/27401 [==============================] - 33s 1ms/step - loss: 0.0142 - accuracy: 0.9951\n",
      "Epoch 27/100\n",
      "27401/27401 [==============================] - 32s 1ms/step - loss: 0.0138 - accuracy: 0.9954\n",
      "Epoch 28/100\n",
      "27401/27401 [==============================] - 33s 1ms/step - loss: 0.0135 - accuracy: 0.9956\n",
      "Epoch 29/100\n",
      "27401/27401 [==============================] - 33s 1ms/step - loss: 0.0133 - accuracy: 0.9957\n",
      "Epoch 30/100\n",
      "27401/27401 [==============================] - 33s 1ms/step - loss: 0.0131 - accuracy: 0.9958\n",
      "Epoch 31/100\n",
      "27401/27401 [==============================] - 33s 1ms/step - loss: 0.0152 - accuracy: 0.9945\n",
      "Epoch 32/100\n",
      "27401/27401 [==============================] - 33s 1ms/step - loss: 0.0146 - accuracy: 0.9948\n",
      "Epoch 33/100\n",
      "27401/27401 [==============================] - 33s 1ms/step - loss: 0.0141 - accuracy: 0.9954\n",
      "Epoch 34/100\n",
      "27401/27401 [==============================] - 33s 1ms/step - loss: 0.0139 - accuracy: 0.9956\n",
      "Epoch 35/100\n",
      "27401/27401 [==============================] - 33s 1ms/step - loss: 0.0131 - accuracy: 0.9958\n",
      "Epoch 36/100\n",
      "27401/27401 [==============================] - 32s 1ms/step - loss: 0.0148 - accuracy: 0.9956\n",
      "Epoch 37/100\n",
      "27401/27401 [==============================] - 33s 1ms/step - loss: 0.0137 - accuracy: 0.9957\n",
      "Epoch 38/100\n",
      "27401/27401 [==============================] - 33s 1ms/step - loss: 0.0136 - accuracy: 0.9957\n",
      "Epoch 39/100\n",
      "27401/27401 [==============================] - 33s 1ms/step - loss: 0.0129 - accuracy: 0.9961\n",
      "Epoch 40/100\n",
      "27401/27401 [==============================] - 33s 1ms/step - loss: 0.0128 - accuracy: 0.9960\n",
      "Epoch 41/100\n",
      "27401/27401 [==============================] - 33s 1ms/step - loss: 0.0141 - accuracy: 0.9951\n",
      "Epoch 42/100\n",
      "27401/27401 [==============================] - 35s 1ms/step - loss: 0.0149 - accuracy: 0.9948\n",
      "Epoch 43/100\n",
      "27401/27401 [==============================] - 34s 1ms/step - loss: 0.0136 - accuracy: 0.9959\n",
      "Epoch 44/100\n",
      "27401/27401 [==============================] - 33s 1ms/step - loss: 0.0141 - accuracy: 0.9955\n",
      "Epoch 45/100\n",
      "27401/27401 [==============================] - 33s 1ms/step - loss: 0.0137 - accuracy: 0.9959\n",
      "Epoch 46/100\n",
      "27401/27401 [==============================] - 33s 1ms/step - loss: 0.0139 - accuracy: 0.9952\n",
      "Epoch 47/100\n",
      "27401/27401 [==============================] - 33s 1ms/step - loss: 0.0151 - accuracy: 0.9949\n",
      "Epoch 48/100\n",
      "27401/27401 [==============================] - 33s 1ms/step - loss: 0.0161 - accuracy: 0.9961\n",
      "Epoch 49/100\n",
      "27401/27401 [==============================] - 33s 1ms/step - loss: 0.0123 - accuracy: 0.9962\n",
      "Epoch 50/100\n",
      "27401/27401 [==============================] - 33s 1ms/step - loss: 0.0124 - accuracy: 0.9960\n",
      "Epoch 51/100\n",
      "27401/27401 [==============================] - 33s 1ms/step - loss: 0.0130 - accuracy: 0.9956\n",
      "Epoch 52/100\n",
      "27401/27401 [==============================] - 32s 1ms/step - loss: 0.0146 - accuracy: 0.9960\n",
      "Epoch 53/100\n",
      "27401/27401 [==============================] - 33s 1ms/step - loss: 0.0124 - accuracy: 0.9961\n",
      "Epoch 54/100\n",
      "27401/27401 [==============================] - 33s 1ms/step - loss: 0.0146 - accuracy: 0.9947\n",
      "Epoch 55/100\n",
      "27401/27401 [==============================] - 33s 1ms/step - loss: 0.0130 - accuracy: 0.9960\n",
      "Epoch 56/100\n",
      "27401/27401 [==============================] - 33s 1ms/step - loss: 0.0134 - accuracy: 0.9960\n",
      "Epoch 57/100\n",
      "27401/27401 [==============================] - 33s 1ms/step - loss: 0.0156 - accuracy: 0.9940\n",
      "Epoch 58/100\n",
      "27401/27401 [==============================] - 33s 1ms/step - loss: 0.0159 - accuracy: 0.9938\n",
      "Epoch 59/100\n",
      "27401/27401 [==============================] - 32s 1ms/step - loss: 0.0175 - accuracy: 0.9938\n",
      "Epoch 60/100\n",
      "27401/27401 [==============================] - 33s 1ms/step - loss: 0.0155 - accuracy: 0.9939\n",
      "Epoch 61/100\n",
      "27401/27401 [==============================] - 33s 1ms/step - loss: 0.0156 - accuracy: 0.9941\n",
      "Epoch 62/100\n",
      "27401/27401 [==============================] - 37s 1ms/step - loss: 0.0144 - accuracy: 0.9960\n",
      "Epoch 63/100\n",
      "27401/27401 [==============================] - 33s 1ms/step - loss: 0.0146 - accuracy: 0.9947\n",
      "Epoch 64/100\n",
      "27401/27401 [==============================] - 33s 1ms/step - loss: 0.0139 - accuracy: 0.9955\n",
      "Epoch 65/100\n",
      "27401/27401 [==============================] - 33s 1ms/step - loss: 0.0132 - accuracy: 0.9962\n",
      "Epoch 66/100\n",
      "27401/27401 [==============================] - 33s 1ms/step - loss: 0.0126 - accuracy: 0.9964\n",
      "Epoch 67/100\n",
      "27401/27401 [==============================] - 33s 1ms/step - loss: 0.0123 - accuracy: 0.9960\n",
      "Epoch 68/100\n",
      "27401/27401 [==============================] - 32s 1ms/step - loss: 0.0127 - accuracy: 0.9959\n",
      "Epoch 69/100\n",
      "27401/27401 [==============================] - 33s 1ms/step - loss: 0.0126 - accuracy: 0.9964\n",
      "Epoch 70/100\n",
      "27401/27401 [==============================] - 33s 1ms/step - loss: 0.0148 - accuracy: 0.9954\n",
      "Epoch 71/100\n",
      "27401/27401 [==============================] - 33s 1ms/step - loss: 0.0133 - accuracy: 0.9961\n",
      "Epoch 72/100\n",
      "27401/27401 [==============================] - 33s 1ms/step - loss: 0.0145 - accuracy: 0.9958\n",
      "Epoch 73/100\n",
      "27401/27401 [==============================] - 33s 1ms/step - loss: 0.0132 - accuracy: 0.9963\n",
      "Epoch 74/100\n",
      "27401/27401 [==============================] - 33s 1ms/step - loss: 0.0139 - accuracy: 0.9963\n",
      "Epoch 75/100\n",
      "27401/27401 [==============================] - 33s 1ms/step - loss: 0.0154 - accuracy: 0.9965\n",
      "Epoch 76/100\n"
     ]
    },
    {
     "name": "stdout",
     "output_type": "stream",
     "text": [
      "27401/27401 [==============================] - 33s 1ms/step - loss: 0.0130 - accuracy: 0.9965\n",
      "Epoch 77/100\n",
      "27401/27401 [==============================] - 32s 1ms/step - loss: 0.0129 - accuracy: 0.9965\n",
      "Epoch 78/100\n",
      "27401/27401 [==============================] - 33s 1ms/step - loss: 0.0116 - accuracy: 0.9965\n",
      "Epoch 79/100\n",
      "27401/27401 [==============================] - 33s 1ms/step - loss: 0.0116 - accuracy: 0.9965\n",
      "Epoch 80/100\n",
      "27401/27401 [==============================] - 33s 1ms/step - loss: 0.0112 - accuracy: 0.9965\n",
      "Epoch 81/100\n",
      "27401/27401 [==============================] - 33s 1ms/step - loss: 0.0129 - accuracy: 0.9966\n",
      "Epoch 82/100\n",
      "27401/27401 [==============================] - 33s 1ms/step - loss: 0.0127 - accuracy: 0.9965\n",
      "Epoch 83/100\n",
      "27401/27401 [==============================] - 33s 1ms/step - loss: 0.0114 - accuracy: 0.9965\n",
      "Epoch 84/100\n",
      "27401/27401 [==============================] - 32s 1ms/step - loss: 0.0114 - accuracy: 0.9965\n",
      "Epoch 85/100\n",
      "27401/27401 [==============================] - 33s 1ms/step - loss: 0.0119 - accuracy: 0.9965\n",
      "Epoch 86/100\n",
      "27401/27401 [==============================] - 33s 1ms/step - loss: 0.0109 - accuracy: 0.9965\n",
      "Epoch 87/100\n",
      "27401/27401 [==============================] - 33s 1ms/step - loss: 0.0113 - accuracy: 0.9965\n",
      "Epoch 88/100\n",
      "27401/27401 [==============================] - 33s 1ms/step - loss: 0.0115 - accuracy: 0.9965\n",
      "Epoch 89/100\n",
      "27401/27401 [==============================] - 33s 1ms/step - loss: 0.0118 - accuracy: 0.9965\n",
      "Epoch 90/100\n",
      "27401/27401 [==============================] - 33s 1ms/step - loss: 0.0117 - accuracy: 0.9965\n",
      "Epoch 91/100\n",
      "27401/27401 [==============================] - 33s 1ms/step - loss: 0.0121 - accuracy: 0.9965\n",
      "Epoch 92/100\n",
      "27401/27401 [==============================] - 34s 1ms/step - loss: 0.0119 - accuracy: 0.9965\n",
      "Epoch 93/100\n",
      "27401/27401 [==============================] - 35s 1ms/step - loss: 0.0111 - accuracy: 0.9966\n",
      "Epoch 94/100\n",
      "27401/27401 [==============================] - 33s 1ms/step - loss: 0.0114 - accuracy: 0.9965\n",
      "Epoch 95/100\n",
      "27401/27401 [==============================] - 33s 1ms/step - loss: 0.0116 - accuracy: 0.9966\n",
      "Epoch 96/100\n",
      "27401/27401 [==============================] - 33s 1ms/step - loss: 0.0163 - accuracy: 0.9966\n",
      "Epoch 97/100\n",
      "27401/27401 [==============================] - 33s 1ms/step - loss: 0.0120 - accuracy: 0.9965\n",
      "Epoch 98/100\n",
      "27401/27401 [==============================] - 33s 1ms/step - loss: 0.0115 - accuracy: 0.9965\n",
      "Epoch 99/100\n",
      "27401/27401 [==============================] - 33s 1ms/step - loss: 0.0124 - accuracy: 0.9966\n",
      "Epoch 100/100\n",
      "27401/27401 [==============================] - 33s 1ms/step - loss: 0.0122 - accuracy: 0.9966\n",
      "INFO:tensorflow:Assets written to: .\\auto_model\\best_model\\assets\n",
      "Fitting finished at 2022-03-11 07:30:05.\n"
     ]
    }
   ],
   "source": [
    "early_stopping = tf.keras.callbacks.EarlyStopping(patience=10, min_delta=1e-4)\n",
    "\n",
    "print(f\"Fitting started at {datetime.now().strftime('%Y-%m-%d %H:%M:%S')}.\")\n",
    "\n",
    "clf.fit(X_train, y_train, batch_size=256, callbacks=[early_stopping], epochs=100, validation_split=0.25)\n",
    "\n",
    "print(f\"Fitting finished at {datetime.now().strftime('%Y-%m-%d %H:%M:%S')}.\")"
   ]
  },
  {
   "cell_type": "code",
   "execution_count": 35,
   "id": "2e633c54",
   "metadata": {},
   "outputs": [],
   "source": [
    "output_filename = 'model-autokeras-am-filtered_by_label'\n",
    "class_names = ['Benign','DDoS','Okiru','PartOfAHorizontalPortScan']"
   ]
  },
  {
   "cell_type": "code",
   "execution_count": 36,
   "id": "d1447725",
   "metadata": {
    "scrolled": true
   },
   "outputs": [
    {
     "name": "stdout",
     "output_type": "stream",
     "text": [
      "Evaluation started at 2022-03-11 10:23:35.\n",
      "\n",
      "**** AutoKeras evaluation ****\n",
      "6851/6851 [==============================] - 6s 877us/step - loss: 0.0316 - accuracy: 0.9966\n",
      "[0.03158176690340042, 0.9965745210647583]\n",
      "\n",
      "**** Scikit-learn evaluation ****\n",
      "6851/6851 [==============================] - 7s 986us/step\n",
      "                           precision    recall  f1-score   support\n",
      "\n",
      "                   Benign     0.9976    0.9957    0.9967    852507\n",
      "                     DDoS     0.9999    0.9992    0.9996    433190\n",
      "                    Okiru     0.6549    0.8052    0.7223      2988\n",
      "PartOfAHorizontalPortScan     0.9942    0.9970    0.9956    464940\n",
      "\n",
      "                 accuracy                         0.9966   1753625\n",
      "                macro avg     0.9117    0.9493    0.9285   1753625\n",
      "             weighted avg     0.9967    0.9966    0.9966   1753625\n",
      "\n",
      "Evaluation finished at 2022-03-11 10:24:00.\n"
     ]
    }
   ],
   "source": [
    "print(f\"Evaluation started at {datetime.now().strftime('%Y-%m-%d %H:%M:%S')}.\")\n",
    "\n",
    "print(f'\\n**** AutoKeras evaluation ****')\n",
    "print(clf.evaluate(X_test, y_test, batch_size=256))\n",
    "\n",
    "print(f'\\n**** Scikit-learn evaluation ****')\n",
    "y_pred = [int(x) for x in clf.predict(X_test, batch_size=256)]\n",
    "print(classification_report(y_test, y_pred, digits=4, target_names=class_names, zero_division=0))\n",
    "with open(f'{output_filename}_report.json', 'w') as fp:\n",
    "    json.dump(classification_report(y_test, y_pred, output_dict=True, target_names=class_names, zero_division=0), fp)\n",
    "\n",
    "print(f\"Evaluation finished at {datetime.now().strftime('%Y-%m-%d %H:%M:%S')}.\")"
   ]
  },
  {
   "cell_type": "code",
   "execution_count": 37,
   "id": "ec81d47a",
   "metadata": {},
   "outputs": [],
   "source": [
    "best_model = clf.export_model()"
   ]
  },
  {
   "cell_type": "code",
   "execution_count": 38,
   "id": "ca4ad50a",
   "metadata": {},
   "outputs": [
    {
     "data": {
      "text/plain": [
       "['loss', 'accuracy']"
      ]
     },
     "execution_count": 38,
     "metadata": {},
     "output_type": "execute_result"
    }
   ],
   "source": [
    "best_model.metrics_names"
   ]
  },
  {
   "cell_type": "code",
   "execution_count": 39,
   "id": "a028994f",
   "metadata": {
    "scrolled": false
   },
   "outputs": [
    {
     "name": "stdout",
     "output_type": "stream",
     "text": [
      "Model: \"model\"\n",
      "_________________________________________________________________\n",
      " Layer (type)                Output Shape              Param #   \n",
      "=================================================================\n",
      " input_1 (InputLayer)        [(None, 15)]              0         \n",
      "                                                                 \n",
      " multi_category_encoding (Mu  (None, 15)               0         \n",
      " ltiCategoryEncoding)                                            \n",
      "                                                                 \n",
      " normalization (Normalizatio  (None, 15)               31        \n",
      " n)                                                              \n",
      "                                                                 \n",
      " dense (Dense)               (None, 32)                512       \n",
      "                                                                 \n",
      " re_lu (ReLU)                (None, 32)                0         \n",
      "                                                                 \n",
      " dense_1 (Dense)             (None, 32)                1056      \n",
      "                                                                 \n",
      " re_lu_1 (ReLU)              (None, 32)                0         \n",
      "                                                                 \n",
      " dense_2 (Dense)             (None, 4)                 132       \n",
      "                                                                 \n",
      " classification_head_1 (Soft  (None, 4)                0         \n",
      " max)                                                            \n",
      "                                                                 \n",
      "=================================================================\n",
      "Total params: 1,731\n",
      "Trainable params: 1,700\n",
      "Non-trainable params: 31\n",
      "_________________________________________________________________\n"
     ]
    }
   ],
   "source": [
    "best_model.summary()"
   ]
  },
  {
   "cell_type": "code",
   "execution_count": 40,
   "id": "df319d23",
   "metadata": {},
   "outputs": [],
   "source": [
    "with open(f'{output_filename}_model.json', 'w') as fp:\n",
    "    json.dump(best_model.to_json(), fp)"
   ]
  },
  {
   "cell_type": "code",
   "execution_count": 41,
   "id": "e9f8a247",
   "metadata": {},
   "outputs": [
    {
     "data": {
      "image/png": "[encoded data removed]",
      "text/plain": [
       "<IPython.core.display.Image object>"
      ]
     },
     "execution_count": 41,
     "metadata": {},
     "output_type": "execute_result"
    }
   ],
   "source": [
    "tf.keras.utils.plot_model(best_model, to_file=f'{output_filename}.png')"
   ]
  },
  {
   "cell_type": "code",
   "execution_count": 42,
   "id": "9a94f034",
   "metadata": {},
   "outputs": [
    {
     "name": "stdout",
     "output_type": "stream",
     "text": [
      "INFO:tensorflow:Assets written to: model-autokeras-am-filtered_by_label\\assets\n"
     ]
    }
   ],
   "source": [
    "best_model.save(f'{output_filename}')"
   ]
  },
  {
   "cell_type": "code",
   "execution_count": 43,
   "id": "dd064505",
   "metadata": {},
   "outputs": [
    {
     "name": "stdout",
     "output_type": "stream",
     "text": [
      "Execution finished at 2022-03-11 10:24:03.\n"
     ]
    }
   ],
   "source": [
    "print(f\"Execution finished at {datetime.now().strftime('%Y-%m-%d %H:%M:%S')}.\")"
   ]
  }
 ],
 "metadata": {
  "accelerator": "GPU",
  "colab": {
   "name": "IoT23 - DNN Opt.ipynb",
   "provenance": []
  },
  "kernelspec": {
   "display_name": "Python 3 (ipykernel)",
   "language": "python",
   "name": "python3"
  },
  "language_info": {
   "codemirror_mode": {
    "name": "ipython",
    "version": 3
   },
   "file_extension": ".py",
   "mimetype": "text/x-python",
   "name": "python",
   "nbconvert_exporter": "python",
   "pygments_lexer": "ipython3",
   "version": "3.9.7"
  }
 },
 "nbformat": 4,
 "nbformat_minor": 5
}
