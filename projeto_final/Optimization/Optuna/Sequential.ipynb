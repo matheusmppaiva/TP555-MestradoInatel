{
 "cells": [
  {
   "cell_type": "code",
   "execution_count": 1,
   "id": "Kd-Bm8brf0Fz",
   "metadata": {
    "id": "Kd-Bm8brf0Fz"
   },
   "outputs": [
    {
     "name": "stderr",
     "output_type": "stream",
     "text": [
      "Intel(R) Extension for Scikit-learn* enabled (https://github.com/intel/scikit-learn-intelex)\n"
     ]
    }
   ],
   "source": [
    "import matplotlib.pyplot as plt\n",
    "import numpy as np\n",
    "import pandas as pd\n",
    "import json\n",
    "import os\n",
    "import plotly\n",
    "import time\n",
    "import uuid\n",
    "from datetime import datetime\n",
    "from termcolor import colored\n",
    "import optuna\n",
    "import sklearn\n",
    "from sklearnex import patch_sklearn\n",
    "patch_sklearn()"
   ]
  },
  {
   "cell_type": "code",
   "execution_count": 2,
   "id": "2229336e",
   "metadata": {},
   "outputs": [],
   "source": [
    "SEED        = 10\n",
    "folder_name = 'filtered_by_label'\n",
    "limit_rows  = 1000\n",
    "n_cpus      = os.cpu_count()\n",
    "n_parallel  = int(n_cpus/2)\n",
    "uuid        = str(uuid.uuid4())[:8]\n",
    "\n",
    "class_names = ['Benign','DDoS','Okiru','PartOfAHorizontalPortScan']\n",
    "\n",
    "metric_name = \"log_loss\" # can also be \"accuracy\"\n",
    "\n",
    "error_func = {'log_loss' : sklearn.metrics.log_loss,\n",
    "              'accuracy' : sklearn.metrics.accuracy_score}\n",
    "\n",
    "directions = {'log_loss' : 'minimize',\n",
    "              'accuracy' : 'maximize'}"
   ]
  },
  {
   "cell_type": "code",
   "execution_count": 3,
   "id": "81bd35f1",
   "metadata": {},
   "outputs": [
    {
     "name": "stdout",
     "output_type": "stream",
     "text": [
      "Execution started at 2022-03-11 01:13:25.\n"
     ]
    }
   ],
   "source": [
    "print(f\"Execution started at {datetime.now().strftime('%Y-%m-%d %H:%M:%S')}.\")"
   ]
  },
  {
   "cell_type": "code",
   "execution_count": 4,
   "id": "208d5970",
   "metadata": {},
   "outputs": [],
   "source": [
    "def load_csv(subset,folder=folder_name):\n",
    "    if limit_rows is None:\n",
    "        full_filename = f'../../Data Preprocessing/{folder}/iot23_combined_{subset}.csv'\n",
    "    else:\n",
    "        full_filename = f'../../Data Preprocessing/{folder}/iot23_combined_{int(limit_rows/1000)}k_{subset}.csv'\n",
    "    \n",
    "    df = pd.read_table(filepath_or_buffer=full_filename, header=None, sep=',').infer_objects().to_numpy()\n",
    "    \n",
    "    return df.ravel() if df.shape[1] == 1 else df"
   ]
  },
  {
   "cell_type": "code",
   "execution_count": 5,
   "id": "steady-hotel",
   "metadata": {
    "id": "steady-hotel",
    "scrolled": true
   },
   "outputs": [
    {
     "name": "stdout",
     "output_type": "stream",
     "text": [
      "X_train (568, 16) \n",
      "y_train (568,)\n",
      "X_test (143, 16) \n",
      "y_test (143,)\n"
     ]
    }
   ],
   "source": [
    "X_train, X_test, y_train, y_test = load_csv('X_train'), load_csv('X_test'), load_csv('y_train'), load_csv('y_test')\n",
    "\n",
    "print('X_train',X_train.shape,'\\ny_train',y_train.shape)\n",
    "print('X_test',X_test.shape,'\\ny_test',y_test.shape)"
   ]
  },
  {
   "cell_type": "code",
   "execution_count": 6,
   "id": "2d68ae3d",
   "metadata": {},
   "outputs": [],
   "source": [
    "def one_hot_encode_if_necessary(data):\n",
    "    if metric_name == 'log_loss':\n",
    "        code_table = { 0:[1,0,0,0], 1:[0,1,0,0], 2:[0,0,1,0], 3:[0,0,0,1] }\n",
    "        ans = []\n",
    "        for i in range(len(data)):\n",
    "            ans.append(code_table[data[i]])\n",
    "    else:\n",
    "        ans = data\n",
    "    return ans"
   ]
  },
  {
   "cell_type": "code",
   "execution_count": 7,
   "id": "33605b4b",
   "metadata": {},
   "outputs": [],
   "source": [
    "y_test = one_hot_encode_if_necessary(y_test)"
   ]
  },
  {
   "cell_type": "code",
   "execution_count": 8,
   "id": "46a5323f",
   "metadata": {},
   "outputs": [
    {
     "name": "stdout",
     "output_type": "stream",
     "text": [
      "Optimization batch started at 2022-03-11 01:13:25.\n"
     ]
    }
   ],
   "source": [
    "print(f\"Optimization batch started at {datetime.now().strftime('%Y-%m-%d %H:%M:%S')}.\")"
   ]
  },
  {
   "cell_type": "code",
   "execution_count": 9,
   "id": "7367a93c",
   "metadata": {
    "scrolled": true
   },
   "outputs": [
    {
     "name": "stderr",
     "output_type": "stream",
     "text": [
      "C:\\Users\\marce\\anaconda3\\envs\\tf\\lib\\site-packages\\xgboost\\compat.py:36: FutureWarning: pandas.Int64Index is deprecated and will be removed from pandas in a future version. Use pandas.Index with the appropriate dtype instead.\n",
      "  from pandas import MultiIndex, Int64Index\n",
      "\u001b[32m[I 2022-03-11 01:13:25,914]\u001b[0m A new study created in memory with name: no-name-3e90c0f4-4de0-4338-a167-30c1203f3218\u001b[0m\n"
     ]
    },
    {
     "name": "stdout",
     "output_type": "stream",
     "text": [
      "--------------------------------------------------------------------------------\n",
      "--------------------           AdaBoostClassifier           --------------------\n",
      "--------------------------------------------------------------------------------\n",
      "Study optimization started at 2022-03-11 01:13:25.\n"
     ]
    },
    {
     "name": "stderr",
     "output_type": "stream",
     "text": [
      "\u001b[32m[I 2022-03-11 01:13:26,062]\u001b[0m Trial 0 finished with value: 6.279777526347398 and parameters: {'abc_n_estimators': 100, 'abc_learning_rate': 0.0008807701207447168}. Best is trial 0 with value: 6.279777526347398.\u001b[0m\n",
      "\u001b[32m[I 2022-03-11 01:13:26,254]\u001b[0m Trial 1 finished with value: 8.212016765223519 and parameters: {'abc_n_estimators': 130, 'abc_learning_rate': 4.4281689646814e-05}. Best is trial 0 with value: 6.279777526347398.\u001b[0m\n",
      "\u001b[32m[I 2022-03-11 01:13:26,476]\u001b[0m Trial 2 finished with value: 5.072128002049821 and parameters: {'abc_n_estimators': 160, 'abc_learning_rate': 0.013554446444181998}. Best is trial 2 with value: 5.072128002049821.\u001b[0m\n",
      "\u001b[32m[I 2022-03-11 01:13:26,599]\u001b[0m Trial 3 finished with value: 8.212016765223519 and parameters: {'abc_n_estimators': 60, 'abc_learning_rate': 8.977127374931101e-05}. Best is trial 2 with value: 5.072128002049821.\u001b[0m\n",
      "\u001b[32m[I 2022-03-11 01:13:26,775]\u001b[0m Trial 4 finished with value: 6.279777526347398 and parameters: {'abc_n_estimators': 120, 'abc_learning_rate': 0.00025981423720408176}. Best is trial 2 with value: 5.072128002049821.\u001b[0m\n",
      "\u001b[32m[I 2022-03-11 01:13:26,960]\u001b[0m Trial 5 finished with value: 8.212016765223519 and parameters: {'abc_n_estimators': 120, 'abc_learning_rate': 3.714866215663376e-06}. Best is trial 2 with value: 5.072128002049821.\u001b[0m\n",
      "\u001b[32m[I 2022-03-11 01:13:27,131]\u001b[0m Trial 6 finished with value: 8.212016765223519 and parameters: {'abc_n_estimators': 110, 'abc_learning_rate': 1.0448169950627472e-06}. Best is trial 2 with value: 5.072128002049821.\u001b[0m\n",
      "\u001b[32m[I 2022-03-11 01:13:27,335]\u001b[0m Trial 7 finished with value: 8.212016765223519 and parameters: {'abc_n_estimators': 150, 'abc_learning_rate': 3.8321331478700934e-05}. Best is trial 2 with value: 5.072128002049821.\u001b[0m\n",
      "\u001b[32m[I 2022-03-11 01:13:27,576]\u001b[0m Trial 8 finished with value: 6.279777526347398 and parameters: {'abc_n_estimators': 180, 'abc_learning_rate': 0.000412415956739053}. Best is trial 2 with value: 5.072128002049821.\u001b[0m\n",
      "\u001b[32m[I 2022-03-11 01:13:27,740]\u001b[0m Trial 9 finished with value: 8.212016765223519 and parameters: {'abc_n_estimators': 100, 'abc_learning_rate': 8.481059516531252e-06}. Best is trial 2 with value: 5.072128002049821.\u001b[0m\n",
      "\u001b[32m[I 2022-03-11 01:13:27,800]\u001b[0m A new study created in memory with name: no-name-1165ad5a-d2ae-4052-bc30-3d4c1bb99cbd\u001b[0m\n",
      "\u001b[32m[I 2022-03-11 01:13:27,808]\u001b[0m Trial 0 finished with value: 5.555187811768851 and parameters: {'cnb_alpha': 0.2, 'cnb_fit_prior': True, 'cnb_norm': True}. Best is trial 0 with value: 5.555187811768851.\u001b[0m\n",
      "\u001b[32m[I 2022-03-11 01:13:27,873]\u001b[0m Trial 1 finished with value: 5.555187811768851 and parameters: {'cnb_alpha': 0.15000000000000002, 'cnb_fit_prior': True, 'cnb_norm': False}. Best is trial 0 with value: 5.555187811768851.\u001b[0m\n",
      "\u001b[32m[I 2022-03-11 01:13:27,936]\u001b[0m Trial 2 finished with value: 5.313657906909336 and parameters: {'cnb_alpha': 0.2, 'cnb_fit_prior': True, 'cnb_norm': False}. Best is trial 2 with value: 5.313657906909336.\u001b[0m\n"
     ]
    },
    {
     "name": "stdout",
     "output_type": "stream",
     "text": [
      "Study optimization finished at 2022-03-11 01:13:27.\n",
      "--------------------------------------------------------------------------------\n",
      "--------------------              ComplementNB              --------------------\n",
      "--------------------------------------------------------------------------------\n",
      "Study optimization started at 2022-03-11 01:13:27.\n"
     ]
    },
    {
     "name": "stderr",
     "output_type": "stream",
     "text": [
      "\u001b[32m[I 2022-03-11 01:13:28,001]\u001b[0m Trial 3 finished with value: 5.313657906909336 and parameters: {'cnb_alpha': 0.8500000000000001, 'cnb_fit_prior': True, 'cnb_norm': False}. Best is trial 2 with value: 5.313657906909336.\u001b[0m\n",
      "\u001b[32m[I 2022-03-11 01:13:28,065]\u001b[0m Trial 4 finished with value: 5.313657906909336 and parameters: {'cnb_alpha': 0.25, 'cnb_fit_prior': False, 'cnb_norm': False}. Best is trial 2 with value: 5.313657906909336.\u001b[0m\n",
      "\u001b[32m[I 2022-03-11 01:13:28,130]\u001b[0m Trial 5 finished with value: 5.313657906909336 and parameters: {'cnb_alpha': 0.5, 'cnb_fit_prior': False, 'cnb_norm': False}. Best is trial 2 with value: 5.313657906909336.\u001b[0m\n",
      "\u001b[32m[I 2022-03-11 01:13:28,197]\u001b[0m Trial 6 finished with value: 5.313657906909336 and parameters: {'cnb_alpha': 0.35000000000000003, 'cnb_fit_prior': False, 'cnb_norm': False}. Best is trial 2 with value: 5.313657906909336.\u001b[0m\n",
      "\u001b[32m[I 2022-03-11 01:13:28,268]\u001b[0m Trial 7 finished with value: 5.555187811768851 and parameters: {'cnb_alpha': 0.6000000000000001, 'cnb_fit_prior': False, 'cnb_norm': True}. Best is trial 2 with value: 5.313657906909336.\u001b[0m\n",
      "\u001b[32m[I 2022-03-11 01:13:28,337]\u001b[0m Trial 8 finished with value: 5.555187811768851 and parameters: {'cnb_alpha': 0.25, 'cnb_fit_prior': False, 'cnb_norm': True}. Best is trial 2 with value: 5.313657906909336.\u001b[0m\n",
      "\u001b[32m[I 2022-03-11 01:13:28,403]\u001b[0m Trial 9 finished with value: 6.521307431206912 and parameters: {'cnb_alpha': 0.1, 'cnb_fit_prior': True, 'cnb_norm': True}. Best is trial 2 with value: 5.313657906909336.\u001b[0m\n",
      "\u001b[32m[I 2022-03-11 01:13:28,465]\u001b[0m A new study created in memory with name: no-name-b6089fff-b981-432d-ad1a-1d1daeee487b\u001b[0m\n",
      "\u001b[32m[I 2022-03-11 01:13:28,473]\u001b[0m Trial 0 finished with value: 1.9322392388761243 and parameters: {'dtc_criterion': 'entropy', 'dtc_splitter': 'random', 'dtc_min_samples_split': 9, 'dtc_min_samples_leaf': 28, 'dtc_max_features': 13}. Best is trial 0 with value: 1.9322392388761243.\u001b[0m\n",
      "\u001b[32m[I 2022-03-11 01:13:28,538]\u001b[0m Trial 1 finished with value: 10.868845718678187 and parameters: {'dtc_criterion': 'gini', 'dtc_splitter': 'best', 'dtc_min_samples_split': 25, 'dtc_min_samples_leaf': 36, 'dtc_max_features': 1}. Best is trial 0 with value: 1.9322392388761243.\u001b[0m\n",
      "\u001b[32m[I 2022-03-11 01:13:28,603]\u001b[0m Trial 2 finished with value: 1.449179429157094 and parameters: {'dtc_criterion': 'entropy', 'dtc_splitter': 'best', 'dtc_min_samples_split': 39, 'dtc_min_samples_leaf': 21, 'dtc_max_features': 11}. Best is trial 2 with value: 1.449179429157094.\u001b[0m\n"
     ]
    },
    {
     "name": "stdout",
     "output_type": "stream",
     "text": [
      "Study optimization finished at 2022-03-11 01:13:28.\n",
      "--------------------------------------------------------------------------------\n",
      "--------------------         DecisionTreeClassifier         --------------------\n",
      "--------------------------------------------------------------------------------\n",
      "Study optimization started at 2022-03-11 01:13:28.\n"
     ]
    },
    {
     "name": "stderr",
     "output_type": "stream",
     "text": [
      "\u001b[32m[I 2022-03-11 01:13:28,673]\u001b[0m Trial 3 finished with value: 4.347538287471276 and parameters: {'dtc_criterion': 'gini', 'dtc_splitter': 'best', 'dtc_min_samples_split': 12, 'dtc_min_samples_leaf': 42, 'dtc_max_features': 14}. Best is trial 2 with value: 1.449179429157094.\u001b[0m\n",
      "\u001b[32m[I 2022-03-11 01:13:28,743]\u001b[0m Trial 4 finished with value: 0.9661196194380635 and parameters: {'dtc_criterion': 'entropy', 'dtc_splitter': 'best', 'dtc_min_samples_split': 17, 'dtc_min_samples_leaf': 19, 'dtc_max_features': 10}. Best is trial 4 with value: 0.9661196194380635.\u001b[0m\n",
      "\u001b[32m[I 2022-03-11 01:13:28,812]\u001b[0m Trial 5 finished with value: 4.347538287471276 and parameters: {'dtc_criterion': 'entropy', 'dtc_splitter': 'best', 'dtc_min_samples_split': 46, 'dtc_min_samples_leaf': 46, 'dtc_max_features': 15}. Best is trial 4 with value: 0.9661196194380635.\u001b[0m\n",
      "\u001b[32m[I 2022-03-11 01:13:28,881]\u001b[0m Trial 6 finished with value: 7.970486860364004 and parameters: {'dtc_criterion': 'gini', 'dtc_splitter': 'best', 'dtc_min_samples_split': 30, 'dtc_min_samples_leaf': 35, 'dtc_max_features': 3}. Best is trial 4 with value: 0.9661196194380635.\u001b[0m\n",
      "\u001b[32m[I 2022-03-11 01:13:28,946]\u001b[0m Trial 7 finished with value: 1.2076495242975787 and parameters: {'dtc_criterion': 'entropy', 'dtc_splitter': 'random', 'dtc_min_samples_split': 7, 'dtc_min_samples_leaf': 7, 'dtc_max_features': 13}. Best is trial 4 with value: 0.9661196194380635.\u001b[0m\n",
      "\u001b[32m[I 2022-03-11 01:13:29,014]\u001b[0m Trial 8 finished with value: 8.212016765223519 and parameters: {'dtc_criterion': 'entropy', 'dtc_splitter': 'random', 'dtc_min_samples_split': 32, 'dtc_min_samples_leaf': 48, 'dtc_max_features': 5}. Best is trial 4 with value: 0.9661196194380635.\u001b[0m\n",
      "\u001b[32m[I 2022-03-11 01:13:29,083]\u001b[0m Trial 9 finished with value: 0.9661196194380635 and parameters: {'dtc_criterion': 'entropy', 'dtc_splitter': 'best', 'dtc_min_samples_split': 30, 'dtc_min_samples_leaf': 1, 'dtc_max_features': 6}. Best is trial 4 with value: 0.9661196194380635.\u001b[0m\n",
      "\u001b[32m[I 2022-03-11 01:13:29,145]\u001b[0m A new study created in memory with name: no-name-0ca12605-0c04-441e-971b-83d230e86325\u001b[0m\n",
      "\u001b[32m[I 2022-03-11 01:13:29,178]\u001b[0m Trial 0 finished with value: 6.279777526347398 and parameters: {'etc_n_estimators': 20, 'etc_criterion': 'entropy', 'etc_min_samples_split': 25, 'etc_min_samples_leaf': 28, 'etc_max_features': 5, 'etc_bootstrap': True, 'etc_n_jobs': 8}. Best is trial 0 with value: 6.279777526347398.\u001b[0m\n",
      "\u001b[32m[I 2022-03-11 01:13:29,297]\u001b[0m Trial 1 finished with value: 0.7245897145785484 and parameters: {'etc_n_estimators': 50, 'etc_criterion': 'gini', 'etc_min_samples_split': 48, 'etc_min_samples_leaf': 1, 'etc_max_features': 14, 'etc_bootstrap': True, 'etc_n_jobs': 8}. Best is trial 1 with value: 0.7245897145785484.\u001b[0m\n"
     ]
    },
    {
     "name": "stdout",
     "output_type": "stream",
     "text": [
      "Study optimization finished at 2022-03-11 01:13:29.\n",
      "--------------------------------------------------------------------------------\n",
      "--------------------          ExtraTreesClassifier          --------------------\n",
      "--------------------------------------------------------------------------------\n",
      "Study optimization started at 2022-03-11 01:13:29.\n"
     ]
    },
    {
     "name": "stderr",
     "output_type": "stream",
     "text": [
      "\u001b[32m[I 2022-03-11 01:13:29,539]\u001b[0m Trial 2 finished with value: 0.7245897145785484 and parameters: {'etc_n_estimators': 150, 'etc_criterion': 'gini', 'etc_min_samples_split': 22, 'etc_min_samples_leaf': 10, 'etc_max_features': 14, 'etc_bootstrap': True, 'etc_n_jobs': 8}. Best is trial 1 with value: 0.7245897145785484.\u001b[0m\n",
      "\u001b[32m[I 2022-03-11 01:13:29,784]\u001b[0m Trial 3 finished with value: 1.9322392388761243 and parameters: {'etc_n_estimators': 160, 'etc_criterion': 'gini', 'etc_min_samples_split': 19, 'etc_min_samples_leaf': 31, 'etc_max_features': 11, 'etc_bootstrap': False, 'etc_n_jobs': 8}. Best is trial 1 with value: 0.7245897145785484.\u001b[0m\n",
      "\u001b[32m[I 2022-03-11 01:13:30,067]\u001b[0m Trial 4 finished with value: 6.279777526347398 and parameters: {'etc_n_estimators': 140, 'etc_criterion': 'entropy', 'etc_min_samples_split': 16, 'etc_min_samples_leaf': 31, 'etc_max_features': 9, 'etc_bootstrap': True, 'etc_n_jobs': 8}. Best is trial 1 with value: 0.7245897145785484.\u001b[0m\n",
      "\u001b[32m[I 2022-03-11 01:13:30,227]\u001b[0m Trial 5 finished with value: 1.9322392388761243 and parameters: {'etc_n_estimators': 50, 'etc_criterion': 'entropy', 'etc_min_samples_split': 16, 'etc_min_samples_leaf': 20, 'etc_max_features': 11, 'etc_bootstrap': True, 'etc_n_jobs': 8}. Best is trial 1 with value: 0.7245897145785484.\u001b[0m\n",
      "\u001b[32m[I 2022-03-11 01:13:30,475]\u001b[0m Trial 6 finished with value: 0.7245897145785484 and parameters: {'etc_n_estimators': 160, 'etc_criterion': 'entropy', 'etc_min_samples_split': 35, 'etc_min_samples_leaf': 6, 'etc_max_features': 6, 'etc_bootstrap': False, 'etc_n_jobs': 8}. Best is trial 1 with value: 0.7245897145785484.\u001b[0m\n",
      "\u001b[32m[I 2022-03-11 01:13:30,591]\u001b[0m Trial 7 finished with value: 4.830598097190307 and parameters: {'etc_n_estimators': 20, 'etc_criterion': 'entropy', 'etc_min_samples_split': 34, 'etc_min_samples_leaf': 10, 'etc_max_features': 4, 'etc_bootstrap': True, 'etc_n_jobs': 8}. Best is trial 1 with value: 0.7245897145785484.\u001b[0m\n",
      "\u001b[32m[I 2022-03-11 01:13:30,730]\u001b[0m Trial 8 finished with value: 5.072128002049821 and parameters: {'etc_n_estimators': 60, 'etc_criterion': 'entropy', 'etc_min_samples_split': 48, 'etc_min_samples_leaf': 18, 'etc_max_features': 3, 'etc_bootstrap': False, 'etc_n_jobs': 8}. Best is trial 1 with value: 0.7245897145785484.\u001b[0m\n",
      "\u001b[32m[I 2022-03-11 01:13:30,827]\u001b[0m Trial 9 finished with value: 1.9322392388761243 and parameters: {'etc_n_estimators': 10, 'etc_criterion': 'gini', 'etc_min_samples_split': 2, 'etc_min_samples_leaf': 34, 'etc_max_features': 13, 'etc_bootstrap': False, 'etc_n_jobs': 8}. Best is trial 1 with value: 0.7245897145785484.\u001b[0m\n",
      "\u001b[32m[I 2022-03-11 01:13:30,904]\u001b[0m A new study created in memory with name: no-name-7abbf284-c230-4fa1-8485-cdc47a6e3fd5\u001b[0m\n",
      "\u001b[32m[I 2022-03-11 01:13:30,915]\u001b[0m Trial 0 finished with value: 5.313657906909336 and parameters: {'gnb_var_smoothing': 5.367060946126148e-06}. Best is trial 0 with value: 5.313657906909336.\u001b[0m\n",
      "\u001b[32m[I 2022-03-11 01:13:30,998]\u001b[0m Trial 1 finished with value: 5.313657906909336 and parameters: {'gnb_var_smoothing': 0.06146476773338025}. Best is trial 0 with value: 5.313657906909336.\u001b[0m\n",
      "\u001b[32m[I 2022-03-11 01:13:31,078]\u001b[0m Trial 2 finished with value: 6.521307431206913 and parameters: {'gnb_var_smoothing': 4.166581581355303e-12}. Best is trial 0 with value: 5.313657906909336.\u001b[0m\n"
     ]
    },
    {
     "name": "stdout",
     "output_type": "stream",
     "text": [
      "Study optimization finished at 2022-03-11 01:13:30.\n",
      "--------------------------------------------------------------------------------\n",
      "--------------------               GaussianNB               --------------------\n",
      "--------------------------------------------------------------------------------\n",
      "Study optimization started at 2022-03-11 01:13:30.\n"
     ]
    },
    {
     "name": "stderr",
     "output_type": "stream",
     "text": [
      "\u001b[32m[I 2022-03-11 01:13:31,161]\u001b[0m Trial 3 finished with value: 5.555187811768851 and parameters: {'gnb_var_smoothing': 1.482735370721972e-11}. Best is trial 0 with value: 5.313657906909336.\u001b[0m\n",
      "\u001b[32m[I 2022-03-11 01:13:31,244]\u001b[0m Trial 4 finished with value: 6.279777526347398 and parameters: {'gnb_var_smoothing': 6.183738218714873}. Best is trial 0 with value: 5.313657906909336.\u001b[0m\n",
      "\u001b[32m[I 2022-03-11 01:13:31,329]\u001b[0m Trial 5 finished with value: 5.313657906909336 and parameters: {'gnb_var_smoothing': 3.2341451981293346e-10}. Best is trial 0 with value: 5.313657906909336.\u001b[0m\n",
      "\u001b[32m[I 2022-03-11 01:13:31,411]\u001b[0m Trial 6 finished with value: 6.521307431206913 and parameters: {'gnb_var_smoothing': 4.281400666633523e-12}. Best is trial 0 with value: 5.313657906909336.\u001b[0m\n",
      "\u001b[32m[I 2022-03-11 01:13:31,492]\u001b[0m Trial 7 finished with value: 5.313657906909336 and parameters: {'gnb_var_smoothing': 0.000506000431078267}. Best is trial 0 with value: 5.313657906909336.\u001b[0m\n",
      "\u001b[32m[I 2022-03-11 01:13:31,576]\u001b[0m Trial 8 finished with value: 14.733324196430429 and parameters: {'gnb_var_smoothing': 25.992821051134285}. Best is trial 0 with value: 5.313657906909336.\u001b[0m\n",
      "\u001b[32m[I 2022-03-11 01:13:31,661]\u001b[0m Trial 9 finished with value: 6.762837336066428 and parameters: {'gnb_var_smoothing': 2.8574270910952664e-12}. Best is trial 0 with value: 5.313657906909336.\u001b[0m\n",
      "\u001b[32m[I 2022-03-11 01:13:31,737]\u001b[0m A new study created in memory with name: no-name-d1f2b07c-1483-49d5-968c-7a2f36c36073\u001b[0m\n"
     ]
    },
    {
     "name": "stdout",
     "output_type": "stream",
     "text": [
      "Study optimization finished at 2022-03-11 01:13:31.\n",
      "--------------------------------------------------------------------------------\n",
      "--------------------     HistGradientBoostingClassifier     --------------------\n",
      "--------------------------------------------------------------------------------\n",
      "Study optimization started at 2022-03-11 01:13:31.\n"
     ]
    },
    {
     "name": "stderr",
     "output_type": "stream",
     "text": [
      "\u001b[32m[I 2022-03-11 01:13:36,410]\u001b[0m Trial 0 finished with value: 0.7245897145785484 and parameters: {'hgbc_learning_rate': 0.006274062951042754, 'hgbc_max_iter': 1000, 'hgbc_min_samples_leaf': 30, 'hgbc_l2_regularization': 0.0, 'hgbc_max_bins': 63, 'hgbc_early_stopping': True, 'hgbc_validation_fraction': 0.25, 'hgbc_n_iter_no_change': 10}. Best is trial 0 with value: 0.7245897145785484.\u001b[0m\n",
      "\u001b[32m[I 2022-03-11 01:13:43,523]\u001b[0m Trial 1 finished with value: 0.7245897145785484 and parameters: {'hgbc_learning_rate': 0.0034711891390715936, 'hgbc_max_iter': 1000, 'hgbc_min_samples_leaf': 15, 'hgbc_l2_regularization': 1.0, 'hgbc_max_bins': 63, 'hgbc_early_stopping': True, 'hgbc_validation_fraction': 0.25, 'hgbc_n_iter_no_change': 10}. Best is trial 0 with value: 0.7245897145785484.\u001b[0m\n",
      "\u001b[32m[I 2022-03-11 01:13:46,538]\u001b[0m Trial 2 finished with value: 0.7245897145785484 and parameters: {'hgbc_learning_rate': 0.03097614802571277, 'hgbc_max_iter': 1000, 'hgbc_min_samples_leaf': 33, 'hgbc_l2_regularization': 0.8, 'hgbc_max_bins': 127, 'hgbc_early_stopping': True, 'hgbc_validation_fraction': 0.25, 'hgbc_n_iter_no_change': 10}. Best is trial 0 with value: 0.7245897145785484.\u001b[0m\n",
      "\u001b[32m[I 2022-03-11 01:13:46,761]\u001b[0m Trial 3 finished with value: 0.7245897145785484 and parameters: {'hgbc_learning_rate': 0.559964970039173, 'hgbc_max_iter': 1000, 'hgbc_min_samples_leaf': 6, 'hgbc_l2_regularization': 0.2, 'hgbc_max_bins': 255, 'hgbc_early_stopping': True, 'hgbc_validation_fraction': 0.25, 'hgbc_n_iter_no_change': 10}. Best is trial 0 with value: 0.7245897145785484.\u001b[0m\n",
      "\u001b[32m[I 2022-03-11 01:13:47,883]\u001b[0m Trial 4 finished with value: 0.7245897145785484 and parameters: {'hgbc_learning_rate': 0.1448867818119708, 'hgbc_max_iter': 1000, 'hgbc_min_samples_leaf': 18, 'hgbc_l2_regularization': 0.8, 'hgbc_max_bins': 127, 'hgbc_early_stopping': True, 'hgbc_validation_fraction': 0.25, 'hgbc_n_iter_no_change': 10}. Best is trial 0 with value: 0.7245897145785484.\u001b[0m\n",
      "\u001b[32m[I 2022-03-11 01:13:50,589]\u001b[0m Trial 5 finished with value: 0.7245897145785484 and parameters: {'hgbc_learning_rate': 0.016856107506080742, 'hgbc_max_iter': 1000, 'hgbc_min_samples_leaf': 42, 'hgbc_l2_regularization': 0.4, 'hgbc_max_bins': 63, 'hgbc_early_stopping': True, 'hgbc_validation_fraction': 0.25, 'hgbc_n_iter_no_change': 10}. Best is trial 0 with value: 0.7245897145785484.\u001b[0m\n",
      "\u001b[32m[I 2022-03-11 01:13:53,076]\u001b[0m Trial 6 finished with value: 0.7245897145785484 and parameters: {'hgbc_learning_rate': 0.012821758678863695, 'hgbc_max_iter': 1000, 'hgbc_min_samples_leaf': 20, 'hgbc_l2_regularization': 1.0, 'hgbc_max_bins': 255, 'hgbc_early_stopping': True, 'hgbc_validation_fraction': 0.25, 'hgbc_n_iter_no_change': 10}. Best is trial 0 with value: 0.7245897145785484.\u001b[0m\n",
      "\u001b[32m[I 2022-03-11 01:13:53,333]\u001b[0m Trial 7 finished with value: 0.7245897145785484 and parameters: {'hgbc_learning_rate': 0.42479410724139205, 'hgbc_max_iter': 1000, 'hgbc_min_samples_leaf': 24, 'hgbc_l2_regularization': 0.8, 'hgbc_max_bins': 127, 'hgbc_early_stopping': True, 'hgbc_validation_fraction': 0.25, 'hgbc_n_iter_no_change': 10}. Best is trial 0 with value: 0.7245897145785484.\u001b[0m\n",
      "\u001b[32m[I 2022-03-11 01:13:59,254]\u001b[0m Trial 8 finished with value: 0.7245897145785484 and parameters: {'hgbc_learning_rate': 0.007413320188451919, 'hgbc_max_iter': 1000, 'hgbc_min_samples_leaf': 38, 'hgbc_l2_regularization': 0.2, 'hgbc_max_bins': 127, 'hgbc_early_stopping': True, 'hgbc_validation_fraction': 0.25, 'hgbc_n_iter_no_change': 10}. Best is trial 0 with value: 0.7245897145785484.\u001b[0m\n",
      "\u001b[32m[I 2022-03-11 01:13:59,810]\u001b[0m Trial 9 finished with value: 0.7245897145785484 and parameters: {'hgbc_learning_rate': 0.06687181041204818, 'hgbc_max_iter': 1000, 'hgbc_min_samples_leaf': 48, 'hgbc_l2_regularization': 0.2, 'hgbc_max_bins': 63, 'hgbc_early_stopping': True, 'hgbc_validation_fraction': 0.25, 'hgbc_n_iter_no_change': 10}. Best is trial 0 with value: 0.7245897145785484.\u001b[0m\n",
      "\u001b[32m[I 2022-03-11 01:13:59,889]\u001b[0m A new study created in memory with name: no-name-016a951d-6832-4142-ace5-5806169c4c0b\u001b[0m\n",
      "\u001b[32m[I 2022-03-11 01:13:59,905]\u001b[0m Trial 0 finished with value: 6.521307431206913 and parameters: {'lda_solver': 'eigen', 'lda_shrinkage': 'auto', 'lda_n_components': 3, 'lda_tol': 0.001}. Best is trial 0 with value: 6.521307431206913.\u001b[0m\n",
      "\u001b[32m[I 2022-03-11 01:13:59,991]\u001b[0m Trial 1 finished with value: 6.521307431206913 and parameters: {'lda_solver': 'lsqr', 'lda_shrinkage': 'auto', 'lda_n_components': 3, 'lda_tol': 0.0001}. Best is trial 0 with value: 6.521307431206913.\u001b[0m\n",
      "\u001b[32m[I 2022-03-11 01:14:00,080]\u001b[0m Trial 2 finished with value: 6.521307431206913 and parameters: {'lda_solver': 'eigen', 'lda_shrinkage': 'auto', 'lda_n_components': 2, 'lda_tol': 1e-05}. Best is trial 0 with value: 6.521307431206913.\u001b[0m\n"
     ]
    },
    {
     "name": "stdout",
     "output_type": "stream",
     "text": [
      "Study optimization finished at 2022-03-11 01:13:59.\n",
      "--------------------------------------------------------------------------------\n",
      "--------------------       LinearDiscriminantAnalysis       --------------------\n",
      "--------------------------------------------------------------------------------\n",
      "Study optimization started at 2022-03-11 01:13:59.\n"
     ]
    },
    {
     "name": "stderr",
     "output_type": "stream",
     "text": [
      "\u001b[32m[I 2022-03-11 01:14:00,165]\u001b[0m Trial 3 finished with value: 6.521307431206913 and parameters: {'lda_solver': 'svd', 'lda_n_components': 1}. Best is trial 0 with value: 6.521307431206913.\u001b[0m\n",
      "\u001b[32m[I 2022-03-11 01:14:00,250]\u001b[0m Trial 4 finished with value: 6.521307431206913 and parameters: {'lda_solver': 'svd', 'lda_n_components': 1}. Best is trial 0 with value: 6.521307431206913.\u001b[0m\n",
      "\u001b[32m[I 2022-03-11 01:14:00,335]\u001b[0m Trial 5 finished with value: 6.521307431206913 and parameters: {'lda_solver': 'lsqr', 'lda_shrinkage': 'auto', 'lda_n_components': 3, 'lda_tol': 0.0001}. Best is trial 0 with value: 6.521307431206913.\u001b[0m\n",
      "\u001b[32m[I 2022-03-11 01:14:00,416]\u001b[0m Trial 6 finished with value: 6.521307431206913 and parameters: {'lda_solver': 'eigen', 'lda_shrinkage': 'auto', 'lda_n_components': 2, 'lda_tol': 0.001}. Best is trial 0 with value: 6.521307431206913.\u001b[0m\n",
      "\u001b[32m[I 2022-03-11 01:14:00,500]\u001b[0m Trial 7 finished with value: 6.521307431206913 and parameters: {'lda_solver': 'svd', 'lda_n_components': 2}. Best is trial 0 with value: 6.521307431206913.\u001b[0m\n",
      "\u001b[32m[I 2022-03-11 01:14:00,584]\u001b[0m Trial 8 finished with value: 6.521307431206913 and parameters: {'lda_solver': 'eigen', 'lda_shrinkage': 'auto', 'lda_n_components': 3, 'lda_tol': 0.0001}. Best is trial 0 with value: 6.521307431206913.\u001b[0m\n",
      "\u001b[32m[I 2022-03-11 01:14:00,662]\u001b[0m Trial 9 finished with value: 6.521307431206913 and parameters: {'lda_solver': 'lsqr', 'lda_shrinkage': 'auto', 'lda_n_components': 1, 'lda_tol': 1e-05}. Best is trial 0 with value: 6.521307431206913.\u001b[0m\n",
      "\u001b[32m[I 2022-03-11 01:14:00,729]\u001b[0m A new study created in memory with name: no-name-fc9155c5-d97c-462c-a6f1-89ba7ea3797e\u001b[0m\n",
      "\u001b[32m[I 2022-03-11 01:14:00,743]\u001b[0m Trial 0 finished with value: 6.279777526347398 and parameters: {'lsvc_ac2s_kernel_sample_steps': 3, 'lsvc_ac2s_dual': False, 'lsvc_ac2s_C': 0.0022249278936784093, 'lsvc_ac2s_max_iter': 1000}. Best is trial 0 with value: 6.279777526347398.\u001b[0m\n",
      "\u001b[32m[I 2022-03-11 01:14:00,817]\u001b[0m Trial 1 finished with value: 14.733324196430429 and parameters: {'lsvc_ac2s_kernel_sample_steps': 3, 'lsvc_ac2s_dual': False, 'lsvc_ac2s_C': 9.272508196449058e-05, 'lsvc_ac2s_max_iter': 1000}. Best is trial 0 with value: 6.279777526347398.\u001b[0m\n",
      "\u001b[32m[I 2022-03-11 01:14:00,891]\u001b[0m Trial 2 finished with value: 14.733324196430429 and parameters: {'lsvc_ac2s_kernel_sample_steps': 1, 'lsvc_ac2s_dual': False, 'lsvc_ac2s_C': 9.91752848532149e-05, 'lsvc_ac2s_max_iter': 1000}. Best is trial 0 with value: 6.279777526347398.\u001b[0m\n"
     ]
    },
    {
     "name": "stdout",
     "output_type": "stream",
     "text": [
      "Study optimization finished at 2022-03-11 01:14:00.\n",
      "--------------------------------------------------------------------------------\n",
      "--------------------     LinearSVC_AdditiveChi2Sampler      --------------------\n",
      "--------------------------------------------------------------------------------\n",
      "Study optimization started at 2022-03-11 01:14:00.\n"
     ]
    },
    {
     "name": "stderr",
     "output_type": "stream",
     "text": [
      "\u001b[32m[I 2022-03-11 01:14:00,966]\u001b[0m Trial 3 finished with value: 14.733324196430429 and parameters: {'lsvc_ac2s_kernel_sample_steps': 2, 'lsvc_ac2s_dual': False, 'lsvc_ac2s_C': 0.0001328843925518538, 'lsvc_ac2s_max_iter': 1000}. Best is trial 0 with value: 6.279777526347398.\u001b[0m\n",
      "\u001b[32m[I 2022-03-11 01:14:01,042]\u001b[0m Trial 4 finished with value: 14.733324196430429 and parameters: {'lsvc_ac2s_kernel_sample_steps': 2, 'lsvc_ac2s_dual': False, 'lsvc_ac2s_C': 9.357647387120442e-06, 'lsvc_ac2s_max_iter': 1000}. Best is trial 0 with value: 6.279777526347398.\u001b[0m\n",
      "\u001b[32m[I 2022-03-11 01:14:01,118]\u001b[0m Trial 5 finished with value: 14.733324196430429 and parameters: {'lsvc_ac2s_kernel_sample_steps': 1, 'lsvc_ac2s_dual': False, 'lsvc_ac2s_C': 2.8411923021591342e-05, 'lsvc_ac2s_max_iter': 1000}. Best is trial 0 with value: 6.279777526347398.\u001b[0m\n",
      "\u001b[32m[I 2022-03-11 01:14:01,198]\u001b[0m Trial 6 finished with value: 5.313657906909336 and parameters: {'lsvc_ac2s_kernel_sample_steps': 1, 'lsvc_ac2s_dual': False, 'lsvc_ac2s_C': 102.1669934033924, 'lsvc_ac2s_max_iter': 1000}. Best is trial 6 with value: 5.313657906909336.\u001b[0m\n",
      "\u001b[32m[I 2022-03-11 01:14:01,322]\u001b[0m Trial 7 finished with value: 4.347538287471276 and parameters: {'lsvc_ac2s_kernel_sample_steps': 3, 'lsvc_ac2s_dual': False, 'lsvc_ac2s_C': 590.015497626213, 'lsvc_ac2s_max_iter': 1000}. Best is trial 7 with value: 4.347538287471276.\u001b[0m\n",
      "\u001b[32m[I 2022-03-11 01:14:01,399]\u001b[0m Trial 8 finished with value: 5.072128002049821 and parameters: {'lsvc_ac2s_kernel_sample_steps': 2, 'lsvc_ac2s_dual': False, 'lsvc_ac2s_C': 0.4457851994096686, 'lsvc_ac2s_max_iter': 1000}. Best is trial 7 with value: 4.347538287471276.\u001b[0m\n",
      "\u001b[32m[I 2022-03-11 01:14:01,472]\u001b[0m Trial 9 finished with value: 11.351905528397218 and parameters: {'lsvc_ac2s_kernel_sample_steps': 1, 'lsvc_ac2s_dual': False, 'lsvc_ac2s_C': 0.0003853303875064815, 'lsvc_ac2s_max_iter': 1000}. Best is trial 7 with value: 4.347538287471276.\u001b[0m\n",
      "\u001b[32m[I 2022-03-11 01:14:01,539]\u001b[0m A new study created in memory with name: no-name-13a55ea4-463f-4a16-86a5-9cdc5b846b90\u001b[0m\n",
      "\u001b[32m[I 2022-03-11 01:14:01,565]\u001b[0m Trial 0 finished with value: 5.313657906909336 and parameters: {'lsvc_rbfs_kernel_gamma': 0.3850601609768532, 'lsvc_rbfs_kernel_n_components': 100, 'lsvc_rbfs_dual': False, 'lsvc_rbfs_C': 1.3747042041978081, 'lsvc_rbfs,max_iter': 1000}. Best is trial 0 with value: 5.313657906909336.\u001b[0m\n",
      "\u001b[32m[I 2022-03-11 01:14:01,643]\u001b[0m Trial 1 finished with value: 6.762837336066428 and parameters: {'lsvc_rbfs_kernel_gamma': 286.21219446517654, 'lsvc_rbfs_kernel_n_components': 50, 'lsvc_rbfs_dual': False, 'lsvc_rbfs_C': 0.019393504158489255, 'lsvc_rbfs,max_iter': 1000}. Best is trial 0 with value: 5.313657906909336.\u001b[0m\n",
      "\u001b[32m[I 2022-03-11 01:14:01,720]\u001b[0m Trial 2 finished with value: 5.072128002049821 and parameters: {'lsvc_rbfs_kernel_gamma': 1.2290640614162516, 'lsvc_rbfs_kernel_n_components': 50, 'lsvc_rbfs_dual': False, 'lsvc_rbfs_C': 0.019177070742126146, 'lsvc_rbfs,max_iter': 1000}. Best is trial 2 with value: 5.072128002049821.\u001b[0m\n"
     ]
    },
    {
     "name": "stdout",
     "output_type": "stream",
     "text": [
      "Study optimization finished at 2022-03-11 01:14:01.\n",
      "--------------------------------------------------------------------------------\n",
      "--------------------          LinearSVC_RBFSampler          --------------------\n",
      "--------------------------------------------------------------------------------\n",
      "Study optimization started at 2022-03-11 01:14:01.\n"
     ]
    },
    {
     "name": "stderr",
     "output_type": "stream",
     "text": [
      "\u001b[32m[I 2022-03-11 01:14:01,800]\u001b[0m Trial 3 finished with value: 14.733324196430429 and parameters: {'lsvc_rbfs_kernel_gamma': 0.003591039716502552, 'lsvc_rbfs_kernel_n_components': 150, 'lsvc_rbfs_dual': False, 'lsvc_rbfs_C': 0.0015697959114256246, 'lsvc_rbfs,max_iter': 1000}. Best is trial 2 with value: 5.072128002049821.\u001b[0m\n",
      "\u001b[32m[I 2022-03-11 01:14:01,882]\u001b[0m Trial 4 finished with value: 6.279777526347398 and parameters: {'lsvc_rbfs_kernel_gamma': 0.01788261968544132, 'lsvc_rbfs_kernel_n_components': 150, 'lsvc_rbfs_dual': False, 'lsvc_rbfs_C': 0.044502453345656626, 'lsvc_rbfs,max_iter': 1000}. Best is trial 2 with value: 5.072128002049821.\u001b[0m\n",
      "\u001b[32m[I 2022-03-11 01:14:01,976]\u001b[0m Trial 5 finished with value: 5.072128002049821 and parameters: {'lsvc_rbfs_kernel_gamma': 0.34857801546988393, 'lsvc_rbfs_kernel_n_components': 150, 'lsvc_rbfs_dual': False, 'lsvc_rbfs_C': 0.03938935671081744, 'lsvc_rbfs,max_iter': 1000}. Best is trial 2 with value: 5.072128002049821.\u001b[0m\n",
      "\u001b[32m[I 2022-03-11 01:14:02,057]\u001b[0m Trial 6 finished with value: 14.733324196430429 and parameters: {'lsvc_rbfs_kernel_gamma': 0.0011237098114960052, 'lsvc_rbfs_kernel_n_components': 100, 'lsvc_rbfs_dual': False, 'lsvc_rbfs_C': 0.13864039918123675, 'lsvc_rbfs,max_iter': 1000}. Best is trial 2 with value: 5.072128002049821.\u001b[0m\n",
      "\u001b[32m[I 2022-03-11 01:14:02,136]\u001b[0m Trial 7 finished with value: 6.279777526347398 and parameters: {'lsvc_rbfs_kernel_gamma': 0.12105104349063397, 'lsvc_rbfs_kernel_n_components': 50, 'lsvc_rbfs_dual': False, 'lsvc_rbfs_C': 0.03591358536162947, 'lsvc_rbfs,max_iter': 1000}. Best is trial 2 with value: 5.072128002049821.\u001b[0m\n",
      "\u001b[32m[I 2022-03-11 01:14:02,216]\u001b[0m Trial 8 finished with value: 5.796717716628367 and parameters: {'lsvc_rbfs_kernel_gamma': 3.8900690298385183, 'lsvc_rbfs_kernel_n_components': 50, 'lsvc_rbfs_dual': False, 'lsvc_rbfs_C': 0.1028857823131282, 'lsvc_rbfs,max_iter': 1000}. Best is trial 2 with value: 5.072128002049821.\u001b[0m\n",
      "\u001b[32m[I 2022-03-11 01:14:02,321]\u001b[0m Trial 9 finished with value: 5.072128002049821 and parameters: {'lsvc_rbfs_kernel_gamma': 2.8472004654479193, 'lsvc_rbfs_kernel_n_components': 150, 'lsvc_rbfs_dual': False, 'lsvc_rbfs_C': 0.34594489824001684, 'lsvc_rbfs,max_iter': 1000}. Best is trial 2 with value: 5.072128002049821.\u001b[0m\n",
      "\u001b[32m[I 2022-03-11 01:14:02,386]\u001b[0m A new study created in memory with name: no-name-81c72b71-a11e-4ba4-9bbd-7795e4b97ea3\u001b[0m\n"
     ]
    },
    {
     "name": "stdout",
     "output_type": "stream",
     "text": [
      "Study optimization finished at 2022-03-11 01:14:02.\n",
      "--------------------------------------------------------------------------------\n",
      "--------------------             MLPClassifier              --------------------\n",
      "--------------------------------------------------------------------------------\n",
      "Study optimization started at 2022-03-11 01:14:02.\n"
     ]
    },
    {
     "name": "stderr",
     "output_type": "stream",
     "text": [
      "\u001b[32m[I 2022-03-11 01:14:03,125]\u001b[0m Trial 0 finished with value: 5.072128002049821 and parameters: {'mlpc_hidden_layer_count': 1, 'mlpc_learning_rate': 'invscaling', 'mlpc_learning_rate_init': 0.00024653296656126553, 'mplc_max_iter': 2000}. Best is trial 0 with value: 5.072128002049821.\u001b[0m\n",
      "\u001b[32m[I 2022-03-11 01:14:03,735]\u001b[0m Trial 1 finished with value: 5.072128002049821 and parameters: {'mlpc_hidden_layer_count': 1, 'mlpc_learning_rate': 'adaptive', 'mlpc_learning_rate_init': 0.00034112938191415494, 'mplc_max_iter': 2000}. Best is trial 0 with value: 5.072128002049821.\u001b[0m\n",
      "\u001b[32m[I 2022-03-11 01:14:08,234]\u001b[0m Trial 2 finished with value: 5.072128002049821 and parameters: {'mlpc_hidden_layer_count': 3, 'mlpc_learning_rate': 'adaptive', 'mlpc_learning_rate_init': 2.9450526911215012e-05, 'mplc_max_iter': 2000}. Best is trial 0 with value: 5.072128002049821.\u001b[0m\n",
      "\u001b[32m[I 2022-03-11 01:14:08,477]\u001b[0m Trial 3 finished with value: 5.072128002049821 and parameters: {'mlpc_hidden_layer_count': 1, 'mlpc_learning_rate': 'adaptive', 'mlpc_learning_rate_init': 0.0021345011496453534, 'mplc_max_iter': 2000}. Best is trial 0 with value: 5.072128002049821.\u001b[0m\n",
      "\u001b[32m[I 2022-03-11 01:14:08,612]\u001b[0m Trial 4 finished with value: 5.313657906909336 and parameters: {'mlpc_hidden_layer_count': 1, 'mlpc_learning_rate': 'adaptive', 'mlpc_learning_rate_init': 0.3417766652969335, 'mplc_max_iter': 2000}. Best is trial 0 with value: 5.072128002049821.\u001b[0m\n",
      "\u001b[32m[I 2022-03-11 01:14:12,824]\u001b[0m Trial 5 finished with value: 5.072128002049821 and parameters: {'mlpc_hidden_layer_count': 2, 'mlpc_learning_rate': 'adaptive', 'mlpc_learning_rate_init': 1.9655873608417958e-05, 'mplc_max_iter': 2000}. Best is trial 0 with value: 5.072128002049821.\u001b[0m\n",
      "\u001b[32m[I 2022-03-11 01:14:19,491]\u001b[0m Trial 6 finished with value: 5.072128002049821 and parameters: {'mlpc_hidden_layer_count': 3, 'mlpc_learning_rate': 'adaptive', 'mlpc_learning_rate_init': 1.2678748115350144e-05, 'mplc_max_iter': 2000}. Best is trial 0 with value: 5.072128002049821.\u001b[0m\n",
      "\u001b[32m[I 2022-03-11 01:14:20,037]\u001b[0m Trial 7 finished with value: 5.072128002049821 and parameters: {'mlpc_hidden_layer_count': 1, 'mlpc_learning_rate': 'adaptive', 'mlpc_learning_rate_init': 0.0033077298341636363, 'mplc_max_iter': 2000}. Best is trial 0 with value: 5.072128002049821.\u001b[0m\n",
      "\u001b[32m[I 2022-03-11 01:14:20,466]\u001b[0m Trial 8 finished with value: 5.072128002049821 and parameters: {'mlpc_hidden_layer_count': 3, 'mlpc_learning_rate': 'constant', 'mlpc_learning_rate_init': 0.08201857298594449, 'mplc_max_iter': 2000}. Best is trial 0 with value: 5.072128002049821.\u001b[0m\n",
      "\u001b[32m[I 2022-03-11 01:14:20,598]\u001b[0m Trial 9 finished with value: 32.606537156034555 and parameters: {'mlpc_hidden_layer_count': 3, 'mlpc_learning_rate': 'invscaling', 'mlpc_learning_rate_init': 1.041752769635387e-06, 'mplc_max_iter': 2000}. Best is trial 0 with value: 5.072128002049821.\u001b[0m\n",
      "\u001b[32m[I 2022-03-11 01:14:20,656]\u001b[0m A new study created in memory with name: no-name-fa28147a-2ae0-45bf-a791-18d503f14a70\u001b[0m\n",
      "\u001b[32m[I 2022-03-11 01:14:20,665]\u001b[0m Trial 0 finished with value: 5.555187811768851 and parameters: {'mnb_alpha': 0.25, 'mnb_fit_prior': True}. Best is trial 0 with value: 5.555187811768851.\u001b[0m\n",
      "\u001b[32m[I 2022-03-11 01:14:20,732]\u001b[0m Trial 1 finished with value: 5.555187811768851 and parameters: {'mnb_alpha': 0.05, 'mnb_fit_prior': True}. Best is trial 0 with value: 5.555187811768851.\u001b[0m\n",
      "\u001b[32m[I 2022-03-11 01:14:20,800]\u001b[0m Trial 2 finished with value: 6.279777526347399 and parameters: {'mnb_alpha': 0.25, 'mnb_fit_prior': False}. Best is trial 0 with value: 5.555187811768851.\u001b[0m\n"
     ]
    },
    {
     "name": "stdout",
     "output_type": "stream",
     "text": [
      "Study optimization finished at 2022-03-11 01:14:20.\n",
      "--------------------------------------------------------------------------------\n",
      "--------------------             MultinomialNB              --------------------\n",
      "--------------------------------------------------------------------------------\n",
      "Study optimization started at 2022-03-11 01:14:20.\n"
     ]
    },
    {
     "name": "stderr",
     "output_type": "stream",
     "text": [
      "\u001b[32m[I 2022-03-11 01:14:20,867]\u001b[0m Trial 3 finished with value: 6.279777526347399 and parameters: {'mnb_alpha': 0.6000000000000001, 'mnb_fit_prior': False}. Best is trial 0 with value: 5.555187811768851.\u001b[0m\n",
      "\u001b[32m[I 2022-03-11 01:14:20,936]\u001b[0m Trial 4 finished with value: 5.313657906909336 and parameters: {'mnb_alpha': 0.15000000000000002, 'mnb_fit_prior': True}. Best is trial 4 with value: 5.313657906909336.\u001b[0m\n",
      "\u001b[32m[I 2022-03-11 01:14:21,003]\u001b[0m Trial 5 finished with value: 5.555187811768851 and parameters: {'mnb_alpha': 0.05, 'mnb_fit_prior': True}. Best is trial 4 with value: 5.313657906909336.\u001b[0m\n",
      "\u001b[32m[I 2022-03-11 01:14:21,067]\u001b[0m Trial 6 finished with value: 6.279777526347399 and parameters: {'mnb_alpha': 0.9, 'mnb_fit_prior': False}. Best is trial 4 with value: 5.313657906909336.\u001b[0m\n",
      "C:\\Users\\marce\\anaconda3\\envs\\tf\\lib\\site-packages\\sklearn\\naive_bayes.py:555: UserWarning: alpha too small will result in numeric errors, setting alpha = 1.0e-10\n",
      "  warnings.warn(\n",
      "\u001b[32m[I 2022-03-11 01:14:21,133]\u001b[0m Trial 7 finished with value: 5.313657906909336 and parameters: {'mnb_alpha': 0.0, 'mnb_fit_prior': True}. Best is trial 4 with value: 5.313657906909336.\u001b[0m\n",
      "\u001b[32m[I 2022-03-11 01:14:21,200]\u001b[0m Trial 8 finished with value: 6.279777526347399 and parameters: {'mnb_alpha': 0.4, 'mnb_fit_prior': False}. Best is trial 4 with value: 5.313657906909336.\u001b[0m\n",
      "\u001b[32m[I 2022-03-11 01:14:21,271]\u001b[0m Trial 9 finished with value: 5.555187811768851 and parameters: {'mnb_alpha': 0.2, 'mnb_fit_prior': True}. Best is trial 4 with value: 5.313657906909336.\u001b[0m\n",
      "\u001b[32m[I 2022-03-11 01:14:21,335]\u001b[0m A new study created in memory with name: no-name-3a09f1f2-d3fe-45dc-ad48-7bdf141cad75\u001b[0m\n",
      "C:\\Users\\marce\\anaconda3\\envs\\tf\\lib\\site-packages\\sklearn\\neighbors\\_nearest_centroid.py:164: UserWarning: Averaging for metrics other than euclidean and manhattan not supported. The average is set to be the mean.\n",
      "  warnings.warn(\n",
      "\u001b[32m[I 2022-03-11 01:14:21,345]\u001b[0m Trial 0 finished with value: 11.110375623537703 and parameters: {'nc_metric': 'l1', 'nc_shrink_threshold': None}. Best is trial 0 with value: 11.110375623537703.\u001b[0m\n",
      "C:\\Users\\marce\\anaconda3\\envs\\tf\\lib\\site-packages\\sklearn\\neighbors\\_nearest_centroid.py:164: UserWarning: Averaging for metrics other than euclidean and manhattan not supported. The average is set to be the mean.\n",
      "  warnings.warn(\n",
      "\u001b[32m[I 2022-03-11 01:14:21,415]\u001b[0m Trial 1 finished with value: 7.004367240925943 and parameters: {'nc_metric': 'cosine', 'nc_shrink_threshold': 0.2}. Best is trial 1 with value: 7.004367240925943.\u001b[0m\n",
      "\u001b[32m[I 2022-03-11 01:14:21,484]\u001b[0m Trial 2 finished with value: 10.385785908959157 and parameters: {'nc_metric': 'manhattan', 'nc_shrink_threshold': 0.2}. Best is trial 1 with value: 7.004367240925943.\u001b[0m\n"
     ]
    },
    {
     "name": "stdout",
     "output_type": "stream",
     "text": [
      "Study optimization finished at 2022-03-11 01:14:21.\n",
      "--------------------------------------------------------------------------------\n",
      "--------------------            NearestCentroid             --------------------\n",
      "--------------------------------------------------------------------------------\n",
      "Study optimization started at 2022-03-11 01:14:21.\n"
     ]
    },
    {
     "name": "stderr",
     "output_type": "stream",
     "text": [
      "\u001b[32m[I 2022-03-11 01:14:21,556]\u001b[0m Trial 3 finished with value: 7.004367240925943 and parameters: {'nc_metric': 'euclidean', 'nc_shrink_threshold': None}. Best is trial 1 with value: 7.004367240925943.\u001b[0m\n",
      "C:\\Users\\marce\\anaconda3\\envs\\tf\\lib\\site-packages\\sklearn\\neighbors\\_nearest_centroid.py:164: UserWarning: Averaging for metrics other than euclidean and manhattan not supported. The average is set to be the mean.\n",
      "  warnings.warn(\n",
      "\u001b[32m[I 2022-03-11 01:14:21,625]\u001b[0m Trial 4 finished with value: 11.110375623537703 and parameters: {'nc_metric': 'l1', 'nc_shrink_threshold': None}. Best is trial 1 with value: 7.004367240925943.\u001b[0m\n",
      "\u001b[32m[I 2022-03-11 01:14:21,693]\u001b[0m Trial 5 finished with value: 10.385785908959157 and parameters: {'nc_metric': 'manhattan', 'nc_shrink_threshold': None}. Best is trial 1 with value: 7.004367240925943.\u001b[0m\n",
      "C:\\Users\\marce\\anaconda3\\envs\\tf\\lib\\site-packages\\sklearn\\neighbors\\_nearest_centroid.py:164: UserWarning: Averaging for metrics other than euclidean and manhattan not supported. The average is set to be the mean.\n",
      "  warnings.warn(\n",
      "\u001b[32m[I 2022-03-11 01:14:21,761]\u001b[0m Trial 6 finished with value: 11.110375623537703 and parameters: {'nc_metric': 'cityblock', 'nc_shrink_threshold': 0.2}. Best is trial 1 with value: 7.004367240925943.\u001b[0m\n",
      "C:\\Users\\marce\\anaconda3\\envs\\tf\\lib\\site-packages\\sklearn\\neighbors\\_nearest_centroid.py:164: UserWarning: Averaging for metrics other than euclidean and manhattan not supported. The average is set to be the mean.\n",
      "  warnings.warn(\n",
      "\u001b[32m[I 2022-03-11 01:14:21,828]\u001b[0m Trial 7 finished with value: 7.004367240925943 and parameters: {'nc_metric': 'l2', 'nc_shrink_threshold': None}. Best is trial 1 with value: 7.004367240925943.\u001b[0m\n",
      "\u001b[32m[I 2022-03-11 01:14:21,895]\u001b[0m Trial 8 finished with value: 7.004367240925943 and parameters: {'nc_metric': 'euclidean', 'nc_shrink_threshold': 0.2}. Best is trial 1 with value: 7.004367240925943.\u001b[0m\n",
      "\u001b[32m[I 2022-03-11 01:14:21,963]\u001b[0m Trial 9 finished with value: 7.004367240925943 and parameters: {'nc_metric': 'euclidean', 'nc_shrink_threshold': 0.2}. Best is trial 1 with value: 7.004367240925943.\u001b[0m\n",
      "\u001b[32m[I 2022-03-11 01:14:22,023]\u001b[0m A new study created in memory with name: no-name-0c2fd90f-4982-435d-99fb-5d2c57c318b9\u001b[0m\n",
      "\u001b[32m[I 2022-03-11 01:14:22,056]\u001b[0m Trial 0 finished with value: 14.733324196430429 and parameters: {'pac_C': 2.1421049422280794e-06, 'pac_early_stopping': True, 'pac_validation_fraction': 0.25, 'pac_n_iter_no_change': 10, 'pac_n_jobs': 8}. Best is trial 0 with value: 14.733324196430429.\u001b[0m\n",
      "\u001b[32m[I 2022-03-11 01:14:22,148]\u001b[0m Trial 1 finished with value: 14.733324196430429 and parameters: {'pac_C': 4.035655446290511e-06, 'pac_early_stopping': True, 'pac_validation_fraction': 0.25, 'pac_n_iter_no_change': 10, 'pac_n_jobs': 8}. Best is trial 0 with value: 14.733324196430429.\u001b[0m\n"
     ]
    },
    {
     "name": "stdout",
     "output_type": "stream",
     "text": [
      "Study optimization finished at 2022-03-11 01:14:22.\n",
      "--------------------------------------------------------------------------------\n",
      "--------------------      PassiveAggressiveClassifier       --------------------\n",
      "--------------------------------------------------------------------------------\n",
      "Study optimization started at 2022-03-11 01:14:22.\n"
     ]
    },
    {
     "name": "stderr",
     "output_type": "stream",
     "text": [
      "\u001b[32m[I 2022-03-11 01:14:22,241]\u001b[0m Trial 2 finished with value: 6.279777526347398 and parameters: {'pac_C': 0.00026535231695781444, 'pac_early_stopping': True, 'pac_validation_fraction': 0.25, 'pac_n_iter_no_change': 10, 'pac_n_jobs': 8}. Best is trial 2 with value: 6.279777526347398.\u001b[0m\n",
      "\u001b[32m[I 2022-03-11 01:14:22,339]\u001b[0m Trial 3 finished with value: 6.762837336066427 and parameters: {'pac_C': 0.00040263868203986645, 'pac_early_stopping': True, 'pac_validation_fraction': 0.25, 'pac_n_iter_no_change': 10, 'pac_n_jobs': 8}. Best is trial 2 with value: 6.279777526347398.\u001b[0m\n",
      "\u001b[32m[I 2022-03-11 01:14:22,431]\u001b[0m Trial 4 finished with value: 5.072128002049821 and parameters: {'pac_C': 0.013595084935967889, 'pac_early_stopping': True, 'pac_validation_fraction': 0.25, 'pac_n_iter_no_change': 10, 'pac_n_jobs': 8}. Best is trial 4 with value: 5.072128002049821.\u001b[0m\n",
      "\u001b[32m[I 2022-03-11 01:14:22,523]\u001b[0m Trial 5 finished with value: 5.313657906909336 and parameters: {'pac_C': 438.23194905170755, 'pac_early_stopping': True, 'pac_validation_fraction': 0.25, 'pac_n_iter_no_change': 10, 'pac_n_jobs': 8}. Best is trial 4 with value: 5.072128002049821.\u001b[0m\n",
      "\u001b[32m[I 2022-03-11 01:14:22,616]\u001b[0m Trial 6 finished with value: 5.072128002049821 and parameters: {'pac_C': 0.16396079764124136, 'pac_early_stopping': True, 'pac_validation_fraction': 0.25, 'pac_n_iter_no_change': 10, 'pac_n_jobs': 8}. Best is trial 4 with value: 5.072128002049821.\u001b[0m\n",
      "\u001b[32m[I 2022-03-11 01:14:22,710]\u001b[0m Trial 7 finished with value: 5.072128002049821 and parameters: {'pac_C': 0.32341795169425175, 'pac_early_stopping': True, 'pac_validation_fraction': 0.25, 'pac_n_iter_no_change': 10, 'pac_n_jobs': 8}. Best is trial 4 with value: 5.072128002049821.\u001b[0m\n",
      "\u001b[32m[I 2022-03-11 01:14:22,801]\u001b[0m Trial 8 finished with value: 14.733324196430429 and parameters: {'pac_C': 8.419574783628118e-05, 'pac_early_stopping': True, 'pac_validation_fraction': 0.25, 'pac_n_iter_no_change': 10, 'pac_n_jobs': 8}. Best is trial 4 with value: 5.072128002049821.\u001b[0m\n",
      "\u001b[32m[I 2022-03-11 01:14:22,892]\u001b[0m Trial 9 finished with value: 5.072128002049821 and parameters: {'pac_C': 13.338629350488159, 'pac_early_stopping': True, 'pac_validation_fraction': 0.25, 'pac_n_iter_no_change': 10, 'pac_n_jobs': 8}. Best is trial 4 with value: 5.072128002049821.\u001b[0m\n",
      "\u001b[32m[I 2022-03-11 01:14:22,952]\u001b[0m A new study created in memory with name: no-name-3e9e80db-54b7-42ce-9259-4f3e16675b1a\u001b[0m\n",
      "\u001b[32m[I 2022-03-11 01:14:22,988]\u001b[0m Trial 0 finished with value: 14.733324196430429 and parameters: {'p_penalty': 'elasticnet', 'p_alpha': 0.3911115192538066, 'p_eta0': 1.5, 'p_n_jobs': 8, 'p_early_stopping': True, 'p_validation_fraction': 0.25, 'p_n_iter_no_change': 10}. Best is trial 0 with value: 14.733324196430429.\u001b[0m\n",
      "\u001b[32m[I 2022-03-11 01:14:23,080]\u001b[0m Trial 1 finished with value: 5.072128002049821 and parameters: {'p_penalty': 'elasticnet', 'p_alpha': 0.0021023040509359652, 'p_eta0': 1.5, 'p_n_jobs': 8, 'p_early_stopping': True, 'p_validation_fraction': 0.25, 'p_n_iter_no_change': 10}. Best is trial 1 with value: 5.072128002049821.\u001b[0m\n"
     ]
    },
    {
     "name": "stdout",
     "output_type": "stream",
     "text": [
      "Study optimization finished at 2022-03-11 01:14:22.\n",
      "--------------------------------------------------------------------------------\n",
      "--------------------               Perceptron               --------------------\n",
      "--------------------------------------------------------------------------------\n",
      "Study optimization started at 2022-03-11 01:14:22.\n"
     ]
    },
    {
     "name": "stderr",
     "output_type": "stream",
     "text": [
      "\u001b[32m[I 2022-03-11 01:14:23,172]\u001b[0m Trial 2 finished with value: 5.072128002049821 and parameters: {'p_penalty': 'elasticnet', 'p_alpha': 1.260658478916186e-05, 'p_eta0': 1.5, 'p_n_jobs': 8, 'p_early_stopping': True, 'p_validation_fraction': 0.25, 'p_n_iter_no_change': 10}. Best is trial 1 with value: 5.072128002049821.\u001b[0m\n",
      "\u001b[32m[I 2022-03-11 01:14:23,266]\u001b[0m Trial 3 finished with value: 5.072128002049821 and parameters: {'p_penalty': 'elasticnet', 'p_alpha': 5.4587625218463066e-05, 'p_eta0': 1.0, 'p_n_jobs': 8, 'p_early_stopping': True, 'p_validation_fraction': 0.25, 'p_n_iter_no_change': 10}. Best is trial 1 with value: 5.072128002049821.\u001b[0m\n",
      "\u001b[32m[I 2022-03-11 01:14:23,359]\u001b[0m Trial 4 finished with value: 5.072128002049821 and parameters: {'p_penalty': 'elasticnet', 'p_alpha': 0.00019323403197381842, 'p_eta0': 1.5, 'p_n_jobs': 8, 'p_early_stopping': True, 'p_validation_fraction': 0.25, 'p_n_iter_no_change': 10}. Best is trial 1 with value: 5.072128002049821.\u001b[0m\n",
      "\u001b[32m[I 2022-03-11 01:14:23,449]\u001b[0m Trial 5 finished with value: 5.313657906909336 and parameters: {'p_penalty': 'elasticnet', 'p_alpha': 0.001005531953848889, 'p_eta0': 0.5, 'p_n_jobs': 8, 'p_early_stopping': True, 'p_validation_fraction': 0.25, 'p_n_iter_no_change': 10}. Best is trial 1 with value: 5.072128002049821.\u001b[0m\n",
      "\u001b[32m[I 2022-03-11 01:14:23,542]\u001b[0m Trial 6 finished with value: 10.385785908959157 and parameters: {'p_penalty': 'elasticnet', 'p_alpha': 0.08801421608789797, 'p_eta0': 1.5, 'p_n_jobs': 8, 'p_early_stopping': True, 'p_validation_fraction': 0.25, 'p_n_iter_no_change': 10}. Best is trial 1 with value: 5.072128002049821.\u001b[0m\n",
      "\u001b[32m[I 2022-03-11 01:14:23,632]\u001b[0m Trial 7 finished with value: 5.072128002049821 and parameters: {'p_penalty': 'elasticnet', 'p_alpha': 0.0039054558487379475, 'p_eta0': 2.0, 'p_n_jobs': 8, 'p_early_stopping': True, 'p_validation_fraction': 0.25, 'p_n_iter_no_change': 10}. Best is trial 1 with value: 5.072128002049821.\u001b[0m\n",
      "\u001b[32m[I 2022-03-11 01:14:23,724]\u001b[0m Trial 8 finished with value: 5.072128002049821 and parameters: {'p_penalty': 'elasticnet', 'p_alpha': 2.6589330235023385e-06, 'p_eta0': 0.5, 'p_n_jobs': 8, 'p_early_stopping': True, 'p_validation_fraction': 0.25, 'p_n_iter_no_change': 10}. Best is trial 1 with value: 5.072128002049821.\u001b[0m\n",
      "\u001b[32m[I 2022-03-11 01:14:23,814]\u001b[0m Trial 9 finished with value: 5.072128002049821 and parameters: {'p_penalty': 'elasticnet', 'p_alpha': 0.00013365744702677684, 'p_eta0': 1.0, 'p_n_jobs': 8, 'p_early_stopping': True, 'p_validation_fraction': 0.25, 'p_n_iter_no_change': 10}. Best is trial 1 with value: 5.072128002049821.\u001b[0m\n",
      "\u001b[32m[I 2022-03-11 01:14:23,874]\u001b[0m A new study created in memory with name: no-name-4d5ad182-7dac-4841-8fca-b52eadccb2ef\u001b[0m\n",
      "C:\\Users\\marce\\anaconda3\\envs\\tf\\lib\\site-packages\\sklearn\\discriminant_analysis.py:878: UserWarning: Variables are collinear\n",
      "  warnings.warn(\"Variables are collinear\")\n",
      "\u001b[32m[I 2022-03-11 01:14:23,885]\u001b[0m Trial 0 finished with value: 5.313657906909336 and parameters: {'qda_reg_param': 0.4, 'qda_tol': 0.0006643729915571079}. Best is trial 0 with value: 5.313657906909336.\u001b[0m\n",
      "C:\\Users\\marce\\anaconda3\\envs\\tf\\lib\\site-packages\\sklearn\\discriminant_analysis.py:878: UserWarning: Variables are collinear\n",
      "  warnings.warn(\"Variables are collinear\")\n",
      "C:\\Users\\marce\\anaconda3\\envs\\tf\\lib\\site-packages\\sklearn\\discriminant_analysis.py:903: RuntimeWarning: divide by zero encountered in power\n",
      "  X2 = np.dot(Xm, R * (S ** (-0.5)))\n",
      "C:\\Users\\marce\\anaconda3\\envs\\tf\\lib\\site-packages\\sklearn\\discriminant_analysis.py:903: RuntimeWarning: invalid value encountered in multiply\n",
      "  X2 = np.dot(Xm, R * (S ** (-0.5)))\n",
      "C:\\Users\\marce\\anaconda3\\envs\\tf\\lib\\site-packages\\sklearn\\discriminant_analysis.py:906: RuntimeWarning: divide by zero encountered in log\n",
      "  u = np.asarray([np.sum(np.log(s)) for s in self.scalings_])\n",
      "\u001b[32m[I 2022-03-11 01:14:23,955]\u001b[0m Trial 1 finished with value: 33.331126870613105 and parameters: {'qda_reg_param': 0.0, 'qda_tol': 9.75464613046382e-06}. Best is trial 0 with value: 5.313657906909336.\u001b[0m\n",
      "C:\\Users\\marce\\anaconda3\\envs\\tf\\lib\\site-packages\\sklearn\\discriminant_analysis.py:878: UserWarning: Variables are collinear\n",
      "  warnings.warn(\"Variables are collinear\")\n",
      "\u001b[32m[I 2022-03-11 01:14:24,019]\u001b[0m Trial 2 finished with value: 6.521307431206912 and parameters: {'qda_reg_param': 1.0, 'qda_tol': 2.737700698742373e-06}. Best is trial 0 with value: 5.313657906909336.\u001b[0m\n"
     ]
    },
    {
     "name": "stdout",
     "output_type": "stream",
     "text": [
      "Study optimization finished at 2022-03-11 01:14:23.\n",
      "--------------------------------------------------------------------------------\n",
      "--------------------     QuadraticDiscriminantAnalysis      --------------------\n",
      "--------------------------------------------------------------------------------\n",
      "Study optimization started at 2022-03-11 01:14:23.\n"
     ]
    },
    {
     "name": "stderr",
     "output_type": "stream",
     "text": [
      "C:\\Users\\marce\\anaconda3\\envs\\tf\\lib\\site-packages\\sklearn\\discriminant_analysis.py:878: UserWarning: Variables are collinear\n",
      "  warnings.warn(\"Variables are collinear\")\n",
      "\u001b[32m[I 2022-03-11 01:14:24,088]\u001b[0m Trial 3 finished with value: 5.313657906909336 and parameters: {'qda_reg_param': 0.05, 'qda_tol': 1.1966703572768723e-06}. Best is trial 0 with value: 5.313657906909336.\u001b[0m\n",
      "C:\\Users\\marce\\anaconda3\\envs\\tf\\lib\\site-packages\\sklearn\\discriminant_analysis.py:878: UserWarning: Variables are collinear\n",
      "  warnings.warn(\"Variables are collinear\")\n",
      "\u001b[32m[I 2022-03-11 01:14:24,158]\u001b[0m Trial 4 finished with value: 6.521307431206912 and parameters: {'qda_reg_param': 0.65, 'qda_tol': 5.5345229300601055e-05}. Best is trial 0 with value: 5.313657906909336.\u001b[0m\n",
      "C:\\Users\\marce\\anaconda3\\envs\\tf\\lib\\site-packages\\sklearn\\discriminant_analysis.py:878: UserWarning: Variables are collinear\n",
      "  warnings.warn(\"Variables are collinear\")\n",
      "\u001b[32m[I 2022-03-11 01:14:24,225]\u001b[0m Trial 5 finished with value: 6.521307431206912 and parameters: {'qda_reg_param': 0.9500000000000001, 'qda_tol': 5.8461472875516584e-05}. Best is trial 0 with value: 5.313657906909336.\u001b[0m\n",
      "C:\\Users\\marce\\anaconda3\\envs\\tf\\lib\\site-packages\\sklearn\\discriminant_analysis.py:878: UserWarning: Variables are collinear\n",
      "  warnings.warn(\"Variables are collinear\")\n",
      "\u001b[32m[I 2022-03-11 01:14:24,294]\u001b[0m Trial 6 finished with value: 5.313657906909336 and parameters: {'qda_reg_param': 0.45, 'qda_tol': 9.987866549461626e-05}. Best is trial 0 with value: 5.313657906909336.\u001b[0m\n",
      "C:\\Users\\marce\\anaconda3\\envs\\tf\\lib\\site-packages\\sklearn\\discriminant_analysis.py:878: UserWarning: Variables are collinear\n",
      "  warnings.warn(\"Variables are collinear\")\n",
      "\u001b[32m[I 2022-03-11 01:14:24,361]\u001b[0m Trial 7 finished with value: 6.521307431206912 and parameters: {'qda_reg_param': 0.6000000000000001, 'qda_tol': 8.110362349950734e-06}. Best is trial 0 with value: 5.313657906909336.\u001b[0m\n",
      "C:\\Users\\marce\\anaconda3\\envs\\tf\\lib\\site-packages\\sklearn\\discriminant_analysis.py:878: UserWarning: Variables are collinear\n",
      "  warnings.warn(\"Variables are collinear\")\n",
      "\u001b[32m[I 2022-03-11 01:14:24,431]\u001b[0m Trial 8 finished with value: 5.313657906909336 and parameters: {'qda_reg_param': 0.05, 'qda_tol': 0.0008119641076175028}. Best is trial 0 with value: 5.313657906909336.\u001b[0m\n",
      "C:\\Users\\marce\\anaconda3\\envs\\tf\\lib\\site-packages\\sklearn\\discriminant_analysis.py:878: UserWarning: Variables are collinear\n",
      "  warnings.warn(\"Variables are collinear\")\n",
      "\u001b[32m[I 2022-03-11 01:14:24,499]\u001b[0m Trial 9 finished with value: 5.313657906909336 and parameters: {'qda_reg_param': 0.30000000000000004, 'qda_tol': 2.288161807524737e-05}. Best is trial 0 with value: 5.313657906909336.\u001b[0m\n",
      "\u001b[32m[I 2022-03-11 01:14:24,565]\u001b[0m A new study created in memory with name: no-name-ae03cf96-0889-4fb8-ab42-ca4c17000ec0\u001b[0m\n",
      "\u001b[32m[I 2022-03-11 01:14:24,748]\u001b[0m Trial 0 finished with value: 0.7245897145785484 and parameters: {'rfc_n_estimators': 150, 'criterion': 'entropy', 'rfc_min_samples_split': 20, 'rfc_min_samples_leaf': 15, 'rfc_max_features': 7, 'rfc_bootstrap': True, 'rfc_n_jobs': 8}. Best is trial 0 with value: 0.7245897145785484.\u001b[0m\n"
     ]
    },
    {
     "name": "stdout",
     "output_type": "stream",
     "text": [
      "Study optimization finished at 2022-03-11 01:14:24.\n",
      "--------------------------------------------------------------------------------\n",
      "--------------------         RandomForestClassifier         --------------------\n",
      "--------------------------------------------------------------------------------\n",
      "Study optimization started at 2022-03-11 01:14:24.\n"
     ]
    },
    {
     "name": "stderr",
     "output_type": "stream",
     "text": [
      "\u001b[32m[I 2022-03-11 01:14:24,819]\u001b[0m Trial 1 finished with value: 4.347538287471276 and parameters: {'rfc_n_estimators': 40, 'criterion': 'gini', 'rfc_min_samples_split': 38, 'rfc_min_samples_leaf': 40, 'rfc_max_features': 13, 'rfc_bootstrap': False, 'rfc_n_jobs': 8}. Best is trial 0 with value: 0.7245897145785484.\u001b[0m\n",
      "\u001b[32m[I 2022-03-11 01:14:25,070]\u001b[0m Trial 2 finished with value: 0.7245897145785484 and parameters: {'rfc_n_estimators': 160, 'criterion': 'entropy', 'rfc_min_samples_split': 44, 'rfc_min_samples_leaf': 1, 'rfc_max_features': 1, 'rfc_bootstrap': True, 'rfc_n_jobs': 8}. Best is trial 0 with value: 0.7245897145785484.\u001b[0m\n",
      "\u001b[32m[I 2022-03-11 01:14:25,166]\u001b[0m Trial 3 finished with value: 2.1737691437356395 and parameters: {'rfc_n_estimators': 30, 'criterion': 'entropy', 'rfc_min_samples_split': 26, 'rfc_min_samples_leaf': 7, 'rfc_max_features': 2, 'rfc_bootstrap': False, 'rfc_n_jobs': 8}. Best is trial 0 with value: 0.7245897145785484.\u001b[0m\n",
      "\u001b[32m[I 2022-03-11 01:14:25,272]\u001b[0m Trial 4 finished with value: 5.555187811768852 and parameters: {'rfc_n_estimators': 30, 'criterion': 'entropy', 'rfc_min_samples_split': 27, 'rfc_min_samples_leaf': 30, 'rfc_max_features': 6, 'rfc_bootstrap': True, 'rfc_n_jobs': 8}. Best is trial 0 with value: 0.7245897145785484.\u001b[0m\n",
      "\u001b[32m[I 2022-03-11 01:14:25,373]\u001b[0m Trial 5 finished with value: 1.2076495242975787 and parameters: {'rfc_n_estimators': 190, 'criterion': 'gini', 'rfc_min_samples_split': 18, 'rfc_min_samples_leaf': 10, 'rfc_max_features': 1, 'rfc_bootstrap': False, 'rfc_n_jobs': 8}. Best is trial 0 with value: 0.7245897145785484.\u001b[0m\n",
      "\u001b[32m[I 2022-03-11 01:14:25,464]\u001b[0m Trial 6 finished with value: 5.555187811768852 and parameters: {'rfc_n_estimators': 130, 'criterion': 'gini', 'rfc_min_samples_split': 38, 'rfc_min_samples_leaf': 46, 'rfc_max_features': 3, 'rfc_bootstrap': True, 'rfc_n_jobs': 8}. Best is trial 0 with value: 0.7245897145785484.\u001b[0m\n",
      "\u001b[32m[I 2022-03-11 01:14:25,539]\u001b[0m Trial 7 finished with value: 4.347538287471276 and parameters: {'rfc_n_estimators': 30, 'criterion': 'gini', 'rfc_min_samples_split': 37, 'rfc_min_samples_leaf': 47, 'rfc_max_features': 13, 'rfc_bootstrap': False, 'rfc_n_jobs': 8}. Best is trial 0 with value: 0.7245897145785484.\u001b[0m\n",
      "\u001b[32m[I 2022-03-11 01:14:25,624]\u001b[0m Trial 8 finished with value: 1.9322392388761243 and parameters: {'rfc_n_estimators': 10, 'criterion': 'entropy', 'rfc_min_samples_split': 14, 'rfc_min_samples_leaf': 23, 'rfc_max_features': 15, 'rfc_bootstrap': True, 'rfc_n_jobs': 8}. Best is trial 0 with value: 0.7245897145785484.\u001b[0m\n",
      "\u001b[32m[I 2022-03-11 01:14:25,713]\u001b[0m Trial 9 finished with value: 3.1398887631737002 and parameters: {'rfc_n_estimators': 120, 'criterion': 'gini', 'rfc_min_samples_split': 29, 'rfc_min_samples_leaf': 6, 'rfc_max_features': 14, 'rfc_bootstrap': False, 'rfc_n_jobs': 8}. Best is trial 0 with value: 0.7245897145785484.\u001b[0m\n",
      "\u001b[32m[I 2022-03-11 01:14:25,772]\u001b[0m A new study created in memory with name: no-name-8bc4f2c4-46e0-47a2-9b21-ed7aaf99d165\u001b[0m\n",
      "\u001b[32m[I 2022-03-11 01:14:25,783]\u001b[0m Trial 0 finished with value: 5.313657906909336 and parameters: {'rc_C': 0.00026979564136117996, 'rc_tol': 0.00036069435213923}. Best is trial 0 with value: 5.313657906909336.\u001b[0m\n",
      "\u001b[32m[I 2022-03-11 01:14:25,852]\u001b[0m Trial 1 finished with value: 6.279777526347398 and parameters: {'rc_C': 225.11134464318897, 'rc_tol': 0.00474980430209522}. Best is trial 0 with value: 5.313657906909336.\u001b[0m\n",
      "\u001b[32m[I 2022-03-11 01:14:25,919]\u001b[0m Trial 2 finished with value: 5.313657906909336 and parameters: {'rc_C': 0.007408715732579451, 'rc_tol': 0.0017478334010865354}. Best is trial 0 with value: 5.313657906909336.\u001b[0m\n"
     ]
    },
    {
     "name": "stdout",
     "output_type": "stream",
     "text": [
      "Study optimization finished at 2022-03-11 01:14:25.\n",
      "--------------------------------------------------------------------------------\n",
      "--------------------            RidgeClassifier             --------------------\n",
      "--------------------------------------------------------------------------------\n",
      "Study optimization started at 2022-03-11 01:14:25.\n"
     ]
    },
    {
     "name": "stderr",
     "output_type": "stream",
     "text": [
      "\u001b[32m[I 2022-03-11 01:14:25,987]\u001b[0m Trial 3 finished with value: 5.313657906909336 and parameters: {'rc_C': 0.016586543330390825, 'rc_tol': 0.0032137400210845084}. Best is trial 0 with value: 5.313657906909336.\u001b[0m\n",
      "\u001b[32m[I 2022-03-11 01:14:26,056]\u001b[0m Trial 4 finished with value: 5.072128002049821 and parameters: {'rc_C': 0.16207160969240028, 'rc_tol': 0.00038285771807893763}. Best is trial 4 with value: 5.072128002049821.\u001b[0m\n",
      "\u001b[32m[I 2022-03-11 01:14:26,125]\u001b[0m Trial 5 finished with value: 14.733324196430429 and parameters: {'rc_C': 189097.15310939736, 'rc_tol': 0.0013191364774581373}. Best is trial 4 with value: 5.072128002049821.\u001b[0m\n",
      "\u001b[32m[I 2022-03-11 01:14:26,191]\u001b[0m Trial 6 finished with value: 6.279777526347398 and parameters: {'rc_C': 294.20760197085013, 'rc_tol': 0.003629254534453272}. Best is trial 4 with value: 5.072128002049821.\u001b[0m\n",
      "\u001b[32m[I 2022-03-11 01:14:26,260]\u001b[0m Trial 7 finished with value: 5.313657906909336 and parameters: {'rc_C': 0.0025020210835911545, 'rc_tol': 0.0016641246565790614}. Best is trial 4 with value: 5.072128002049821.\u001b[0m\n",
      "\u001b[32m[I 2022-03-11 01:14:26,327]\u001b[0m Trial 8 finished with value: 14.733324196430429 and parameters: {'rc_C': 111849.69794007165, 'rc_tol': 0.00010549219969432434}. Best is trial 4 with value: 5.072128002049821.\u001b[0m\n",
      "\u001b[32m[I 2022-03-11 01:14:26,394]\u001b[0m Trial 9 finished with value: 14.733324196430429 and parameters: {'rc_C': 614413.4050112341, 'rc_tol': 0.0014718959615052439}. Best is trial 4 with value: 5.072128002049821.\u001b[0m\n",
      "\u001b[32m[I 2022-03-11 01:14:26,453]\u001b[0m A new study created in memory with name: no-name-444468c5-72e0-4470-8093-fd729fe2d02b\u001b[0m\n",
      "\u001b[32m[I 2022-03-11 01:14:26,487]\u001b[0m Trial 0 finished with value: 5.072128002049821 and parameters: {'sgdc_loss': 'modified_huber', 'sgdc_penalty': 'elasticnet', 'sgdc_alpha': 6.7478827176915415e-06, 'sgdc_l1_ratio': 0.8, 'sgdc_n_jobs': 8, 'sgdc_learning_rate': 'optimal', 'sgdc_eta0': 12.811550564362047, 'sgdc_early_stopping': True, 'sgdc_validation_fraction': 0.25, 'sgdc_n_iter_no_change': 10}. Best is trial 0 with value: 5.072128002049821.\u001b[0m\n",
      "\u001b[32m[I 2022-03-11 01:14:26,583]\u001b[0m Trial 1 finished with value: 14.733324196430429 and parameters: {'sgdc_loss': 'hinge', 'sgdc_penalty': 'elasticnet', 'sgdc_alpha': 0.14708088611856263, 'sgdc_l1_ratio': 0.2, 'sgdc_n_jobs': 8, 'sgdc_learning_rate': 'constant', 'sgdc_eta0': 3.3878884890096033, 'sgdc_early_stopping': True, 'sgdc_validation_fraction': 0.25, 'sgdc_n_iter_no_change': 10}. Best is trial 0 with value: 5.072128002049821.\u001b[0m\n"
     ]
    },
    {
     "name": "stdout",
     "output_type": "stream",
     "text": [
      "Study optimization finished at 2022-03-11 01:14:26.\n",
      "--------------------------------------------------------------------------------\n",
      "--------------------             SGDClassifier              --------------------\n",
      "--------------------------------------------------------------------------------\n",
      "Study optimization started at 2022-03-11 01:14:26.\n"
     ]
    },
    {
     "name": "stderr",
     "output_type": "stream",
     "text": [
      "\u001b[32m[I 2022-03-11 01:14:26,676]\u001b[0m Trial 2 finished with value: 14.733324196430429 and parameters: {'sgdc_loss': 'modified_huber', 'sgdc_penalty': 'elasticnet', 'sgdc_alpha': 40.008886348934695, 'sgdc_l1_ratio': 0.6000000000000001, 'sgdc_n_jobs': 8, 'sgdc_learning_rate': 'optimal', 'sgdc_eta0': 477.3546763047442, 'sgdc_early_stopping': True, 'sgdc_validation_fraction': 0.25, 'sgdc_n_iter_no_change': 10}. Best is trial 0 with value: 5.072128002049821.\u001b[0m\n",
      "\u001b[32m[I 2022-03-11 01:14:26,775]\u001b[0m Trial 3 finished with value: 5.313657906909336 and parameters: {'sgdc_loss': 'hinge', 'sgdc_penalty': 'elasticnet', 'sgdc_alpha': 0.00018375969382027348, 'sgdc_l1_ratio': 0.0, 'sgdc_n_jobs': 8, 'sgdc_learning_rate': 'optimal', 'sgdc_eta0': 0.02810340488745318, 'sgdc_early_stopping': True, 'sgdc_validation_fraction': 0.25, 'sgdc_n_iter_no_change': 10}. Best is trial 0 with value: 5.072128002049821.\u001b[0m\n",
      "\u001b[32m[I 2022-03-11 01:14:26,870]\u001b[0m Trial 4 finished with value: 8.69507657494255 and parameters: {'sgdc_loss': 'hinge', 'sgdc_penalty': 'elasticnet', 'sgdc_alpha': 1.7797743704532707e-05, 'sgdc_l1_ratio': 1.0, 'sgdc_n_jobs': 8, 'sgdc_learning_rate': 'optimal', 'sgdc_eta0': 0.016159721958449703, 'sgdc_early_stopping': True, 'sgdc_validation_fraction': 0.25, 'sgdc_n_iter_no_change': 10}. Best is trial 0 with value: 5.072128002049821.\u001b[0m\n",
      "\u001b[32m[I 2022-03-11 01:14:26,967]\u001b[0m Trial 5 finished with value: 14.733324196430429 and parameters: {'sgdc_loss': 'modified_huber', 'sgdc_penalty': 'elasticnet', 'sgdc_alpha': 260.5976117545736, 'sgdc_l1_ratio': 0.4, 'sgdc_n_jobs': 8, 'sgdc_learning_rate': 'invscaling', 'sgdc_eta0': 0.37951266845964116, 'sgdc_early_stopping': True, 'sgdc_validation_fraction': 0.25, 'sgdc_n_iter_no_change': 10}. Best is trial 0 with value: 5.072128002049821.\u001b[0m\n",
      "\u001b[32m[I 2022-03-11 01:14:27,239]\u001b[0m Trial 6 finished with value: 14.733324196430429 and parameters: {'sgdc_loss': 'hinge', 'sgdc_penalty': 'elasticnet', 'sgdc_alpha': 57.75465070354762, 'sgdc_l1_ratio': 0.6000000000000001, 'sgdc_n_jobs': 8, 'sgdc_learning_rate': 'adaptive', 'sgdc_eta0': 2.61778605760342, 'sgdc_early_stopping': True, 'sgdc_validation_fraction': 0.25, 'sgdc_n_iter_no_change': 10}. Best is trial 0 with value: 5.072128002049821.\u001b[0m\n",
      "\u001b[32m[I 2022-03-11 01:14:27,467]\u001b[0m Trial 7 finished with value: 14.733324196430429 and parameters: {'sgdc_loss': 'modified_huber', 'sgdc_penalty': 'elasticnet', 'sgdc_alpha': 221.2640446693302, 'sgdc_l1_ratio': 0.2, 'sgdc_n_jobs': 8, 'sgdc_learning_rate': 'adaptive', 'sgdc_eta0': 0.11170314821853897, 'sgdc_early_stopping': True, 'sgdc_validation_fraction': 0.25, 'sgdc_n_iter_no_change': 10}. Best is trial 0 with value: 5.072128002049821.\u001b[0m\n",
      "\u001b[32m[I 2022-03-11 01:14:27,564]\u001b[0m Trial 8 finished with value: 14.733324196430429 and parameters: {'sgdc_loss': 'log', 'sgdc_penalty': 'elasticnet', 'sgdc_alpha': 2.5611439344884523, 'sgdc_l1_ratio': 0.6000000000000001, 'sgdc_n_jobs': 8, 'sgdc_learning_rate': 'constant', 'sgdc_eta0': 74.76762614898233, 'sgdc_early_stopping': True, 'sgdc_validation_fraction': 0.25, 'sgdc_n_iter_no_change': 10}. Best is trial 0 with value: 5.072128002049821.\u001b[0m\n",
      "\u001b[32m[I 2022-03-11 01:14:27,655]\u001b[0m Trial 9 finished with value: 5.072128002049821 and parameters: {'sgdc_loss': 'hinge', 'sgdc_penalty': 'elasticnet', 'sgdc_alpha': 2.023159523349543e-06, 'sgdc_l1_ratio': 0.6000000000000001, 'sgdc_n_jobs': 8, 'sgdc_learning_rate': 'optimal', 'sgdc_eta0': 23.13512606610634, 'sgdc_early_stopping': True, 'sgdc_validation_fraction': 0.25, 'sgdc_n_iter_no_change': 10}. Best is trial 0 with value: 5.072128002049821.\u001b[0m\n",
      "\u001b[32m[I 2022-03-11 01:14:27,715]\u001b[0m A new study created in memory with name: no-name-ae4c72f2-b06d-4cf6-a813-2f5b8a1e4867\u001b[0m\n",
      "\u001b[32m[I 2022-03-11 01:14:27,812]\u001b[0m Trial 0 finished with value: 14.733324196430429 and parameters: {'xgbc_n_estimators': 190, 'xgbc_use_label_encoder': False, 'xgbc_learning_rate': 0.9646765940585111, 'xgbc_booster': 'gblinear', 'xgbc_n_jobs': 8, 'xgbc_gamma': 0.0004217497520499438}. Best is trial 0 with value: 14.733324196430429.\u001b[0m\n"
     ]
    },
    {
     "name": "stdout",
     "output_type": "stream",
     "text": [
      "Study optimization finished at 2022-03-11 01:14:27.\n",
      "--------------------------------------------------------------------------------\n",
      "--------------------             XGBClassifier              --------------------\n",
      "--------------------------------------------------------------------------------\n",
      "Study optimization started at 2022-03-11 01:14:27.\n",
      "[01:14:27] WARNING: C:/Users/Administrator/workspace/xgboost-win64_release_1.5.1/src/learner.cc:576: \n",
      "Parameters: { \"gamma\" } might not be used.\n",
      "\n",
      "  This could be a false alarm, with some parameters getting used by language bindings but\n",
      "  then being mistakenly passed down to XGBoost core, or some parameter actually being used\n",
      "  but getting flagged wrongly here. Please open an issue if you find any such cases.\n",
      "\n",
      "\n",
      "[01:14:27] WARNING: C:/Users/Administrator/workspace/xgboost-win64_release_1.5.1/src/learner.cc:1115: Starting in XGBoost 1.3.0, the default evaluation metric used with the objective 'multi:softprob' was changed from 'merror' to 'mlogloss'. Explicitly set eval_metric if you'd like to restore the old behavior.\n",
      "[01:14:27] WARNING: C:/Users/Administrator/workspace/xgboost-win64_release_1.5.1/src/learner.cc:576: \n",
      "Parameters: { \"gamma\" } might not be used.\n",
      "\n",
      "  This could be a false alarm, with some parameters getting used by language bindings but\n",
      "  then being mistakenly passed down to XGBoost core, or some parameter actually being used\n",
      "  but getting flagged wrongly here. Please open an issue if you find any such cases.\n",
      "\n",
      "\n",
      "[01:14:27] WARNING: C:/Users/Administrator/workspace/xgboost-win64_release_1.5.1/src/learner.cc:1115: Starting in XGBoost 1.3.0, the default evaluation metric used with the objective 'multi:softprob' was changed from 'merror' to 'mlogloss'. Explicitly set eval_metric if you'd like to restore the old behavior.\n"
     ]
    },
    {
     "name": "stderr",
     "output_type": "stream",
     "text": [
      "\u001b[32m[I 2022-03-11 01:14:27,925]\u001b[0m Trial 1 finished with value: 11.110375623537703 and parameters: {'xgbc_n_estimators': 80, 'xgbc_use_label_encoder': False, 'xgbc_learning_rate': 0.00039999821015857033, 'xgbc_booster': 'gblinear', 'xgbc_n_jobs': 8, 'xgbc_gamma': 6.0947130217009794e-05}. Best is trial 1 with value: 11.110375623537703.\u001b[0m\n",
      "\u001b[32m[I 2022-03-11 01:14:28,063]\u001b[0m Trial 2 finished with value: 6.279777526347398 and parameters: {'xgbc_n_estimators': 150, 'xgbc_use_label_encoder': False, 'xgbc_learning_rate': 0.002393896896018566, 'xgbc_booster': 'gblinear', 'xgbc_n_jobs': 8, 'xgbc_gamma': 0.290809177271845}. Best is trial 2 with value: 6.279777526347398.\u001b[0m\n"
     ]
    },
    {
     "name": "stdout",
     "output_type": "stream",
     "text": [
      "[01:14:27] WARNING: C:/Users/Administrator/workspace/xgboost-win64_release_1.5.1/src/learner.cc:576: \n",
      "Parameters: { \"gamma\" } might not be used.\n",
      "\n",
      "  This could be a false alarm, with some parameters getting used by language bindings but\n",
      "  then being mistakenly passed down to XGBoost core, or some parameter actually being used\n",
      "  but getting flagged wrongly here. Please open an issue if you find any such cases.\n",
      "\n",
      "\n",
      "[01:14:27] WARNING: C:/Users/Administrator/workspace/xgboost-win64_release_1.5.1/src/learner.cc:1115: Starting in XGBoost 1.3.0, the default evaluation metric used with the objective 'multi:softprob' was changed from 'merror' to 'mlogloss'. Explicitly set eval_metric if you'd like to restore the old behavior.\n",
      "[01:14:28] WARNING: C:/Users/Administrator/workspace/xgboost-win64_release_1.5.1/src/learner.cc:576: \n",
      "Parameters: { \"gamma\" } might not be used.\n",
      "\n",
      "  This could be a false alarm, with some parameters getting used by language bindings but\n",
      "  then being mistakenly passed down to XGBoost core, or some parameter actually being used\n",
      "  but getting flagged wrongly here. Please open an issue if you find any such cases.\n",
      "\n",
      "\n",
      "[01:14:28] WARNING: C:/Users/Administrator/workspace/xgboost-win64_release_1.5.1/src/learner.cc:1115: Starting in XGBoost 1.3.0, the default evaluation metric used with the objective 'multi:softprob' was changed from 'merror' to 'mlogloss'. Explicitly set eval_metric if you'd like to restore the old behavior.\n"
     ]
    },
    {
     "name": "stderr",
     "output_type": "stream",
     "text": [
      "\u001b[32m[I 2022-03-11 01:14:28,213]\u001b[0m Trial 3 finished with value: 5.313657906909336 and parameters: {'xgbc_n_estimators': 180, 'xgbc_use_label_encoder': False, 'xgbc_learning_rate': 0.31164960799758373, 'xgbc_booster': 'gblinear', 'xgbc_n_jobs': 8, 'xgbc_gamma': 3.4236315737866606e-05}. Best is trial 3 with value: 5.313657906909336.\u001b[0m\n",
      "\u001b[32m[I 2022-03-11 01:14:28,385]\u001b[0m Trial 4 finished with value: 0.7245897145785484 and parameters: {'xgbc_n_estimators': 30, 'xgbc_use_label_encoder': False, 'xgbc_learning_rate': 0.07821976221698503, 'xgbc_booster': 'dart', 'xgbc_n_jobs': 8, 'xgbc_gamma': 0.3215513279153094}. Best is trial 4 with value: 0.7245897145785484.\u001b[0m\n"
     ]
    },
    {
     "name": "stdout",
     "output_type": "stream",
     "text": [
      "[01:14:28] WARNING: C:/Users/Administrator/workspace/xgboost-win64_release_1.5.1/src/learner.cc:1115: Starting in XGBoost 1.3.0, the default evaluation metric used with the objective 'multi:softprob' was changed from 'merror' to 'mlogloss'. Explicitly set eval_metric if you'd like to restore the old behavior.\n",
      "[01:14:28] WARNING: C:/Users/Administrator/workspace/xgboost-win64_release_1.5.1/src/learner.cc:1115: Starting in XGBoost 1.3.0, the default evaluation metric used with the objective 'multi:softprob' was changed from 'merror' to 'mlogloss'. Explicitly set eval_metric if you'd like to restore the old behavior.\n"
     ]
    },
    {
     "name": "stderr",
     "output_type": "stream",
     "text": [
      "\u001b[32m[I 2022-03-11 01:14:28,557]\u001b[0m Trial 5 finished with value: 0.7245897145785484 and parameters: {'xgbc_n_estimators': 80, 'xgbc_use_label_encoder': False, 'xgbc_learning_rate': 0.0006110703461989325, 'xgbc_booster': 'gbtree', 'xgbc_n_jobs': 8, 'xgbc_gamma': 0.0017024364478202656}. Best is trial 4 with value: 0.7245897145785484.\u001b[0m\n"
     ]
    },
    {
     "name": "stdout",
     "output_type": "stream",
     "text": [
      "[01:14:28] WARNING: C:/Users/Administrator/workspace/xgboost-win64_release_1.5.1/src/learner.cc:1115: Starting in XGBoost 1.3.0, the default evaluation metric used with the objective 'multi:softprob' was changed from 'merror' to 'mlogloss'. Explicitly set eval_metric if you'd like to restore the old behavior.\n"
     ]
    },
    {
     "name": "stderr",
     "output_type": "stream",
     "text": [
      "\u001b[32m[I 2022-03-11 01:14:28,858]\u001b[0m Trial 6 finished with value: 0.7245897145785484 and parameters: {'xgbc_n_estimators': 190, 'xgbc_use_label_encoder': False, 'xgbc_learning_rate': 3.820933037057384e-06, 'xgbc_booster': 'gbtree', 'xgbc_n_jobs': 8, 'xgbc_gamma': 5.104048622211069e-06}. Best is trial 4 with value: 0.7245897145785484.\u001b[0m\n",
      "\u001b[32m[I 2022-03-11 01:14:28,993]\u001b[0m Trial 7 finished with value: 7.728956955504489 and parameters: {'xgbc_n_estimators': 140, 'xgbc_use_label_encoder': False, 'xgbc_learning_rate': 0.0004784478260421216, 'xgbc_booster': 'gblinear', 'xgbc_n_jobs': 8, 'xgbc_gamma': 0.0014355808245087903}. Best is trial 4 with value: 0.7245897145785484.\u001b[0m\n"
     ]
    },
    {
     "name": "stdout",
     "output_type": "stream",
     "text": [
      "[01:14:28] WARNING: C:/Users/Administrator/workspace/xgboost-win64_release_1.5.1/src/learner.cc:576: \n",
      "Parameters: { \"gamma\" } might not be used.\n",
      "\n",
      "  This could be a false alarm, with some parameters getting used by language bindings but\n",
      "  then being mistakenly passed down to XGBoost core, or some parameter actually being used\n",
      "  but getting flagged wrongly here. Please open an issue if you find any such cases.\n",
      "\n",
      "\n",
      "[01:14:28] WARNING: C:/Users/Administrator/workspace/xgboost-win64_release_1.5.1/src/learner.cc:1115: Starting in XGBoost 1.3.0, the default evaluation metric used with the objective 'multi:softprob' was changed from 'merror' to 'mlogloss'. Explicitly set eval_metric if you'd like to restore the old behavior.\n",
      "[01:14:29] WARNING: C:/Users/Administrator/workspace/xgboost-win64_release_1.5.1/src/learner.cc:1115: Starting in XGBoost 1.3.0, the default evaluation metric used with the objective 'multi:softprob' was changed from 'merror' to 'mlogloss'. Explicitly set eval_metric if you'd like to restore the old behavior.\n"
     ]
    },
    {
     "name": "stderr",
     "output_type": "stream",
     "text": [
      "\u001b[32m[I 2022-03-11 01:14:29,477]\u001b[0m Trial 8 finished with value: 0.7245897145785484 and parameters: {'xgbc_n_estimators': 70, 'xgbc_use_label_encoder': False, 'xgbc_learning_rate': 0.0051627867573096325, 'xgbc_booster': 'dart', 'xgbc_n_jobs': 8, 'xgbc_gamma': 2.1037493472940583e-06}. Best is trial 4 with value: 0.7245897145785484.\u001b[0m\n"
     ]
    },
    {
     "name": "stdout",
     "output_type": "stream",
     "text": [
      "[01:14:29] WARNING: C:/Users/Administrator/workspace/xgboost-win64_release_1.5.1/src/learner.cc:1115: Starting in XGBoost 1.3.0, the default evaluation metric used with the objective 'multi:softprob' was changed from 'merror' to 'mlogloss'. Explicitly set eval_metric if you'd like to restore the old behavior.\n"
     ]
    },
    {
     "name": "stderr",
     "output_type": "stream",
     "text": [
      "\u001b[32m[I 2022-03-11 01:14:30,939]\u001b[0m Trial 9 finished with value: 0.7245897145785484 and parameters: {'xgbc_n_estimators': 140, 'xgbc_use_label_encoder': False, 'xgbc_learning_rate': 0.3198111202170975, 'xgbc_booster': 'dart', 'xgbc_n_jobs': 8, 'xgbc_gamma': 1.756530654269238e-05}. Best is trial 4 with value: 0.7245897145785484.\u001b[0m\n"
     ]
    },
    {
     "name": "stdout",
     "output_type": "stream",
     "text": [
      "Study optimization finished at 2022-03-11 01:14:31.\n"
     ]
    }
   ],
   "source": [
    "from catboost import CatBoostClassifier\n",
    "from sklearn.kernel_approximation import AdditiveChi2Sampler, Nystroem, PolynomialCountSketch, RBFSampler\n",
    "from sklearn.discriminant_analysis import LinearDiscriminantAnalysis, QuadraticDiscriminantAnalysis\n",
    "from sklearn.ensemble import AdaBoostClassifier, ExtraTreesClassifier, HistGradientBoostingClassifier, RandomForestClassifier\n",
    "from sklearn.gaussian_process import GaussianProcessClassifier\n",
    "from sklearn.linear_model import PassiveAggressiveClassifier, Perceptron, RidgeClassifier, SGDClassifier\n",
    "from sklearn.naive_bayes import ComplementNB, GaussianNB, MultinomialNB\n",
    "from sklearn.neighbors import KNeighborsClassifier, NearestCentroid, RadiusNeighborsClassifier\n",
    "from sklearn.neural_network import MLPClassifier\n",
    "from sklearn.svm import LinearSVC\n",
    "from sklearn.tree import DecisionTreeClassifier\n",
    "from xgboost import XGBClassifier\n",
    "from sklearn.metrics import classification_report\n",
    "\n",
    "best_results = {}\n",
    "\n",
    "classifier_names = [\n",
    "    'AdaBoostClassifier',\n",
    "    #'CatBoostClassifier',\n",
    "    'ComplementNB',\n",
    "    'DecisionTreeClassifier',\n",
    "    'ExtraTreesClassifier',\n",
    "    'GaussianNB',\n",
    "    #'GaussianProcessClassifier',\n",
    "    'HistGradientBoostingClassifier',\n",
    "    #'KNeighborsClassifier',\n",
    "    'LinearDiscriminantAnalysis',\n",
    "    'LinearSVC_AdditiveChi2Sampler',\n",
    "    #'LinearSVC_Nystroem',\n",
    "    #'LinearSVC_PolynomialCountSketch',\n",
    "    'LinearSVC_RBFSampler',\n",
    "    'MLPClassifier',\n",
    "    'MultinomialNB',\n",
    "    'NearestCentroid',\n",
    "    'PassiveAggressiveClassifier',\n",
    "    'Perceptron',\n",
    "    'QuadraticDiscriminantAnalysis',\n",
    "    #'RadiusNeighborsClassifier',\n",
    "    'RandomForestClassifier',\n",
    "    'RidgeClassifier',\n",
    "    'SGDClassifier',\n",
    "    'XGBClassifier'\n",
    "]\n",
    "\n",
    "for classifier_name in classifier_names:\n",
    "\n",
    "    def objective(trial):\n",
    "\n",
    "        if classifier_name      == 'AdaBoostClassifier':\n",
    "            n_estimators         = trial.suggest_int('abc_n_estimators', 10, 200, 10)\n",
    "            learning_rate        = trial.suggest_loguniform('abc_learning_rate', 1e-6, 1e0)\n",
    "            classifier_obj       = AdaBoostClassifier(n_estimators=n_estimators,learning_rate=learning_rate)\n",
    "            \n",
    "        elif classifier_name    == 'CatBoostClassifier':\n",
    "            iterations           = trial.suggest_categorical('cbc_iterations', [1000])\n",
    "            learning_rate        = trial.suggest_loguniform('cbc_learning_rate', 1e-3, 1e0)\n",
    "            sampling_frequency   = trial.suggest_categorical('cbc_sampling_frequency', ['PerTree', 'PerTreeLevel'])\n",
    "            depth                = trial.suggest_int('cbc_depth', 2, 8, 2)\n",
    "            thread_count         = trial.suggest_categorical('cbc_thread_count', [n_parallel])\n",
    "            verbose              = trial.suggest_categorical('cbc_verbose', [False])\n",
    "            classifier_obj       = CatBoostClassifier(iterations=iterations,\n",
    "                                                      learning_rate=learning_rate,\n",
    "                                                      sampling_frequency=sampling_frequency,\n",
    "                                                      depth=depth,\n",
    "                                                      thread_count=thread_count,\n",
    "                                                      verbose=verbose)\n",
    "\n",
    "        elif classifier_name    == 'ComplementNB':\n",
    "            alpha                = trial.suggest_discrete_uniform('cnb_alpha', 0.0, 1.0, 0.05)\n",
    "            fit_prior            = trial.suggest_categorical('cnb_fit_prior', [False, True])\n",
    "            norm                 = trial.suggest_categorical('cnb_norm', [False, True])\n",
    "            classifier_obj       = ComplementNB(alpha=alpha,fit_prior=fit_prior,norm=norm)\n",
    "\n",
    "        elif classifier_name    == 'DecisionTreeClassifier':\n",
    "            criterion            = trial.suggest_categorical('dtc_criterion', ['gini', 'entropy'])\n",
    "            splitter             = trial.suggest_categorical('dtc_splitter', ['best', 'random'])\n",
    "            min_samples_split    = trial.suggest_int('dtc_min_samples_split', 2, 50)\n",
    "            min_samples_leaf     = trial.suggest_int('dtc_min_samples_leaf', 1, 50)\n",
    "            max_features         = trial.suggest_int('dtc_max_features', 1, X_train.shape[1])\n",
    "            classifier_obj       = DecisionTreeClassifier(criterion=criterion, \n",
    "                                                          splitter=splitter, \n",
    "                                                          min_samples_split=min_samples_split,\n",
    "                                                          min_samples_leaf=min_samples_leaf,\n",
    "                                                          max_features=max_features)\n",
    "\n",
    "        elif classifier_name    == 'ExtraTreesClassifier':\n",
    "            n_estimators         = trial.suggest_int('etc_n_estimators', 10, 200, 10)\n",
    "            criterion            = trial.suggest_categorical('etc_criterion', ['gini', 'entropy'])\n",
    "            min_samples_split    = trial.suggest_int('etc_min_samples_split', 2, 50)\n",
    "            min_samples_leaf     = trial.suggest_int('etc_min_samples_leaf', 1, 50)\n",
    "            max_features         = trial.suggest_int('etc_max_features', 1, X_train.shape[1])\n",
    "            bootstrap            = trial.suggest_categorical('etc_bootstrap', [False, True])\n",
    "            n_jobs               = trial.suggest_categorical('etc_n_jobs', [n_parallel])\n",
    "            classifier_obj       = ExtraTreesClassifier(n_estimators=n_estimators,\n",
    "                                                        criterion=criterion, \n",
    "                                                        min_samples_split=min_samples_split,\n",
    "                                                        min_samples_leaf=min_samples_leaf,\n",
    "                                                        max_features=max_features,\n",
    "                                                        bootstrap=bootstrap,\n",
    "                                                        n_jobs=n_jobs)\n",
    "\n",
    "        elif classifier_name    == 'GaussianNB':\n",
    "            var_smoothing        = trial.suggest_loguniform('gnb_var_smoothing', 1e-12, 1e3)\n",
    "            classifier_obj       = GaussianNB(var_smoothing=var_smoothing)\n",
    "\n",
    "        elif classifier_name    == 'GaussianProcessClassifier':\n",
    "            max_iter_predict     = trial.suggest_int('gpc_max_iter_predict', 50, 200, 50)\n",
    "            multi_class          = trial.suggest_categorical('gpc_multi_class', ['one_vs_one', 'one_vs_rest'])\n",
    "            classifier_obj       = GaussianProcessClassifier(max_iter_predict=max_iter_predict,\n",
    "                                                             multi_class=multi_class)\n",
    "        \n",
    "        elif classifier_name    == 'HistGradientBoostingClassifier':\n",
    "            learning_rate        = trial.suggest_loguniform('hgbc_learning_rate', 1e-3, 1e0)\n",
    "            max_iter             = trial.suggest_categorical('hgbc_max_iter', [1000])\n",
    "            min_samples_leaf     = trial.suggest_int('hgbc_min_samples_leaf', 1, 50)\n",
    "            l2_regularization    = trial.suggest_discrete_uniform('hgbc_l2_regularization', 0.0, 1.0, 0.2)\n",
    "            max_bins             = trial.suggest_categorical('hgbc_max_bins', [63, 127, 255])\n",
    "            early_stopping       = trial.suggest_categorical('hgbc_early_stopping', [True])\n",
    "            validation_fraction  = trial.suggest_categorical('hgbc_validation_fraction', [0.25])\n",
    "            n_iter_no_change     = trial.suggest_categorical('hgbc_n_iter_no_change', [10])\n",
    "            classifier_obj       = HistGradientBoostingClassifier(learning_rate=learning_rate,\n",
    "                                                                 max_iter=max_iter,\n",
    "                                                                 min_samples_leaf=min_samples_leaf,\n",
    "                                                                 l2_regularization=l2_regularization,\n",
    "                                                                 max_bins=max_bins,\n",
    "                                                                 early_stopping=early_stopping,\n",
    "                                                                 validation_fraction=validation_fraction,\n",
    "                                                                 n_iter_no_change=n_iter_no_change)\n",
    "        \n",
    "        elif classifier_name    == 'KNeighborsClassifier':\n",
    "            n_neighbors          = trial.suggest_int('knc_n_neighbors', 1, 15, 2)\n",
    "            leaf_size            = trial.suggest_int('knc_leaf_size', 10, 100, 10)\n",
    "            n_jobs               = trial.suggest_categorical('knc_n_jobs', [n_parallel])\n",
    "            classifier_obj       = KNeighborsClassifier(n_neighbors=n_neighbors,leaf_size=leaf_size,n_jobs=n_jobs)\n",
    "\n",
    "        elif classifier_name    == 'LinearDiscriminantAnalysis':\n",
    "            solver               = trial.suggest_categorical('lda_solver', ['svd', 'lsqr', 'eigen'])\n",
    "            shrinkage            = None if solver == 'svd' else trial.suggest_categorical('lda_shrinkage', ['auto'])\n",
    "            n_features,n_classes = X_train.shape[1],len(set(y_train))\n",
    "            n_components         = trial.suggest_int('lda_n_components', 1, min(n_features, n_classes-1), 1)\n",
    "            tol                  = 1e-4 if solver == 'svd' else trial.suggest_categorical('lda_tol', [1e-5, 1e-4, 1e-3])\n",
    "            classifier_obj       = LinearDiscriminantAnalysis(solver=solver,shrinkage=shrinkage,n_components=n_components,tol=tol)\n",
    "\n",
    "        elif classifier_name    == 'LinearSVC_AdditiveChi2Sampler':\n",
    "            kernel_sample_steps  = trial.suggest_categorical('lsvc_ac2s_kernel_sample_steps', [1, 2, 3])\n",
    "            dual                 = trial.suggest_categorical('lsvc_ac2s_dual', [False])\n",
    "            C                    = trial.suggest_loguniform('lsvc_ac2s_C', 1e-6, 1e3)\n",
    "            max_iter             = trial.suggest_categorical('lsvc_ac2s_max_iter', [1000])\n",
    "            classifier_obj       = LinearSVC(dual=dual,C=C,max_iter=max_iter)\n",
    "        \n",
    "        elif classifier_name    == 'LinearSVC_Nystroem':\n",
    "            kernel_gamma         = trial.suggest_loguniform('lsvc_nystroem_kernel_gamma', 1e-3, 1e3)\n",
    "            kernel_n_components  = trial.suggest_int('lsvc_nystroem_kernel_n_components', 50, 150, 50)\n",
    "            dual                 = trial.suggest_categorical('lsvc_nystroem_dual', [False])\n",
    "            C                    = trial.suggest_loguniform('lsvc_nystroem_C', 1e-6, 1e3)\n",
    "            max_iter             = trial.suggest_categorical('lsvc_nystroem_max_iter', [1000])\n",
    "            classifier_obj       = LinearSVC(dual=dual,C=C,max_iter=max_iter)\n",
    "        \n",
    "        elif classifier_name    == 'LinearSVC_PolynomialCountSketch':\n",
    "            kernel_gamma         = trial.suggest_loguniform('lsvc_pcs_kernel_gamma', 1e-3, 1e3)\n",
    "            kernel_n_components  = trial.suggest_int('lsvc_pcs_kernel_n_components', 50, 150, 50)\n",
    "            kernel_degree        = trial.suggest_categorical('lsvc_pcs_degree', [2])\n",
    "            dual                 = trial.suggest_categorical('lsvc_pcs_dual', [False])\n",
    "            C                    = trial.suggest_loguniform('lsvc_pcs_C', 1e-6, 1e3)\n",
    "            max_iter             = trial.suggest_categorical('lsvc_pcs,max_iter', [1000])\n",
    "            classifier_obj       = LinearSVC(dual=dual,C=C,max_iter=max_iter)\n",
    "        \n",
    "        elif classifier_name    == 'LinearSVC_RBFSampler':\n",
    "            kernel_gamma         = trial.suggest_loguniform('lsvc_rbfs_kernel_gamma', 1e-3, 1e3)\n",
    "            kernel_n_components  = trial.suggest_int('lsvc_rbfs_kernel_n_components', 50, 150, 50)\n",
    "            dual                 = trial.suggest_categorical('lsvc_rbfs_dual', [False])\n",
    "            C                    = trial.suggest_loguniform('lsvc_rbfs_C', 1e-6, 1e3)\n",
    "            max_iter             = trial.suggest_categorical('lsvc_rbfs,max_iter', [1000])\n",
    "            classifier_obj       = LinearSVC(dual=dual,C=C,max_iter=max_iter)\n",
    "\n",
    "        elif classifier_name    == 'MLPClassifier':\n",
    "            create_hidden_layers = lambda value,count : tuple([int(value*2**(count-i-1)) for i in range(0,count)])\n",
    "            hidden_layer_count   = trial.suggest_int('mlpc_hidden_layer_count', 1, 3, 1)\n",
    "            hidden_layer_sizes   = create_hidden_layers(2*X_train.shape[1], hidden_layer_count)\n",
    "            learning_rate        = trial.suggest_categorical('mlpc_learning_rate', ['constant', 'invscaling', 'adaptive'])\n",
    "            learning_rate_init   = trial.suggest_loguniform('mlpc_learning_rate_init', 1e-6, 1e0)\n",
    "            max_iter             = trial.suggest_categorical('mplc_max_iter', [2000])\n",
    "            classifier_obj       = MLPClassifier(hidden_layer_sizes=hidden_layer_sizes,\n",
    "                                                 learning_rate=learning_rate,\n",
    "                                                 learning_rate_init=learning_rate_init,\n",
    "                                                 max_iter=max_iter)\n",
    "\n",
    "        elif classifier_name    == 'MultinomialNB':\n",
    "            alpha                = trial.suggest_discrete_uniform('mnb_alpha', 0.0, 1.0, 0.05)\n",
    "            fit_prior            = trial.suggest_categorical('mnb_fit_prior', [False, True])\n",
    "            classifier_obj       = MultinomialNB(alpha=alpha,fit_prior=fit_prior)\n",
    "            \n",
    "        elif classifier_name    == 'NearestCentroid':\n",
    "            metric               = trial.suggest_categorical('nc_metric', ['cityblock', 'cosine', 'euclidean', 'l1', 'l2', 'manhattan'])\n",
    "            shrink_threshold     = trial.suggest_categorical('nc_shrink_threshold', [None, 0.2])\n",
    "            classifier_obj       = NearestCentroid(metric=metric,shrink_threshold=shrink_threshold)\n",
    "\n",
    "        elif classifier_name    == 'PassiveAggressiveClassifier':\n",
    "            C                    = trial.suggest_loguniform('pac_C', 1e-6, 1e3)\n",
    "            early_stopping       = trial.suggest_categorical('pac_early_stopping', [True])\n",
    "            validation_fraction  = trial.suggest_categorical('pac_validation_fraction', [0.25])\n",
    "            n_iter_no_change     = trial.suggest_categorical('pac_n_iter_no_change', [10])\n",
    "            n_jobs               = trial.suggest_categorical('pac_n_jobs', [n_parallel])\n",
    "            classifier_obj       = PassiveAggressiveClassifier(C=C,\n",
    "                                                               early_stopping=early_stopping,\n",
    "                                                               validation_fraction=validation_fraction,\n",
    "                                                               n_iter_no_change=n_iter_no_change,\n",
    "                                                               n_jobs=n_jobs)\n",
    "\n",
    "        elif classifier_name    == 'Perceptron':\n",
    "            penalty              = trial.suggest_categorical('p_penalty', ['elasticnet'])\n",
    "            alpha                = trial.suggest_loguniform('p_alpha', 1e-6, 1e0)\n",
    "            eta0                 = trial.suggest_discrete_uniform('p_eta0', 0.5, 2.0, 0.5)\n",
    "            n_jobs               = trial.suggest_categorical('p_n_jobs', [n_parallel])\n",
    "            early_stopping       = trial.suggest_categorical('p_early_stopping', [True])\n",
    "            validation_fraction  = trial.suggest_categorical('p_validation_fraction', [0.25])\n",
    "            n_iter_no_change     = trial.suggest_categorical('p_n_iter_no_change', [10])\n",
    "            classifier_obj       = Perceptron(penalty=penalty,\n",
    "                                              alpha=alpha,\n",
    "                                              eta0=eta0,\n",
    "                                              n_jobs=n_jobs,\n",
    "                                              early_stopping=early_stopping,\n",
    "                                              n_iter_no_change=n_iter_no_change)\n",
    "\n",
    "        elif classifier_name    == 'QuadraticDiscriminantAnalysis':\n",
    "            reg_param            = trial.suggest_discrete_uniform('qda_reg_param', 0.0, 1.0, 0.05)\n",
    "            tol                  = trial.suggest_loguniform('qda_tol', 1e-6, 1e-3)\n",
    "            classifier_obj       = QuadraticDiscriminantAnalysis(reg_param=reg_param,tol=tol)\n",
    "\n",
    "        elif classifier_name    == 'RadiusNeighborsClassifier':\n",
    "            radius               = trial.suggest_categorical('rnc_radius', [0.5, 1.0, 2.0])\n",
    "            weights              = trial.suggest_categorical('rnc_weights', ['uniform', 'distance'])\n",
    "            n_jobs               = trial.suggest_categorical('rnc_n_jobs', [n_parallel])\n",
    "            classifier_obj       = RadiusNeighborsClassifier(radius=radius,weights=weights,n_jobs=n_jobs)\n",
    "\n",
    "        elif classifier_name    == 'RandomForestClassifier':\n",
    "            n_estimators         = trial.suggest_int('rfc_n_estimators', 10, 200, 10)\n",
    "            criterion            = trial.suggest_categorical('criterion', ['gini', 'entropy'])\n",
    "            min_samples_split    = trial.suggest_int('rfc_min_samples_split', 2, 50)\n",
    "            min_samples_leaf     = trial.suggest_int('rfc_min_samples_leaf', 1, 50)\n",
    "            max_features         = trial.suggest_int('rfc_max_features', 1, X_train.shape[1])\n",
    "            bootstrap            = trial.suggest_categorical('rfc_bootstrap', [False, True])\n",
    "            n_jobs               = trial.suggest_categorical('rfc_n_jobs', [n_parallel])\n",
    "            classifier_obj       = RandomForestClassifier(n_estimators=n_estimators,\n",
    "                                                          criterion=criterion, \n",
    "                                                          min_samples_split=min_samples_split,\n",
    "                                                          min_samples_leaf=min_samples_leaf,\n",
    "                                                          max_features=max_features,\n",
    "                                                          bootstrap=bootstrap,\n",
    "                                                          n_jobs=n_jobs)\n",
    "                                                          \n",
    "        elif classifier_name    == 'RidgeClassifier':\n",
    "            alpha                = trial.suggest_loguniform('rc_C', 1e-6, 1e6)\n",
    "            tol                  = trial.suggest_loguniform('rc_tol', 1e-4, 1e-2)\n",
    "            classifier_obj       = RidgeClassifier(alpha=alpha,tol=tol)\n",
    "        \n",
    "        elif classifier_name    == 'SGDClassifier':\n",
    "            loss                 = trial.suggest_categorical('sgdc_loss', ['hinge', 'log', 'modified_huber', 'squared_hinge'])\n",
    "            penalty              = trial.suggest_categorical('sgdc_penalty', ['elasticnet'])\n",
    "            alpha                = trial.suggest_loguniform('sgdc_alpha', 1e-6, 1e3)\n",
    "            l1_ratio             = trial.suggest_discrete_uniform('sgdc_l1_ratio', 0.0, 1.0, 0.2)\n",
    "            n_jobs               = trial.suggest_categorical('sgdc_n_jobs', [n_parallel])\n",
    "            learning_rate        = trial.suggest_categorical('sgdc_learning_rate', ['constant', 'optimal', 'invscaling', 'adaptive'])\n",
    "            eta0                 = trial.suggest_loguniform('sgdc_eta0', 1e-3, 1e3)\n",
    "            early_stopping       = trial.suggest_categorical('sgdc_early_stopping', [True])\n",
    "            validation_fraction  = trial.suggest_categorical('sgdc_validation_fraction', [0.25])\n",
    "            n_iter_no_change     = trial.suggest_categorical('sgdc_n_iter_no_change', [10])\n",
    "            classifier_obj       = SGDClassifier(loss=loss,\n",
    "                                                 penalty=penalty,\n",
    "                                                 alpha=alpha,\n",
    "                                                 l1_ratio=l1_ratio,\n",
    "                                                 n_jobs=n_jobs,\n",
    "                                                 learning_rate=learning_rate,\n",
    "                                                 eta0=eta0,\n",
    "                                                 early_stopping=early_stopping,\n",
    "                                                 validation_fraction=validation_fraction,\n",
    "                                                 n_iter_no_change=n_iter_no_change)\n",
    "            \n",
    "        else: # classifier_name == 'XGBClassifier'\n",
    "            n_estimators         = trial.suggest_int('xgbc_n_estimators', 10, 200, 10)\n",
    "            use_label_encoder    = trial.suggest_categorical('xgbc_use_label_encoder', [False])\n",
    "            learning_rate        = trial.suggest_loguniform('xgbc_learning_rate', 1e-6, 1e0)\n",
    "            booster              = trial.suggest_categorical('xgbc_booster', ['gbtree', 'gblinear', 'dart'])\n",
    "            n_jobs               = trial.suggest_categorical('xgbc_n_jobs', [n_parallel])\n",
    "            gamma                = trial.suggest_loguniform('xgbc_gamma', 1e-6, 1e0)\n",
    "            classifier_obj       = XGBClassifier(n_estimators=n_estimators, \n",
    "                                                 use_label_encoder=use_label_encoder,\n",
    "                                                 learning_rate=learning_rate,\n",
    "                                                 booster=booster,\n",
    "                                                 gamma=gamma,\n",
    "                                                 n_jobs=n_jobs)\n",
    "        \n",
    "        # fit, predict and evaluate\n",
    "        \n",
    "        if classifier_name == 'LinearSVC_AdditiveChi2Sampler':\n",
    "            feature_mapper = AdditiveChi2Sampler(sample_steps=kernel_sample_steps).fit(X_train)\n",
    "            classifier_obj.fit(feature_mapper.transform(X_train), y_train)\n",
    "            y_pred = classifier_obj.predict(feature_mapper.transform(X_test))\n",
    "        elif classifier_name == 'LinearSVC_Nystroem':\n",
    "            feature_mapper = Nystroem(gamma=kernel_gamma,n_components=kernel_n_components).fit(X_train)\n",
    "            classifier_obj.fit(feature_mapper.transform(X_train), y_train)\n",
    "            y_pred = classifier_obj.predict(feature_mapper.transform(X_test))\n",
    "        elif classifier_name == 'LinearSVC_PolynomialCountSketch':\n",
    "            feature_mapper = PolynomialCountSketch(gamma=kernel_gamma,n_components=kernel_n_components,degree=kernel_degree).fit(X_train)\n",
    "            classifier_obj.fit(feature_mapper.transform(X_train), y_train)\n",
    "            y_pred = classifier_obj.predict(feature_mapper.transform(X_test))\n",
    "        elif classifier_name == 'LinearSVC_RBFSampler':\n",
    "            feature_mapper = RBFSampler(gamma=kernel_gamma,n_components=kernel_n_components).fit(X_train)\n",
    "            classifier_obj.fit(feature_mapper.transform(X_train), y_train)\n",
    "            y_pred = classifier_obj.predict(feature_mapper.transform(X_test))\n",
    "        else:\n",
    "            classifier_obj.fit(X_train, y_train)\n",
    "            y_pred = classifier_obj.predict(X_test)\n",
    "            \n",
    "        y_pred = one_hot_encode_if_necessary(y_pred)\n",
    "                \n",
    "        report = classification_report(y_test, y_pred, output_dict=True, target_names=class_names, zero_division=0)\n",
    "        \n",
    "        trial.set_user_attr('report', report)\n",
    "        \n",
    "        return error_func[metric_name](y_test, y_pred)\n",
    "    \n",
    "    study = optuna.create_study(direction=directions[metric_name])\n",
    "\n",
    "    print(f'--------------------------------------------------------------------------------')\n",
    "    print(f'-------------------- {classifier_name.center(38)} --------------------')\n",
    "    print(f'--------------------------------------------------------------------------------')\n",
    "        \n",
    "    print(f\"Study optimization started at {datetime.now().strftime('%Y-%m-%d %H:%M:%S')}.\")\n",
    "    #study.optimize(objective, timeout=60*60, n_trials=100, n_jobs=1, catch=(ValueError,), gc_after_trial=True)\n",
    "    study.optimize(objective, timeout=60, n_trials=10, n_jobs=1, catch=(ValueError,), gc_after_trial=True)\n",
    "    print(f\"Study optimization finished at {datetime.now().strftime('%Y-%m-%d %H:%M:%S')}.\")\n",
    "    \n",
    "    #optuna.visualization.plot_optimization_history(study).show()\n",
    "    \n",
    "    if classifier_name not in best_results.keys():\n",
    "        best_results[classifier_name] = []\n",
    "    \n",
    "    for trial in study.get_trials():\n",
    "        try:\n",
    "            best_results[classifier_name].append({\n",
    "                'id'     : trial.number, \n",
    "                'loss'   : trial.values[0], \n",
    "                'params' : trial.params,\n",
    "                'report' : trial.user_attrs['report']\n",
    "            })\n",
    "        except:\n",
    "            best_results[classifier_name] = [{'id':-1, 'loss':0.0, 'params':[], 'report':{}}]"
   ]
  },
  {
   "cell_type": "code",
   "execution_count": 10,
   "id": "be84d1c2",
   "metadata": {},
   "outputs": [
    {
     "name": "stdout",
     "output_type": "stream",
     "text": [
      "Optimization batch finished at 2022-03-11 01:14:31.\n"
     ]
    }
   ],
   "source": [
    "print(f\"Optimization batch finished at {datetime.now().strftime('%Y-%m-%d %H:%M:%S')}.\")"
   ]
  },
  {
   "cell_type": "code",
   "execution_count": 11,
   "id": "fdf06e2f",
   "metadata": {},
   "outputs": [],
   "source": [
    "# for each classifier, sort results according to score (descending)\n",
    "best_results = dict(sorted(best_results.items()))\n",
    "for key,value in best_results.items():\n",
    "    best_results[key] = sorted(best_results[key], key=lambda d: d['loss'], reverse=False) \n",
    "\n",
    "# print the best results found for each classifier\n",
    "# for key,value in best_results.items():\n",
    "    # print(key,json.dumps(value[0], indent=4, default=str))\n",
    "\n",
    "# persist results to filesystem    \n",
    "with open(f'sequential_{uuid}.json', 'w') as fp:\n",
    "    json.dump(best_results, fp)"
   ]
  },
  {
   "cell_type": "code",
   "execution_count": 12,
   "id": "93b44949",
   "metadata": {
    "scrolled": false
   },
   "outputs": [
    {
     "data": {
      "image/png": "[encoded data removed]",
      "text/plain": [
       "<Figure size 2304x1728 with 1 Axes>"
      ]
     },
     "metadata": {
      "needs_background": "light"
     },
     "output_type": "display_data"
    }
   ],
   "source": [
    "plt.figure(figsize=(32,24))\n",
    "plt.rcParams['font.size'] = '16'\n",
    "idx = 0\n",
    "for key, value in best_results.items():\n",
    "    name_i = key\n",
    "    value_i = best_results[key][0]['report']['weighted avg']['f1-score']\n",
    "    plt.bar(name_i,value_i)\n",
    "    plt.text(idx-0.35,value_i+0.01,f'{100*value_i:.1f}%')\n",
    "    idx += 1\n",
    "mean = np.mean([best_results[k][0]['report']['weighted avg']['f1-score'] for k,v in best_results.items()])\n",
    "plt.axhline(mean, color='black', linestyle='--')\n",
    "plt.xticks(rotation=30, ha='right')\n",
    "plt.xticks(range(0,len(best_results)),best_results.keys())\n",
    "plt.yticks(np.linspace(0,1,11))\n",
    "plt.ylim(0,1.05)\n",
    "plt.savefig(f'sequential_{uuid}.png')\n",
    "plt.show(block=False)"
   ]
  },
  {
   "cell_type": "code",
   "execution_count": 13,
   "id": "ab29c8bc",
   "metadata": {},
   "outputs": [
    {
     "name": "stdout",
     "output_type": "stream",
     "text": [
      "Execution finished at 2022-03-11 01:14:31.\n"
     ]
    }
   ],
   "source": [
    "print(f\"Execution finished at {datetime.now().strftime('%Y-%m-%d %H:%M:%S')}.\")"
   ]
  }
 ],
 "metadata": {
  "accelerator": "GPU",
  "colab": {
   "name": "IoT23 - DNN Opt.ipynb",
   "provenance": []
  },
  "kernelspec": {
   "display_name": "Python 3 (ipykernel)",
   "language": "python",
   "name": "python3"
  },
  "language_info": {
   "codemirror_mode": {
    "name": "ipython",
    "version": 3
   },
   "file_extension": ".py",
   "mimetype": "text/x-python",
   "name": "python",
   "nbconvert_exporter": "python",
   "pygments_lexer": "ipython3",
   "version": "3.9.7"
  }
 },
 "nbformat": 4,
 "nbformat_minor": 5
}
