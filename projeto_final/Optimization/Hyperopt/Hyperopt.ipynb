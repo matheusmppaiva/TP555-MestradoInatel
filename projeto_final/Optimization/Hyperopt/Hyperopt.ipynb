{
 "cells": [
  {
   "cell_type": "code",
   "execution_count": 1,
   "id": "Kd-Bm8brf0Fz",
   "metadata": {
    "id": "Kd-Bm8brf0Fz"
   },
   "outputs": [
    {
     "name": "stderr",
     "output_type": "stream",
     "text": [
      "Intel(R) Extension for Scikit-learn* enabled (https://github.com/intel/scikit-learn-intelex)\n"
     ]
    },
    {
     "name": "stdout",
     "output_type": "stream",
     "text": [
      "WARN: OMP_NUM_THREADS=None =>\n",
      "... If you are using openblas if you are using openblas set OMP_NUM_THREADS=1 or risk subprocess calls hanging indefinitely\n"
     ]
    },
    {
     "name": "stderr",
     "output_type": "stream",
     "text": [
      "C:\\Users\\Pessoa\\anaconda3\\envs\\tf\\lib\\site-packages\\xgboost\\compat.py:36: FutureWarning: pandas.Int64Index is deprecated and will be removed from pandas in a future version. Use pandas.Index with the appropriate dtype instead.\n",
      "  from pandas import MultiIndex, Int64Index\n"
     ]
    }
   ],
   "source": [
    "import matplotlib.pyplot as plt\n",
    "import numpy as np\n",
    "import pandas as pd\n",
    "import json\n",
    "import time\n",
    "from datetime import datetime\n",
    "from sklearnex import patch_sklearn\n",
    "patch_sklearn()\n",
    "from hpsklearn import *\n",
    "from hyperopt import hp, tpe"
   ]
  },
  {
   "cell_type": "code",
   "execution_count": 2,
   "id": "2229336e",
   "metadata": {},
   "outputs": [],
   "source": [
    "SEED        = 10\n",
    "folder_name = 'pruned-by-label'\n",
    "limit_rows  = 1000\n",
    "n_cpus      = os.cpu_count()"
   ]
  },
  {
   "cell_type": "code",
   "execution_count": 3,
   "id": "dc175db4",
   "metadata": {
    "scrolled": true
   },
   "outputs": [
    {
     "name": "stdout",
     "output_type": "stream",
     "text": [
      "Execution started at 2022-03-03 22:50:11.\n"
     ]
    }
   ],
   "source": [
    "print(f\"Execution started at {datetime.now().strftime('%Y-%m-%d %H:%M:%S')}.\")"
   ]
  },
  {
   "cell_type": "code",
   "execution_count": 4,
   "id": "208d5970",
   "metadata": {},
   "outputs": [],
   "source": [
    "def load_csv(subset,folder=folder_name):\n",
    "    if limit_rows is None:\n",
    "        full_filename = f'../../Data Preprocessing/{folder}/iot23_combined_{subset}.csv'\n",
    "    else:\n",
    "        full_filename = f'../../Data Preprocessing/{folder}/iot23_combined_{int(limit_rows/1000)}k_{subset}.csv'\n",
    "    \n",
    "    df = pd.read_table(filepath_or_buffer=full_filename, header=None, sep=',').infer_objects().to_numpy()\n",
    "    \n",
    "    return df.ravel() if df.shape[1] == 1 else df"
   ]
  },
  {
   "cell_type": "code",
   "execution_count": 5,
   "id": "steady-hotel",
   "metadata": {
    "id": "steady-hotel",
    "scrolled": false
   },
   "outputs": [
    {
     "name": "stdout",
     "output_type": "stream",
     "text": [
      "X_train (546, 16) \n",
      "y_train (546,)\n",
      "X_test (137, 16) \n",
      "y_test (137,)\n"
     ]
    }
   ],
   "source": [
    "X_train, X_test, y_train, y_test = load_csv('X_train'), load_csv('X_test'), load_csv('y_train'), load_csv('y_test')\n",
    "\n",
    "print('X_train',X_train.shape,'\\ny_train',y_train.shape)\n",
    "print('X_test',X_test.shape,'\\ny_test',y_test.shape)"
   ]
  },
  {
   "cell_type": "code",
   "execution_count": 6,
   "id": "52071f65",
   "metadata": {},
   "outputs": [],
   "source": [
    "def build_clf_name(clf):\n",
    "    clf_name = clf.name.replace('sklearn_','').replace('Classifier','')\n",
    "    if clf_name == 'switch':\n",
    "        clf_name = 'SVC-LL'\n",
    "    elif 'SVC' in clf_name:\n",
    "        for arg in clf.named_args:\n",
    "            if arg[0] == 'kernel':\n",
    "                clf_name += f'-{arg[1].obj.capitalize()[0]}'\n",
    "    clf_name = ''.join(c for c in clf_name if (c.isupper() or c == '-'))\n",
    "    return clf_name"
   ]
  },
  {
   "cell_type": "code",
   "execution_count": 7,
   "id": "a3d7b417",
   "metadata": {},
   "outputs": [],
   "source": [
    "classifiers = [\n",
    "    ada_boost('ab'),\n",
    "    decision_tree('dt'),\n",
    "    extra_trees('et'),\n",
    "    gaussian_nb('gnb'),\n",
    "    gradient_boosting('gb'),\n",
    "    knn('knn'),\n",
    "    liblinear_svc('svc-ll'),\n",
    "    linear_discriminant_analysis('lda',n_components=1),\n",
    "    multinomial_nb('mnb'),\n",
    "    one_vs_one('ovo'),\n",
    "    one_vs_rest('ovr'),\n",
    "    output_code('oc'),\n",
    "    passive_aggressive('pa'),\n",
    "    quadratic_discriminant_analysis('qda'),\n",
    "    random_forest('rf'),\n",
    "    sgd('sgd'),\n",
    "    svc('svc'),\n",
    "    svc_linear('svc-l'),\n",
    "    svc_poly('svc-p'),\n",
    "    svc_rbf('svc-r'),\n",
    "    svc_sigmoid('svc-s'),\n",
    "    xgboost_classification('xgb')\n",
    "]"
   ]
  },
  {
   "cell_type": "code",
   "execution_count": 8,
   "id": "earned-advertiser",
   "metadata": {
    "id": "earned-advertiser",
    "scrolled": true
   },
   "outputs": [
    {
     "name": "stdout",
     "output_type": "stream",
     "text": [
      "\n",
      "******************** AB ********************\n",
      "100%|█████████████████████████████████████████████████| 1/1 [00:01<00:00,  1.93s/trial, best loss: 0.15454545454545454]\n",
      "100%|██████████████████████████████████████████████████| 2/2 [00:02<00:00,  2.03s/trial, best loss: 0.1454545454545455]\n",
      "100%|████████████████████████████████████████████████| 3/3 [00:02<00:00,  2.48s/trial, best loss: 0.036363636363636376]\n",
      "100%|████████████████████████████████████████████████| 4/4 [00:03<00:00,  3.01s/trial, best loss: 0.036363636363636376]\n",
      "100%|████████████████████████████████████████████████| 5/5 [00:02<00:00,  3.00s/trial, best loss: 0.036363636363636376]\n",
      "100%|████████████████████████████████████████████████| 6/6 [00:02<00:00,  2.26s/trial, best loss: 0.036363636363636376]\n",
      "100%|████████████████████████████████████████████████| 7/7 [00:02<00:00,  2.46s/trial, best loss: 0.036363636363636376]\n",
      "100%|████████████████████████████████████████████████| 8/8 [00:01<00:00,  1.96s/trial, best loss: 0.036363636363636376]\n",
      "100%|████████████████████████████████████████████████| 9/9 [00:01<00:00,  1.88s/trial, best loss: 0.036363636363636376]\n",
      "100%|██████████████████████████████████████████████| 10/10 [00:02<00:00,  2.57s/trial, best loss: 0.036363636363636376]\n",
      "(0.8686131386861314, {'learner': AdaBoostClassifier(algorithm='SAMME', learning_rate=0.3756144655926187,\n",
      "                   n_estimators=483, random_state=4), 'preprocs': (), 'ex_preprocs': ()})\n",
      "\n",
      "******************** DT ********************\n",
      "  0%|                                                                            | 0/1 [00:00<?, ?trial/s, best loss=?]"
     ]
    },
    {
     "name": "stderr",
     "output_type": "stream",
     "text": [
      "job exception: __init__() got an unexpected keyword argument 'presort'\n",
      "\n"
     ]
    },
    {
     "name": "stdout",
     "output_type": "stream",
     "text": [
      "  0%|                                                                            | 0/1 [00:00<?, ?trial/s, best loss=?]\n",
      "********** Could not fit DT. Reason: '__init__() got an unexpected keyword argument 'presort''. **********\n",
      "********** Could not evaluate DT. Reason: ''hyperopt_estimator' object has no attribute '_best_preprocs''. **********\n",
      "\n",
      "******************** ET ********************\n",
      "100%|█████████████████████████████████████████████████| 1/1 [00:01<00:00,  1.95s/trial, best loss: 0.15454545454545454]\n",
      "100%|████████████████████████████████████████████████| 2/2 [00:01<00:00,  1.89s/trial, best loss: 0.027272727272727226]\n",
      "100%|████████████████████████████████████████████████| 3/3 [00:03<00:00,  3.23s/trial, best loss: 0.027272727272727226]\n",
      "100%|████████████████████████████████████████████████| 4/4 [00:05<00:00,  5.42s/trial, best loss: 0.027272727272727226]\n",
      "100%|████████████████████████████████████████████████| 5/5 [00:05<00:00,  5.38s/trial, best loss: 0.027272727272727226]\n",
      "100%|████████████████████████████████████████████████| 6/6 [00:02<00:00,  2.59s/trial, best loss: 0.027272727272727226]\n",
      "100%|████████████████████████████████████████████████| 7/7 [00:03<00:00,  3.46s/trial, best loss: 0.027272727272727226]\n",
      "100%|████████████████████████████████████████████████| 8/8 [00:02<00:00,  2.02s/trial, best loss: 0.027272727272727226]\n",
      "100%|████████████████████████████████████████████████| 9/9 [00:01<00:00,  1.96s/trial, best loss: 0.018181818181818188]\n",
      "100%|██████████████████████████████████████████████| 10/10 [00:03<00:00,  3.02s/trial, best loss: 0.018181818181818188]\n",
      "(0.9708029197080292, {'learner': ExtraTreesClassifier(bootstrap=True, criterion='entropy',\n",
      "                     max_features=0.3826823680920317, min_samples_leaf=2,\n",
      "                     n_estimators=23, n_jobs=1, random_state=2, verbose=False), 'preprocs': (), 'ex_preprocs': ()})\n",
      "\n",
      "******************** GNB ********************\n",
      "100%|██████████████████████████████████████████████████| 1/1 [00:01<00:00,  1.82s/trial, best loss: 0.1454545454545455]\n",
      "100%|██████████████████████████████████████████████████| 2/2 [00:01<00:00,  1.80s/trial, best loss: 0.1454545454545455]\n",
      "100%|██████████████████████████████████████████████████| 3/3 [00:01<00:00,  1.86s/trial, best loss: 0.1454545454545455]\n",
      "100%|██████████████████████████████████████████████████| 4/4 [00:01<00:00,  1.84s/trial, best loss: 0.1454545454545455]\n",
      "100%|██████████████████████████████████████████████████| 5/5 [00:01<00:00,  1.87s/trial, best loss: 0.1454545454545455]\n",
      "100%|██████████████████████████████████████████████████| 6/6 [00:01<00:00,  1.85s/trial, best loss: 0.1454545454545455]\n",
      "100%|██████████████████████████████████████████████████| 7/7 [00:01<00:00,  1.85s/trial, best loss: 0.1454545454545455]\n",
      "100%|██████████████████████████████████████████████████| 8/8 [00:01<00:00,  1.85s/trial, best loss: 0.1454545454545455]\n",
      "100%|██████████████████████████████████████████████████| 9/9 [00:01<00:00,  1.84s/trial, best loss: 0.1454545454545455]\n",
      "100%|████████████████████████████████████████████████| 10/10 [00:01<00:00,  1.85s/trial, best loss: 0.1454545454545455]\n",
      "(0.8540145985401459, {'learner': GaussianNB(), 'preprocs': (), 'ex_preprocs': ()})\n",
      "\n",
      "******************** GB ********************\n",
      "  0%|                                                                            | 0/1 [00:00<?, ?trial/s, best loss=?]"
     ]
    },
    {
     "name": "stderr",
     "output_type": "stream",
     "text": [
      "job exception: __init__() got an unexpected keyword argument 'presort'\n",
      "\n"
     ]
    },
    {
     "name": "stdout",
     "output_type": "stream",
     "text": [
      "  0%|                                                                            | 0/1 [00:00<?, ?trial/s, best loss=?]\n",
      "********** Could not fit GB. Reason: '__init__() got an unexpected keyword argument 'presort''. **********\n",
      "********** Could not evaluate GB. Reason: ''hyperopt_estimator' object has no attribute '_best_preprocs''. **********\n",
      "\n",
      "******************** KN ********************\n",
      "100%|██████████████████████████████████████████████████| 1/1 [00:01<00:00,  1.92s/trial, best loss: 0.1636363636363637]\n",
      "100%|██████████████████████████████████████████████████| 2/2 [00:02<00:00,  2.09s/trial, best loss: 0.1636363636363637]\n",
      "100%|█████████████████████████████████████████████████| 3/3 [00:01<00:00,  1.93s/trial, best loss: 0.13636363636363635]\n",
      "100%|█████████████████████████████████████████████████| 4/4 [00:01<00:00,  1.91s/trial, best loss: 0.13636363636363635]\n",
      "100%|█████████████████████████████████████████████████| 5/5 [00:02<00:00,  2.10s/trial, best loss: 0.13636363636363635]\n",
      "100%|█████████████████████████████████████████████████| 6/6 [00:01<00:00,  1.91s/trial, best loss: 0.13636363636363635]\n",
      "100%|█████████████████████████████████████████████████| 7/7 [00:02<00:00,  2.11s/trial, best loss: 0.13636363636363635]\n",
      "100%|█████████████████████████████████████████████████| 8/8 [00:01<00:00,  1.92s/trial, best loss: 0.13636363636363635]\n",
      "100%|█████████████████████████████████████████████████| 9/9 [00:02<00:00,  2.13s/trial, best loss: 0.13636363636363635]\n",
      "100%|███████████████████████████████████████████████| 10/10 [00:01<00:00,  1.91s/trial, best loss: 0.13636363636363635]\n",
      "(0.8759124087591241, {'learner': KNeighborsClassifier(n_jobs=1, n_neighbors=24, p=3.0, weights='distance'), 'preprocs': (), 'ex_preprocs': ()})\n",
      "\n",
      "******************** LSVC ********************\n",
      "  0%|                                                                            | 0/1 [00:00<?, ?trial/s, best loss=?]"
     ]
    },
    {
     "name": "stderr",
     "output_type": "stream",
     "text": [
      "C:\\Users\\Pessoa\\anaconda3\\envs\\tf\\lib\\site-packages\\daal4py\\sklearn\\neighbors\\_base.py:361: DataConversionWarning: A column-vector y was passed when a 1d array was expected. Please change the shape of y to (n_samples,), for example using ravel().\n",
      "  result = super(NeighborsBase, self)._fit(X, y)\n"
     ]
    },
    {
     "name": "stdout",
     "output_type": "stream",
     "text": [
      "100%|██████████████████████████████████████████████████| 1/1 [00:01<00:00,  1.88s/trial, best loss: 0.1454545454545455]\n",
      "100%|██████████████████████████████████████████████████| 2/2 [00:01<00:00,  1.83s/trial, best loss: 0.1454545454545455]\n",
      "100%|██████████████████████████████████████████████████| 3/3 [00:03<00:00,  3.80s/trial, best loss: 0.1454545454545455]\n",
      "100%|██████████████████████████████████████████████████| 4/4 [00:01<00:00,  1.89s/trial, best loss: 0.1454545454545455]\n",
      "100%|██████████████████████████████████████████████████| 5/5 [00:01<00:00,  1.85s/trial, best loss: 0.1454545454545455]\n",
      "100%|██████████████████████████████████████████████████| 6/6 [00:01<00:00,  1.87s/trial, best loss: 0.1454545454545455]\n",
      "100%|██████████████████████████████████████████████████| 7/7 [00:04<00:00,  4.50s/trial, best loss: 0.1454545454545455]\n",
      "100%|██████████████████████████████████████████████████| 8/8 [00:01<00:00,  1.87s/trial, best loss: 0.1454545454545455]\n",
      "100%|██████████████████████████████████████████████████| 9/9 [00:01<00:00,  1.87s/trial, best loss: 0.1454545454545455]\n",
      "100%|████████████████████████████████████████████████| 10/10 [00:01<00:00,  1.91s/trial, best loss: 0.1454545454545455]\n",
      "(0.8759124087591241, {'learner': LinearSVC(C=19.21572171058445, class_weight='balanced', dual=False,\n",
      "          intercept_scaling=0.46047079808408536, penalty='l1', random_state=3,\n",
      "          tol=0.003799057710504326, verbose=False), 'preprocs': (), 'ex_preprocs': ()})\n",
      "\n",
      "******************** LDA ********************\n",
      "  0%|                                                                            | 0/1 [00:00<?, ?trial/s, best loss=?]"
     ]
    },
    {
     "name": "stderr",
     "output_type": "stream",
     "text": [
      "C:\\Users\\Pessoa\\anaconda3\\envs\\tf\\lib\\site-packages\\sklearn\\svm\\_base.py:1206: ConvergenceWarning: Liblinear failed to converge, increase the number of iterations.\n",
      "  warnings.warn(\n"
     ]
    },
    {
     "name": "stdout",
     "output_type": "stream",
     "text": [
      "100%|██████████████████████████████████████████████████| 1/1 [00:01<00:00,  1.85s/trial, best loss: 0.1454545454545455]\n",
      "100%|██████████████████████████████████████████████████| 2/2 [00:01<00:00,  1.84s/trial, best loss: 0.1454545454545455]\n",
      "100%|██████████████████████████████████████████████████| 3/3 [00:01<00:00,  1.86s/trial, best loss: 0.1454545454545455]\n",
      "100%|██████████████████████████████████████████████████| 4/4 [00:01<00:00,  1.84s/trial, best loss: 0.1454545454545455]\n",
      "100%|██████████████████████████████████████████████████| 5/5 [00:01<00:00,  1.85s/trial, best loss: 0.1454545454545455]\n",
      "100%|██████████████████████████████████████████████████| 6/6 [00:01<00:00,  1.85s/trial, best loss: 0.1454545454545455]\n",
      "100%|██████████████████████████████████████████████████| 7/7 [00:01<00:00,  1.86s/trial, best loss: 0.1454545454545455]\n",
      " 88%|██████████████████████████████████████████████████████████████████▌         | 7/8 [00:00<?, ?trial/s, best loss=?]"
     ]
    },
    {
     "name": "stderr",
     "output_type": "stream",
     "text": [
      "ERROR:hyperopt.fmin:job exception: The leading minor of order 6 of B is not positive definite. The factorization of B could not be completed and no eigenvalues or eigenvectors were computed.\n"
     ]
    },
    {
     "name": "stdout",
     "output_type": "stream",
     "text": [
      " 88%|██████████████████████████████████████████████████████████████████▌         | 7/8 [00:01<?, ?trial/s, best loss=?]\n",
      "********** Could not fit LDA. Reason: 'The leading minor of order 6 of B is not positive definite. The factorization of B could not be completed and no eigenvalues or eigenvectors were computed.'. **********\n",
      "********** Could not evaluate LDA. Reason: 'This LinearDiscriminantAnalysis instance is not fitted yet. Call 'fit' with appropriate arguments before using this estimator.'. **********\n",
      "\n",
      "******************** MNB ********************\n",
      "100%|██████████████████████████████████████████████████| 1/1 [00:01<00:00,  1.86s/trial, best loss: 0.1454545454545455]\n",
      "100%|██████████████████████████████████████████████████| 2/2 [00:01<00:00,  1.84s/trial, best loss: 0.1454545454545455]\n",
      "100%|██████████████████████████████████████████████████| 3/3 [00:01<00:00,  1.83s/trial, best loss: 0.1454545454545455]\n",
      "100%|██████████████████████████████████████████████████| 4/4 [00:01<00:00,  1.85s/trial, best loss: 0.1454545454545455]\n",
      "100%|██████████████████████████████████████████████████| 5/5 [00:01<00:00,  1.87s/trial, best loss: 0.1454545454545455]\n",
      "100%|██████████████████████████████████████████████████| 6/6 [00:01<00:00,  1.85s/trial, best loss: 0.1454545454545455]\n",
      "100%|██████████████████████████████████████████████████| 7/7 [00:01<00:00,  1.87s/trial, best loss: 0.1454545454545455]\n",
      "100%|██████████████████████████████████████████████████| 8/8 [00:01<00:00,  1.85s/trial, best loss: 0.1454545454545455]\n",
      "100%|██████████████████████████████████████████████████| 9/9 [00:01<00:00,  1.85s/trial, best loss: 0.1454545454545455]\n",
      "100%|████████████████████████████████████████████████| 10/10 [00:01<00:00,  1.92s/trial, best loss: 0.1454545454545455]\n",
      "(0.8759124087591241, {'learner': MultinomialNB(alpha=0.38), 'preprocs': (), 'ex_preprocs': ()})\n",
      "\n",
      "******************** OVO ********************\n",
      "  0%|                                                                            | 0/1 [00:00<?, ?trial/s, best loss=?]"
     ]
    },
    {
     "name": "stderr",
     "output_type": "stream",
     "text": [
      "ERROR:hyperopt.fmin:job exception: __init__() got an unexpected keyword argument 'n_iter'\n"
     ]
    },
    {
     "name": "stdout",
     "output_type": "stream",
     "text": [
      "  0%|                                                                            | 0/1 [00:00<?, ?trial/s, best loss=?]\n",
      "********** Could not fit OVO. Reason: '__init__() got an unexpected keyword argument 'n_iter''. **********\n",
      "********** Could not evaluate OVO. Reason: ''hyperopt_estimator' object has no attribute '_best_preprocs''. **********\n",
      "\n",
      "******************** OVR ********************\n",
      "  0%|                                                                            | 0/1 [00:00<?, ?trial/s, best loss=?]"
     ]
    },
    {
     "name": "stderr",
     "output_type": "stream",
     "text": [
      "ERROR:hyperopt.fmin:job exception: __init__() got an unexpected keyword argument 'n_iter'\n"
     ]
    },
    {
     "name": "stdout",
     "output_type": "stream",
     "text": [
      "  0%|                                                                            | 0/1 [00:00<?, ?trial/s, best loss=?]\n",
      "********** Could not fit OVR. Reason: '__init__() got an unexpected keyword argument 'n_iter''. **********\n",
      "********** Could not evaluate OVR. Reason: ''hyperopt_estimator' object has no attribute '_best_preprocs''. **********\n",
      "\n",
      "******************** OC ********************\n",
      "  0%|                                                                            | 0/1 [00:00<?, ?trial/s, best loss=?]"
     ]
    },
    {
     "name": "stderr",
     "output_type": "stream",
     "text": [
      "ERROR:hyperopt.fmin:job exception: __init__() got an unexpected keyword argument 'n_iter'\n"
     ]
    },
    {
     "name": "stdout",
     "output_type": "stream",
     "text": [
      "  0%|                                                                            | 0/1 [00:00<?, ?trial/s, best loss=?]\n",
      "********** Could not fit OC. Reason: '__init__() got an unexpected keyword argument 'n_iter''. **********\n",
      "********** Could not evaluate OC. Reason: ''hyperopt_estimator' object has no attribute '_best_preprocs''. **********\n",
      "\n",
      "******************** PA ********************\n",
      "  0%|                                                                            | 0/1 [00:00<?, ?trial/s, best loss=?]"
     ]
    },
    {
     "name": "stderr",
     "output_type": "stream",
     "text": [
      "ERROR:hyperopt.fmin:job exception: __init__() got an unexpected keyword argument 'n_iter'\n"
     ]
    },
    {
     "name": "stdout",
     "output_type": "stream",
     "text": [
      "  0%|                                                                            | 0/1 [00:00<?, ?trial/s, best loss=?]\n",
      "********** Could not fit PA. Reason: '__init__() got an unexpected keyword argument 'n_iter''. **********\n",
      "********** Could not evaluate PA. Reason: ''hyperopt_estimator' object has no attribute '_best_preprocs''. **********\n",
      "\n",
      "******************** QDA ********************\n",
      "100%|█████████████████████████████████████████████████| 1/1 [00:01<00:00,  1.92s/trial, best loss: 0.15454545454545454]\n",
      "100%|█████████████████████████████████████████████████| 2/2 [00:01<00:00,  1.90s/trial, best loss: 0.15454545454545454]\n",
      "100%|██████████████████████████████████████████████████| 3/3 [00:01<00:00,  1.85s/trial, best loss: 0.1454545454545455]\n",
      "100%|██████████████████████████████████████████████████| 4/4 [00:01<00:00,  1.87s/trial, best loss: 0.1454545454545455]\n",
      "100%|██████████████████████████████████████████████████| 5/5 [00:01<00:00,  1.83s/trial, best loss: 0.1454545454545455]\n",
      "100%|██████████████████████████████████████████████████| 6/6 [00:01<00:00,  1.89s/trial, best loss: 0.1454545454545455]\n",
      "100%|██████████████████████████████████████████████████| 7/7 [00:01<00:00,  1.90s/trial, best loss: 0.1454545454545455]\n",
      "100%|██████████████████████████████████████████████████| 8/8 [00:01<00:00,  1.89s/trial, best loss: 0.1454545454545455]\n",
      "100%|██████████████████████████████████████████████████| 9/9 [00:01<00:00,  1.94s/trial, best loss: 0.1454545454545455]\n",
      "100%|████████████████████████████████████████████████| 10/10 [00:01<00:00,  1.94s/trial, best loss: 0.1454545454545455]\n",
      "(0.8759124087591241, {'learner': QuadraticDiscriminantAnalysis(reg_param=0.3512953517399541), 'preprocs': (), 'ex_preprocs': ()})\n",
      "\n",
      "******************** RF ********************\n",
      "  0%|                                                                            | 0/1 [00:00<?, ?trial/s, best loss=?]"
     ]
    },
    {
     "name": "stderr",
     "output_type": "stream",
     "text": [
      "C:\\Users\\Pessoa\\anaconda3\\envs\\tf\\lib\\site-packages\\sklearn\\discriminant_analysis.py:878: UserWarning: Variables are collinear\n",
      "  warnings.warn(\"Variables are collinear\")\n"
     ]
    },
    {
     "name": "stdout",
     "output_type": "stream",
     "text": [
      "100%|████████████████████████████████████████████████| 1/1 [00:02<00:00,  2.19s/trial, best loss: 0.027272727272727226]\n",
      "100%|████████████████████████████████████████████████| 2/2 [00:01<00:00,  1.99s/trial, best loss: 0.018181818181818188]\n",
      "100%|████████████████████████████████████████████████| 3/3 [00:02<00:00,  2.53s/trial, best loss: 0.018181818181818188]\n",
      "100%|████████████████████████████████████████████████| 4/4 [00:02<00:00,  2.94s/trial, best loss: 0.018181818181818188]\n",
      "100%|████████████████████████████████████████████████| 5/5 [00:05<00:00,  5.94s/trial, best loss: 0.018181818181818188]\n",
      "100%|████████████████████████████████████████████████| 6/6 [00:02<00:00,  2.77s/trial, best loss: 0.018181818181818188]\n",
      "100%|████████████████████████████████████████████████| 7/7 [00:02<00:00,  2.48s/trial, best loss: 0.018181818181818188]\n",
      "100%|████████████████████████████████████████████████| 8/8 [00:02<00:00,  2.07s/trial, best loss: 0.018181818181818188]\n",
      "100%|████████████████████████████████████████████████| 9/9 [00:01<00:00,  1.92s/trial, best loss: 0.009090909090909038]\n",
      "100%|██████████████████████████████████████████████| 10/10 [00:02<00:00,  2.46s/trial, best loss: 0.009090909090909038]\n",
      "(0.9927007299270073, {'learner': RandomForestClassifier(criterion='entropy', max_features=0.3826823680920317,\n",
      "                       min_samples_leaf=2, n_estimators=23, n_jobs=1,\n",
      "                       random_state=2, verbose=False), 'preprocs': (), 'ex_preprocs': ()})\n",
      "\n",
      "******************** SGD ********************\n",
      "  0%|                                                                            | 0/1 [00:00<?, ?trial/s, best loss=?]"
     ]
    },
    {
     "name": "stderr",
     "output_type": "stream",
     "text": [
      "ERROR:hyperopt.fmin:job exception: __init__() got an unexpected keyword argument 'n_iter'\n"
     ]
    },
    {
     "name": "stdout",
     "output_type": "stream",
     "text": [
      "  0%|                                                                            | 0/1 [00:00<?, ?trial/s, best loss=?]\n",
      "********** Could not fit SGD. Reason: '__init__() got an unexpected keyword argument 'n_iter''. **********\n",
      "********** Could not evaluate SGD. Reason: ''hyperopt_estimator' object has no attribute '_best_preprocs''. **********\n",
      "\n",
      "******************** SVC-LL ********************\n",
      "100%|██████████████████████████████████████████████████| 1/1 [00:02<00:00,  2.15s/trial, best loss: 0.1454545454545455]\n",
      "100%|██████████████████████████████████████████████████| 2/2 [00:02<00:00,  2.13s/trial, best loss: 0.1454545454545455]\n",
      "100%|██████████████████████████████████████████████████| 3/3 [00:02<00:00,  2.15s/trial, best loss: 0.1454545454545455]\n",
      "100%|██████████████████████████████████████████████████| 4/4 [00:02<00:00,  2.10s/trial, best loss: 0.1454545454545455]\n",
      " 80%|████████████████████████████████████████████████████████████▊               | 4/5 [00:00<?, ?trial/s, best loss=?]"
     ]
    },
    {
     "name": "stderr",
     "output_type": "stream",
     "text": [
      "ERROR:hyperopt.fmin:job exception: Unable to cast Python instance to C++ type (compile in debug mode for details)\n"
     ]
    },
    {
     "name": "stdout",
     "output_type": "stream",
     "text": [
      " 80%|████████████████████████████████████████████████████████████▊               | 4/5 [00:01<?, ?trial/s, best loss=?]\n",
      "********** Could not fit SVC-LL. Reason: 'Unable to cast Python instance to C++ type (compile in debug mode for details)'. **********\n",
      "********** Could not evaluate SVC-LL. Reason: 'This SVC instance is not fitted yet. Call 'fit' with appropriate arguments before using this estimator.'. **********\n",
      "\n",
      "******************** SVC-L ********************\n",
      "100%|█████████████████████████████████████████████████| 1/1 [00:02<00:00,  2.10s/trial, best loss: 0.15454545454545454]\n",
      "100%|██████████████████████████████████████████████████| 2/2 [00:02<00:00,  2.07s/trial, best loss: 0.1454545454545455]\n",
      "100%|██████████████████████████████████████████████████| 3/3 [00:02<00:00,  2.06s/trial, best loss: 0.1454545454545455]\n",
      "100%|██████████████████████████████████████████████████| 4/4 [00:02<00:00,  2.09s/trial, best loss: 0.1454545454545455]\n",
      "100%|██████████████████████████████████████████████████| 5/5 [00:02<00:00,  2.11s/trial, best loss: 0.1454545454545455]\n",
      "100%|██████████████████████████████████████████████████| 6/6 [00:02<00:00,  2.12s/trial, best loss: 0.1454545454545455]\n",
      "100%|██████████████████████████████████████████████████| 7/7 [00:02<00:00,  2.10s/trial, best loss: 0.1454545454545455]\n",
      "100%|██████████████████████████████████████████████████| 8/8 [00:02<00:00,  2.09s/trial, best loss: 0.1454545454545455]\n",
      "100%|██████████████████████████████████████████████████| 9/9 [00:02<00:00,  2.10s/trial, best loss: 0.1454545454545455]\n",
      "100%|████████████████████████████████████████████████| 10/10 [00:02<00:00,  2.10s/trial, best loss: 0.1454545454545455]\n",
      "(0.8759124087591241, {'learner': SVC(C=0.44715364630050225, cache_size=512, degree=1, gamma='auto',\n",
      "    kernel='linear', max_iter=19440826.0, random_state=1,\n",
      "    tol=0.003292008207495153), 'preprocs': (), 'ex_preprocs': ()})\n",
      "\n",
      "******************** SVC-P ********************\n",
      "  0%|                                                                            | 0/1 [00:00<?, ?trial/s, best loss=?]"
     ]
    },
    {
     "name": "stderr",
     "output_type": "stream",
     "text": [
      "ERROR:hyperopt.fmin:job exception: Unable to cast Python instance to C++ type (compile in debug mode for details)\n"
     ]
    },
    {
     "name": "stdout",
     "output_type": "stream",
     "text": [
      "  0%|                                                                            | 0/1 [00:01<?, ?trial/s, best loss=?]\n",
      "********** Could not fit SVC-P. Reason: 'Unable to cast Python instance to C++ type (compile in debug mode for details)'. **********\n",
      "********** Could not evaluate SVC-P. Reason: ''hyperopt_estimator' object has no attribute '_best_preprocs''. **********\n",
      "\n",
      "******************** SVC-R ********************\n",
      "100%|██████████████████████████████████████████████████| 1/1 [00:02<00:00,  2.08s/trial, best loss: 0.1454545454545455]\n",
      "100%|██████████████████████████████████████████████████| 2/2 [00:02<00:00,  2.06s/trial, best loss: 0.1454545454545455]\n",
      "100%|██████████████████████████████████████████████████| 3/3 [00:02<00:00,  2.36s/trial, best loss: 0.1454545454545455]\n",
      "100%|██████████████████████████████████████████████████| 4/4 [00:02<00:00,  2.14s/trial, best loss: 0.1454545454545455]\n",
      "100%|██████████████████████████████████████████████████| 5/5 [00:02<00:00,  2.10s/trial, best loss: 0.1454545454545455]\n",
      "100%|██████████████████████████████████████████████████| 6/6 [00:02<00:00,  2.08s/trial, best loss: 0.1454545454545455]\n",
      "100%|██████████████████████████████████████████████████| 7/7 [00:02<00:00,  2.10s/trial, best loss: 0.1454545454545455]\n",
      "100%|██████████████████████████████████████████████████| 8/8 [00:02<00:00,  2.08s/trial, best loss: 0.1454545454545455]\n",
      "100%|██████████████████████████████████████████████████| 9/9 [00:02<00:00,  2.09s/trial, best loss: 0.1454545454545455]\n",
      "100%|████████████████████████████████████████████████| 10/10 [00:02<00:00,  2.12s/trial, best loss: 0.1454545454545455]\n",
      "(0.8759124087591241, {'learner': SVC(C=19.21572171058445, cache_size=512, degree=1, gamma=0.09763516860628368,\n",
      "    max_iter=548676042.0, random_state=1, tol=0.003799057710504326), 'preprocs': (), 'ex_preprocs': ()})\n",
      "\n",
      "******************** SVC-S ********************\n",
      "100%|█████████████████████████████████████████████████| 1/1 [00:02<00:00,  2.08s/trial, best loss: 0.15454545454545454]\n",
      "100%|█████████████████████████████████████████████████| 2/2 [00:02<00:00,  2.07s/trial, best loss: 0.15454545454545454]\n",
      "100%|█████████████████████████████████████████████████| 3/3 [00:02<00:00,  2.11s/trial, best loss: 0.15454545454545454]\n",
      "100%|█████████████████████████████████████████████████| 4/4 [00:02<00:00,  2.12s/trial, best loss: 0.15454545454545454]\n",
      "100%|██████████████████████████████████████████████████| 5/5 [00:02<00:00,  2.11s/trial, best loss: 0.1454545454545455]\n",
      "100%|██████████████████████████████████████████████████| 6/6 [00:02<00:00,  2.21s/trial, best loss: 0.1454545454545455]\n",
      "100%|██████████████████████████████████████████████████| 7/7 [00:02<00:00,  2.16s/trial, best loss: 0.1454545454545455]\n",
      "100%|██████████████████████████████████████████████████| 8/8 [00:02<00:00,  2.15s/trial, best loss: 0.1454545454545455]\n",
      "100%|██████████████████████████████████████████████████| 9/9 [00:02<00:00,  2.19s/trial, best loss: 0.1454545454545455]\n",
      "100%|████████████████████████████████████████████████| 10/10 [00:02<00:00,  2.14s/trial, best loss: 0.1454545454545455]\n",
      "(0.8759124087591241, {'learner': SVC(C=1308.5659152504284, cache_size=512, coef0=0, degree=1,\n",
      "    gamma=0.020114878493420366, kernel='sigmoid', max_iter=13085973.0,\n",
      "    random_state=4, tol=7.010827821439637e-05), 'preprocs': (), 'ex_preprocs': ()})\n",
      "\n",
      "******************** XGB ********************\n",
      "100%|████████████████████████████████████████████████| 1/1 [00:04<00:00,  4.01s/trial, best loss: 0.027272727272727226]\n",
      "100%|████████████████████████████████████████████████| 2/2 [00:03<00:00,  3.64s/trial, best loss: 0.027272727272727226]\n",
      "100%|████████████████████████████████████████████████| 3/3 [00:04<00:00,  4.66s/trial, best loss: 0.027272727272727226]\n",
      "100%|████████████████████████████████████████████████| 4/4 [00:02<00:00,  2.80s/trial, best loss: 0.027272727272727226]\n",
      "100%|████████████████████████████████████████████████| 5/5 [00:02<00:00,  2.71s/trial, best loss: 0.027272727272727226]\n",
      "100%|████████████████████████████████████████████████| 6/6 [00:04<00:00,  4.21s/trial, best loss: 0.027272727272727226]\n",
      "100%|████████████████████████████████████████████████| 7/7 [00:04<00:00,  4.03s/trial, best loss: 0.027272727272727226]\n",
      "100%|████████████████████████████████████████████████| 8/8 [00:03<00:00,  3.67s/trial, best loss: 0.027272727272727226]\n",
      "100%|████████████████████████████████████████████████| 9/9 [00:03<00:00,  3.33s/trial, best loss: 0.027272727272727226]\n",
      "100%|██████████████████████████████████████████████| 10/10 [00:04<00:00,  4.10s/trial, best loss: 0.027272727272727226]\n",
      "[22:55:24] WARNING: C:/Users/Administrator/workspace/xgboost-win64_release_1.5.1/src/learner.cc:576: \n",
      "Parameters: { \"scale_pos_weight\" } might not be used.\n",
      "\n",
      "  This could be a false alarm, with some parameters getting used by language bindings but\n",
      "  then being mistakenly passed down to XGBoost core, or some parameter actually being used\n",
      "  but getting flagged wrongly here. Please open an issue if you find any such cases.\n",
      "\n",
      "\n",
      "[22:55:24] WARNING: C:/Users/Administrator/workspace/xgboost-win64_release_1.5.1/src/learner.cc:1115: Starting in XGBoost 1.3.0, the default evaluation metric used with the objective 'multi:softprob' was changed from 'merror' to 'mlogloss'. Explicitly set eval_metric if you'd like to restore the old behavior.\n"
     ]
    },
    {
     "name": "stderr",
     "output_type": "stream",
     "text": [
      "C:\\Users\\Pessoa\\anaconda3\\envs\\tf\\lib\\site-packages\\xgboost\\sklearn.py:1224: UserWarning: The use of label encoder in XGBClassifier is deprecated and will be removed in a future release. To remove this warning, do the following: 1) Pass option use_label_encoder=False when constructing XGBClassifier object; and 2) Encode your labels (y) as integers starting with 0, i.e. 0, 1, 2, ..., [num_class - 1].\n",
      "  warnings.warn(label_encoder_deprecation_msg, UserWarning)\n"
     ]
    },
    {
     "name": "stdout",
     "output_type": "stream",
     "text": [
      "(0.9854014598540146, {'learner': XGBClassifier(base_score=0.5, booster='gbtree',\n",
      "              colsample_bylevel=0.5701541246097266, colsample_bynode=1,\n",
      "              colsample_bytree=0.7470728059084097, enable_categorical=False,\n",
      "              gamma=3.496245955670253e-05, gpu_id=-1, importance_type=None,\n",
      "              interaction_constraints='', learning_rate=0.02687981851587668,\n",
      "              max_delta_step=0, max_depth=3, min_child_weight=6, missing=nan,\n",
      "              monotone_constraints='()', n_estimators=3800, n_jobs=4,\n",
      "              num_parallel_tree=1, objective='multi:softprob', predictor='auto',\n",
      "              random_state=3, reg_alpha=0.0020203335588819434,\n",
      "              reg_lambda=3.3387683435131232, scale_pos_weight=1, seed=3,\n",
      "              subsample=0.9299459818100199, tree_method='exact',\n",
      "              validate_parameters=1, verbosity=None), 'preprocs': (), 'ex_preprocs': ()})\n"
     ]
    }
   ],
   "source": [
    "best_results = {}\n",
    "\n",
    "for clf in classifiers:\n",
    "    \n",
    "    clf_name = build_clf_name(clf)\n",
    "    \n",
    "    print(f'\\n******************** {clf_name} ********************')\n",
    "    \n",
    "    best_results[clf_name] = (0.0, None)\n",
    "        \n",
    "    try:\n",
    "        estim = HyperoptEstimator(classifier=clf,\n",
    "                                  preprocessing=[],\n",
    "                                  algo=tpe.suggest,\n",
    "                                  max_evals=10,\n",
    "                                  trial_timeout=60,\n",
    "                                  seed=np.random.default_rng(SEED),\n",
    "                                  fit_increment=1,\n",
    "                                  fit_increment_dump_filename=f'increments/{clf_name}.inc')\n",
    "    except Exception as e:\n",
    "        print(f\"********** Could not create {clf_name}. Reason: '{str(e)}'. **********\")\n",
    "        \n",
    "    try:\n",
    "        estim.fit(X_train, y_train, random_state=SEED)\n",
    "    except Exception as e:\n",
    "        print(f\"********** Could not fit {clf_name}. Reason: '{str(e)}'. **********\")\n",
    "        \n",
    "    try:\n",
    "        score = estim.score(X_test, y_test)\n",
    "        best_model = estim.best_model()\n",
    "        best_results[clf_name] = (score, best_model)\n",
    "        print(best_results[clf_name])\n",
    "    except Exception as e:\n",
    "        print(f\"********** Could not evaluate {clf_name}. Reason: '{str(e)}'. **********\")"
   ]
  },
  {
   "cell_type": "code",
   "execution_count": 9,
   "id": "c21cceac",
   "metadata": {},
   "outputs": [
    {
     "name": "stdout",
     "output_type": "stream",
     "text": [
      "{\n",
      "    \"AB\": [\n",
      "        0.8686131386861314,\n",
      "        {\n",
      "            \"learner\": \"AdaBoostClassifier(algorithm='SAMME', learning_rate=0.3756144655926187,\\n                   n_estimators=483, random_state=4)\",\n",
      "            \"preprocs\": [],\n",
      "            \"ex_preprocs\": []\n",
      "        }\n",
      "    ],\n",
      "    \"DT\": [\n",
      "        0.0,\n",
      "        null\n",
      "    ],\n",
      "    \"ET\": [\n",
      "        0.9708029197080292,\n",
      "        {\n",
      "            \"learner\": \"ExtraTreesClassifier(bootstrap=True, criterion='entropy',\\n                     max_features=0.3826823680920317, min_samples_leaf=2,\\n                     n_estimators=23, n_jobs=1, random_state=2, verbose=False)\",\n",
      "            \"preprocs\": [],\n",
      "            \"ex_preprocs\": []\n",
      "        }\n",
      "    ],\n",
      "    \"GB\": [\n",
      "        0.0,\n",
      "        null\n",
      "    ],\n",
      "    \"GNB\": [\n",
      "        0.8540145985401459,\n",
      "        {\n",
      "            \"learner\": \"GaussianNB()\",\n",
      "            \"preprocs\": [],\n",
      "            \"ex_preprocs\": []\n",
      "        }\n",
      "    ],\n",
      "    \"KN\": [\n",
      "        0.8759124087591241,\n",
      "        {\n",
      "            \"learner\": \"KNeighborsClassifier(n_jobs=1, n_neighbors=24, p=3.0, weights='distance')\",\n",
      "            \"preprocs\": [],\n",
      "            \"ex_preprocs\": []\n",
      "        }\n",
      "    ],\n",
      "    \"LDA\": [\n",
      "        0.0,\n",
      "        null\n",
      "    ],\n",
      "    \"LSVC\": [\n",
      "        0.8759124087591241,\n",
      "        {\n",
      "            \"learner\": \"LinearSVC(C=19.21572171058445, class_weight='balanced', dual=False,\\n          intercept_scaling=0.46047079808408536, penalty='l1', random_state=3,\\n          tol=0.003799057710504326, verbose=False)\",\n",
      "            \"preprocs\": [],\n",
      "            \"ex_preprocs\": []\n",
      "        }\n",
      "    ],\n",
      "    \"MNB\": [\n",
      "        0.8759124087591241,\n",
      "        {\n",
      "            \"learner\": \"MultinomialNB(alpha=0.38)\",\n",
      "            \"preprocs\": [],\n",
      "            \"ex_preprocs\": []\n",
      "        }\n",
      "    ],\n",
      "    \"OC\": [\n",
      "        0.0,\n",
      "        null\n",
      "    ],\n",
      "    \"OVO\": [\n",
      "        0.0,\n",
      "        null\n",
      "    ],\n",
      "    \"OVR\": [\n",
      "        0.0,\n",
      "        null\n",
      "    ],\n",
      "    \"PA\": [\n",
      "        0.0,\n",
      "        null\n",
      "    ],\n",
      "    \"QDA\": [\n",
      "        0.8759124087591241,\n",
      "        {\n",
      "            \"learner\": \"QuadraticDiscriminantAnalysis(reg_param=0.3512953517399541)\",\n",
      "            \"preprocs\": [],\n",
      "            \"ex_preprocs\": []\n",
      "        }\n",
      "    ],\n",
      "    \"RF\": [\n",
      "        0.9927007299270073,\n",
      "        {\n",
      "            \"learner\": \"RandomForestClassifier(criterion='entropy', max_features=0.3826823680920317,\\n                       min_samples_leaf=2, n_estimators=23, n_jobs=1,\\n                       random_state=2, verbose=False)\",\n",
      "            \"preprocs\": [],\n",
      "            \"ex_preprocs\": []\n",
      "        }\n",
      "    ],\n",
      "    \"SGD\": [\n",
      "        0.0,\n",
      "        null\n",
      "    ],\n",
      "    \"SVC-L\": [\n",
      "        0.8759124087591241,\n",
      "        {\n",
      "            \"learner\": \"SVC(C=0.44715364630050225, cache_size=512, degree=1, gamma='auto',\\n    kernel='linear', max_iter=19440826.0, random_state=1,\\n    tol=0.003292008207495153)\",\n",
      "            \"preprocs\": [],\n",
      "            \"ex_preprocs\": []\n",
      "        }\n",
      "    ],\n",
      "    \"SVC-LL\": [\n",
      "        0.0,\n",
      "        null\n",
      "    ],\n",
      "    \"SVC-P\": [\n",
      "        0.0,\n",
      "        null\n",
      "    ],\n",
      "    \"SVC-R\": [\n",
      "        0.8759124087591241,\n",
      "        {\n",
      "            \"learner\": \"SVC(C=19.21572171058445, cache_size=512, degree=1, gamma=0.09763516860628368,\\n    max_iter=548676042.0, random_state=1, tol=0.003799057710504326)\",\n",
      "            \"preprocs\": [],\n",
      "            \"ex_preprocs\": []\n",
      "        }\n",
      "    ],\n",
      "    \"SVC-S\": [\n",
      "        0.8759124087591241,\n",
      "        {\n",
      "            \"learner\": \"SVC(C=1308.5659152504284, cache_size=512, coef0=0, degree=1,\\n    gamma=0.020114878493420366, kernel='sigmoid', max_iter=13085973.0,\\n    random_state=4, tol=7.010827821439637e-05)\",\n",
      "            \"preprocs\": [],\n",
      "            \"ex_preprocs\": []\n",
      "        }\n",
      "    ],\n",
      "    \"XGB\": [\n",
      "        0.9854014598540146,\n",
      "        {\n",
      "            \"learner\": \"XGBClassifier(base_score=0.5, booster='gbtree',\\n              colsample_bylevel=0.5701541246097266, colsample_bynode=1,\\n              colsample_bytree=0.7470728059084097, enable_categorical=False,\\n              gamma=3.496245955670253e-05, gpu_id=-1, importance_type=None,\\n              interaction_constraints='', learning_rate=0.02687981851587668,\\n              max_delta_step=0, max_depth=3, min_child_weight=6, missing=nan,\\n              monotone_constraints='()', n_estimators=3800, n_jobs=4,\\n              num_parallel_tree=1, objective='multi:softprob', predictor='auto',\\n              random_state=3, reg_alpha=0.0020203335588819434,\\n              reg_lambda=3.3387683435131232, scale_pos_weight=1, seed=3,\\n              subsample=0.9299459818100199, tree_method='exact',\\n              validate_parameters=1, verbosity=None)\",\n",
      "            \"preprocs\": [],\n",
      "            \"ex_preprocs\": []\n",
      "        }\n",
      "    ]\n",
      "}\n"
     ]
    }
   ],
   "source": [
    "best_results = dict(sorted(best_results.items()))\n",
    "print(json.dumps(best_results, indent=4, default=str))"
   ]
  },
  {
   "cell_type": "code",
   "execution_count": 10,
   "id": "d1447725",
   "metadata": {},
   "outputs": [
    {
     "name": "stdout",
     "output_type": "stream",
     "text": [
      "['AB', 'DT', 'ET', 'GB', 'GNB', 'KN', 'LDA', 'LSVC', 'MNB', 'OC', 'OVO', 'OVR', 'PA', 'QDA', 'RF', 'SGD', 'SVC-L', 'SVC-LL', 'SVC-P', 'SVC-R', 'SVC-S', 'XGB']\n",
      "[0.8686131386861314, 0.0, 0.9708029197080292, 0.0, 0.8540145985401459, 0.8759124087591241, 0.0, 0.8759124087591241, 0.8759124087591241, 0.0, 0.0, 0.0, 0.0, 0.8759124087591241, 0.9927007299270073, 0.0, 0.8759124087591241, 0.0, 0.0, 0.8759124087591241, 0.8759124087591241, 0.9854014598540146]\n"
     ]
    },
    {
     "data": {
      "image/png": "[encoded data removed]",
      "text/plain": [
       "<Figure size 1152x648 with 1 Axes>"
      ]
     },
     "metadata": {
      "needs_background": "light"
     },
     "output_type": "display_data"
    }
   ],
   "source": [
    "names = list(best_results.keys())\n",
    "print(names)\n",
    "values = list(x[0] for x in best_results.values())\n",
    "print(values)\n",
    "\n",
    "plt.figure(figsize=(16,9))\n",
    "idx = 0\n",
    "for i in range(len(best_results.keys())):\n",
    "    plt.bar(names[i],values[i])\n",
    "    plt.text(idx-0.1,values[i]+0.01,f'{100*values[i]:.1f}%')\n",
    "    idx += 1\n",
    "plt.axhline(np.mean(values), color='black', linestyle='--')\n",
    "plt.xticks(rotation=45, ha='right')\n",
    "plt.xticks(range(0,len(best_results)),names)\n",
    "plt.yticks(np.linspace(0,1,11))\n",
    "plt.ylim(0,1.05)\n",
    "plt.show()"
   ]
  },
  {
   "cell_type": "code",
   "execution_count": 11,
   "id": "dd064505",
   "metadata": {},
   "outputs": [
    {
     "name": "stdout",
     "output_type": "stream",
     "text": [
      "Execution finished at 2022-03-03 22:55:26.\n"
     ]
    }
   ],
   "source": [
    "print(f\"Execution finished at {datetime.now().strftime('%Y-%m-%d %H:%M:%S')}.\")"
   ]
  }
 ],
 "metadata": {
  "accelerator": "GPU",
  "colab": {
   "name": "IoT23 - DNN Opt.ipynb",
   "provenance": []
  },
  "kernelspec": {
   "display_name": "Python 3 (ipykernel)",
   "language": "python",
   "name": "python3"
  },
  "language_info": {
   "codemirror_mode": {
    "name": "ipython",
    "version": 3
   },
   "file_extension": ".py",
   "mimetype": "text/x-python",
   "name": "python",
   "nbconvert_exporter": "python",
   "pygments_lexer": "ipython3",
   "version": "3.9.7"
  }
 },
 "nbformat": 4,
 "nbformat_minor": 5
}
