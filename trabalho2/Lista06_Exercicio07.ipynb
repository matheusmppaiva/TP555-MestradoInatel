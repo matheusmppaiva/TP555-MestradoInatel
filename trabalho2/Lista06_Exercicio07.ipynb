{
  "nbformat": 4,
  "nbformat_minor": 0,
  "metadata": {
    "colab": {
      "provenance": []
    },
    "kernelspec": {
      "name": "python3",
      "display_name": "Python 3"
    },
    "language_info": {
      "name": "python"
    }
  },
  "cells": [
    {
      "cell_type": "markdown",
      "source": [
        "##Exercicio 07 - Lista 06"
      ],
      "metadata": {
        "id": "R_EXQVFr8UKZ"
      }
    },
    {
      "cell_type": "code",
      "execution_count": null,
      "metadata": {
        "id": "pImGHXIr_P7c"
      },
      "outputs": [],
      "source": [
        "# Import all necessary libraries.\n",
        "import numpy as np\n",
        "import matplotlib.pyplot as plt\n",
        "from matplotlib.colors import ListedColormap\n",
        "from sklearn.neighbors import KNeighborsClassifier\n",
        "from sklearn.model_selection import train_test_split\n",
        "from sklearn.datasets import make_blobs\n",
        "from sklearn.metrics import confusion_matrix, accuracy_score, roc_curve, auc, classification_report\n",
        "import seaborn as sns\n",
        "from scipy.special import erfc"
      ]
    },
    {
      "cell_type": "code",
      "source": [
        "seed = 42\n",
        "np.random.seed(seed)"
      ],
      "metadata": {
        "id": "e7jpnak5B8_u"
      },
      "execution_count": null,
      "outputs": []
    },
    {
      "cell_type": "code",
      "source": [
        "mapping_table = [-3-3j, -3-1j, -3+3j, -3+1j, -1-3j, -1-1j, -1+3j, -1+1j, 3-3j, 3-1j, 3+3j, 3+1j, 1-3j,\n",
        "1-1j, 1+3j, 1+1j]\n",
        "def mod(bits):\n",
        "  symbols = np.zeros((len(bits),),dtype=complex)\n",
        "  for i in range(0,len(bits)): symbols[i] = mapping_table[bits[i]]/np.sqrt(10)\n",
        "  return symbols"
      ],
      "metadata": {
        "id": "o1w3QGPWCDuH"
      },
      "execution_count": null,
      "outputs": []
    },
    {
      "cell_type": "code",
      "source": [
        "# Generate N 4-bit symbols.\n",
        "N = 100000\n",
        "bits = np.random.randint(0,16,N)\n",
        "# Modulate the binary stream into 16QAM symbols.\n",
        "symbols = mod(bits)"
      ],
      "metadata": {
        "id": "UiLvdITzCOZo"
      },
      "execution_count": null,
      "outputs": []
    },
    {
      "cell_type": "code",
      "source": [
        "#Create Es/N0 vector\n",
        "\n",
        "EsN0dB = np.arange(0,22,2)\n",
        "\n",
        "ser_simu = np.zeros(len(EsN0dB))\n",
        "ser_theo = np.zeros(len(EsN0dB))\n",
        "\n",
        "\n",
        "#Passando os símbolos através de um canal AWGN\n",
        "for idx in range(0,len(EsN0dB)):\n",
        "    print('Es/N0 dB:', EsN0dB[idx])\n",
        "    \n",
        "    EsN0Lin = 10.0**(-(EsN0dB[idx]/10.0))\n",
        "    noise = np.sqrt(1.0/2.0)*(np.random.randn(N, 1) + 1j*np.random.randn(N, 1))\n",
        "    noise = np.sqrt(EsN0Lin)*noise\n",
        "\n",
        "    yn = []\n",
        "    error = 0\n",
        "\n",
        "    for i in range(0, N):\n",
        "        yn.append(symbols[i] + noise[i])\n",
        "\n",
        "    Yn = np.array(yn)\n",
        "    ynr = Yn.real\n",
        "    yni = Yn.imag\n",
        "    \n",
        "    Ynoise = np.c_[ynr, yni]\n",
        "    \n",
        "    y = np.array(symbols)\n",
        "    yr = y.real\n",
        "    yi = y.imag\n",
        "    Y = np.c_[yr, yi]\n",
        "    \n",
        "    clf = KNeighborsClassifier(10, weights='distance')\n",
        "\n",
        "    clf.fit(Y, bits)\n",
        "\n",
        "    bits_pred = clf.predict(Ynoise)\n",
        "    bits_pred = bits_pred.reshape(N,1)\n",
        "\n",
        "    error=0\n",
        "    \n",
        "    for i in range(0,N):\n",
        "        if(bits_pred[i] == bits[i]):\n",
        "            error = error\n",
        "        else:\n",
        "            error = error + 1\n",
        "    \n",
        "    ser_simu[idx] = 1.0 * error / N\n",
        "    print(error)\n",
        "    print(ser_simu)\n",
        "\n",
        "    M = 16\n",
        "    k = np.sqrt(3/(2*(M-1)))\n",
        "\n",
        "    ser_theo[idx] = (2*(1-(1/np.sqrt(M)))*erfc(k*np.sqrt(10.0**(EsN0dB[idx]/10.0))))-((1-(2/np.sqrt(M))+(1/M))*erfc(k*np.sqrt(10.0**(EsN0dB[idx]/10.0)))**2)"
      ],
      "metadata": {
        "colab": {
          "base_uri": "https://localhost:8080/"
        },
        "id": "VBo2IQ3I4_-V",
        "outputId": "e47150bf-78cb-49fe-9100-7f888c150999"
      },
      "execution_count": null,
      "outputs": [
        {
          "output_type": "stream",
          "name": "stdout",
          "text": [
            "Es/N0 dB: 0\n",
            "74014\n",
            "[0.74014 0.      0.      0.      0.      0.      0.      0.      0.\n",
            " 0.      0.     ]\n",
            "Es/N0 dB: 2\n",
            "67719\n",
            "[0.74014 0.67719 0.      0.      0.      0.      0.      0.      0.\n",
            " 0.      0.     ]\n",
            "Es/N0 dB: 4\n",
            "59299\n",
            "[0.74014 0.67719 0.59299 0.      0.      0.      0.      0.      0.\n",
            " 0.      0.     ]\n",
            "Es/N0 dB: 6\n",
            "48004\n",
            "[0.74014 0.67719 0.59299 0.48004 0.      0.      0.      0.      0.\n",
            " 0.      0.     ]\n",
            "Es/N0 dB: 8\n",
            "35433\n",
            "[0.74014 0.67719 0.59299 0.48004 0.35433 0.      0.      0.      0.\n",
            " 0.      0.     ]\n",
            "Es/N0 dB: 10\n",
            "22196\n",
            "[0.74014 0.67719 0.59299 0.48004 0.35433 0.22196 0.      0.      0.\n",
            " 0.      0.     ]\n",
            "Es/N0 dB: 12\n",
            "10912\n",
            "[0.74014 0.67719 0.59299 0.48004 0.35433 0.22196 0.10912 0.      0.\n",
            " 0.      0.     ]\n",
            "Es/N0 dB: 14\n",
            "3681\n",
            "[0.74014 0.67719 0.59299 0.48004 0.35433 0.22196 0.10912 0.03681 0.\n",
            " 0.      0.     ]\n",
            "Es/N0 dB: 16\n",
            "729\n",
            "[0.74014 0.67719 0.59299 0.48004 0.35433 0.22196 0.10912 0.03681 0.00729\n",
            " 0.      0.     ]\n",
            "Es/N0 dB: 18\n",
            "63\n",
            "[7.4014e-01 6.7719e-01 5.9299e-01 4.8004e-01 3.5433e-01 2.2196e-01\n",
            " 1.0912e-01 3.6810e-02 7.2900e-03 6.3000e-04 0.0000e+00]\n",
            "Es/N0 dB: 20\n",
            "2\n",
            "[7.4014e-01 6.7719e-01 5.9299e-01 4.8004e-01 3.5433e-01 2.2196e-01\n",
            " 1.0912e-01 3.6810e-02 7.2900e-03 6.3000e-04 2.0000e-05]\n"
          ]
        }
      ]
    },
    {
      "cell_type": "code",
      "source": [
        "fig = plt.figure(figsize=(10,10))\n",
        "\n",
        "plt.plot(EsN0dB, ser_theo, label='theoretical')\n",
        "plt.plot(EsN0dB, ser_simu, 'g*', label='simulated')\n",
        "\n",
        "plt.xscale('linear')\n",
        "plt.yscale('log')\n",
        "\n",
        "plt.xlabel('Es/N0 [dB]')\n",
        "plt.ylabel('SER')\n",
        "\n",
        "plt.grid(True)\n",
        "\n",
        "plt.title('Detecção M-QAM')\n",
        "\n",
        "plt.legend()\n",
        "\n",
        "\n",
        "plt.show()"
      ],
      "metadata": {
        "colab": {
          "base_uri": "https://localhost:8080/",
          "height": 621
        },
        "id": "nk3w0OI56jMy",
        "outputId": "335fc095-d929-4b13-d5d5-66e266ff18ac"
      },
      "execution_count": null,
      "outputs": [
        {
          "output_type": "display_data",
          "data": {
            "text/plain": [
              "<Figure size 720x720 with 1 Axes>"
            ],
            "image/png": "[encoded data removed]"
          },
          "metadata": {
            "needs_background": "light"
          }
        }
      ]
    },
    {
      "cell_type": "markdown",
      "source": [
        "###De acordo com as informações no gráfico acima, é possível verificar que a curva obtida pelos dados simulados é semelhante a curva teórica."
      ],
      "metadata": {
        "id": "nPgwibfL68GJ"
      }
    }
  ]
}